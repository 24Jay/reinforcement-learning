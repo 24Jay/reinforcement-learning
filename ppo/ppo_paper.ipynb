{
 "cells": [
  {
   "cell_type": "markdown",
   "id": "7598da2c-2e72-4d40-8e69-85c0bc3129ec",
   "metadata": {},
   "source": [
    "## PPO\n",
    "\n",
    "[Paper: Proximal Policy Optimization](https://arxiv.org/pdf/1707.06347)\n",
    "\n",
    "\n",
    "https://www.youtube.com/watch?v=k2pD3k1485A\n"
   ]
  },
  {
   "cell_type": "code",
   "execution_count": 3,
   "id": "88e88069-aedc-4686-841d-e15f49d4d667",
   "metadata": {},
   "outputs": [],
   "source": [
    "import torch"
   ]
  },
  {
   "cell_type": "code",
   "execution_count": 11,
   "id": "17d3423d-5138-42bf-9c40-b7904b112ba4",
   "metadata": {},
   "outputs": [
    {
     "data": {
      "text/plain": [
       "tensor([0., 1., 2., 3., 4., 5., 6., 7., 8., 9.])"
      ]
     },
     "execution_count": 11,
     "metadata": {},
     "output_type": "execute_result"
    }
   ],
   "source": [
    "t = torch.tensor(list(range(10)), dtype=torch.float32)\n",
    "t"
   ]
  },
  {
   "cell_type": "code",
   "execution_count": 12,
   "id": "e4045667-74b7-4652-b3b6-f59f38331299",
   "metadata": {},
   "outputs": [
    {
     "data": {
      "text/plain": [
       "torch.float32"
      ]
     },
     "execution_count": 12,
     "metadata": {},
     "output_type": "execute_result"
    }
   ],
   "source": [
    "t.dtype"
   ]
  },
  {
   "cell_type": "code",
   "execution_count": null,
   "id": "f1364f9c-f3b7-41aa-8d6d-abf62431488c",
   "metadata": {},
   "outputs": [],
   "source": []
  }
 ],
 "metadata": {
  "kernelspec": {
   "display_name": "rl",
   "language": "python",
   "name": "rl"
  },
  "language_info": {
   "codemirror_mode": {
    "name": "ipython",
    "version": 3
   },
   "file_extension": ".py",
   "mimetype": "text/x-python",
   "name": "python",
   "nbconvert_exporter": "python",
   "pygments_lexer": "ipython3",
   "version": "3.12.9"
  }
 },
 "nbformat": 4,
 "nbformat_minor": 5
}

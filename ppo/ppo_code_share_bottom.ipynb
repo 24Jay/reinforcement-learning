{
 "cells": [
  {
   "cell_type": "code",
   "execution_count": 2,
   "id": "f4618603-83c4-4b3f-a8ab-8df9c1e07960",
   "metadata": {
    "editable": true,
    "slideshow": {
     "slide_type": ""
    },
    "tags": []
   },
   "outputs": [
    {
     "name": "stdin",
     "output_type": "stream",
     "text": [
      "Once deleted, variables cannot be recovered. Proceed (y/[n])?  y\n"
     ]
    }
   ],
   "source": [
    "%reset\n",
    "%matplotlib notebook"
   ]
  },
  {
   "cell_type": "markdown",
   "id": "de249942-29e3-41a1-8ec8-70f503b65552",
   "metadata": {},
   "source": [
    "## 5. Algorithm\n",
    "1. 很多算法为了降低优势函数的估计误差都会学习状态值函数$v(s)$，因此可以使用actor和critic共享的架构，例如:\n",
    "    - [High-Dimensional Continuous Control Using Generalized Advantage Estimation\n",
    "](https://arxiv.org/abs/1506.02438)\n",
    "    - [Asynchronous Methods for Deep Reinforcement Learning](https://arxiv.org/abs/1602.01783)\n",
    "2. 为了保证算法探索性能可以增加entropy bonus\n",
    "\n",
    "$$L_t^{CLIP + VF + S}(\\theta) = \\mathbb{\\hat{E}}_t[L_t^{CLIP}(\\theta)- c_1L_t^{VF}(\\theta) + c_2S[\\pi_{\\theta}](s_t)]$$\n",
    "其中$L_t^{VF}(\\theta) = (V_{\\theta}(s_t) - V_t^{target})^2$\n",
    "\n",
    "3. 有些PG算法runs the policy for $T$ timesteps，使用以下优势函数：\n",
    "$$\\hat{A}_t = r_t + \\gamma r_{t+1} + ... + \\gamma ^{T-t+1}r_{T-1} + \\gamma ^{T-t}V(s_T) - V(s_t)$$"
   ]
  },
  {
   "cell_type": "code",
   "execution_count": 3,
   "id": "50da998b-ae98-4f99-af53-5e4edc5a280d",
   "metadata": {},
   "outputs": [],
   "source": [
    "import gymnasium as gym\n",
    "import matplotlib.pyplot as plt\n",
    "import torch\n",
    "import torch.nn as nn\n",
    "import torch.nn.functional as F\n",
    "from tqdm.notebook import tqdm\n",
    "import numpy as np\n",
    "from torch.utils.tensorboard import SummaryWriter\n",
    "import datetime\n",
    "import random"
   ]
  },
  {
   "cell_type": "code",
   "execution_count": 4,
   "id": "aeffa910-d4f0-4405-b6fe-193e85b9c76a",
   "metadata": {},
   "outputs": [],
   "source": [
    "# from tensorboard import notebook\n",
    "\n",
    "# # 初始化 SummaryWriter，日志将保存在'runs'目录下\n",
    "# writer = SummaryWriter(f\"./logs/{datetime.datetime.now()}\")\n",
    "\n",
    "# # 启动 TensorBoard 并指定日志目录\n",
    "# notebook.start(\"--logdir runs\")\n",
    "\n",
    "# # 可选：创建一个链接直接跳转到 TensorBoard 界面\n",
    "# # notebook.display(height=400)"
   ]
  },
  {
   "cell_type": "code",
   "execution_count": 5,
   "id": "6ab30af3",
   "metadata": {},
   "outputs": [],
   "source": [
    "# %matplotlib qt5"
   ]
  },
  {
   "cell_type": "code",
   "execution_count": 83,
   "id": "7984d827-5006-4aab-b263-ad3657f90536",
   "metadata": {},
   "outputs": [],
   "source": [
    "\n",
    "\n",
    "class ActorCritic(nn.Module):\n",
    "    \"\"\"\n",
    "    normarlized ：bool是否加入LayerNorm\n",
    "    \"\"\"\n",
    "    def __init__(self, n_state, n_action, hidden_size = 64, normalized = True):\n",
    "        super(ActorCritic, self).__init__()        \n",
    "        self.normalized = normalized\n",
    "        \n",
    "        self.fc1 = torch.nn.Linear(n_state, hidden_size)\n",
    "        self.fc2 = torch.nn.Linear(hidden_size, hidden_size)\n",
    "        self.ln2 = torch.nn.LayerNorm(hidden_size)\n",
    "\n",
    "        self.fc_mean = torch.nn.Linear(hidden_size, n_action)\n",
    "        self.fc_std = torch.nn.Linear(hidden_size, n_action)\n",
    "        self.fc_critic = torch.nn.Linear(hidden_size, 1)\n",
    "\n",
    "    def forward(self, state):\n",
    "        x = self.fc1(state)\n",
    "\n",
    "        if self.normalized:\n",
    "        # if False:\n",
    "            x = self.ln2(self.fc2(F.relu(x)))\n",
    "        else:\n",
    "            x = self.fc2(F.relu(x))\n",
    "            \n",
    "        mu = torch.tanh(self.fc_mean(F.relu(x))) * 1.0\n",
    "        std = F.softplus(self.fc_std(F.relu(x))) #+ 0e-3\n",
    "        # std = torch.ones_like(mu) * 1.0  # 固定标准差，增强探索\n",
    "\n",
    "        critic = self.fc_critic(F.relu(x))\n",
    "        return mu, std, critic\n",
    "\n",
    "\n",
    "def compute_advantage(gamma, lmbda, td_delta):\n",
    "    td_delta = td_delta.detach().numpy()\n",
    "    advantage_list = []\n",
    "    advantage = 0.0\n",
    "    for delta in td_delta[::-1]:\n",
    "        advantage = gamma * lmbda * advantage + delta\n",
    "        advantage_list.append(advantage)\n",
    "    advantage_list.reverse()\n",
    "    return torch.tensor(advantage_list, dtype=torch.float)\n",
    "\n",
    "\n",
    "class PPOContinuous(nn.Module):\n",
    "\n",
    "    def __init__(self, n_state, n_action, n_hidden = 64, \\\n",
    "                 actor_lr=1e-4, critic_lr=1e-4, lmbda=0.1, epochs=10, eps=0.05, gamma=1.0, device=\"cpu\"):\n",
    "        super(PPOContinuous, self).__init__()\n",
    "        print(f\"{n_state=}, {n_action=}, {n_hidden=}\")\n",
    "\n",
    "        self.actor_critc = ActorCritic(n_state, n_action, hidden_size=n_hidden)\n",
    "        self.opt = torch.optim.Adam(self.actor_critc.parameters(), lr = actor_lr)\n",
    "        \n",
    "        self.lmbda = lmbda\n",
    "        self.gamma = gamma\n",
    "        self.eps = eps\n",
    "        self.epochs = epochs\n",
    "        self.device = device\n",
    "\n",
    "    def take_action(self, state):\n",
    "        state = torch.tensor([state], dtype=torch.float).to(self.device)\n",
    "        mu, std, _ = self.actor_critc(state)\n",
    "\n",
    "        action_dist = torch.distributions.Normal(mu, std)\n",
    "        action = action_dist.sample()\n",
    "        return [action.item()]\n",
    "        \n",
    "\n",
    "    def update(self, transition_dict):\n",
    "        states = torch.tensor(transition_dict['states'], dtype=torch.float).to(self.device)\n",
    "        actions = torch.tensor(transition_dict['actions']).view(-1, 1).to(self.device)\n",
    "        rewards = torch.tensor(transition_dict['rewards'], dtype=torch.float).view(-1, 1).to(self.device)\n",
    "        next_states = torch.tensor(transition_dict['next_states'], dtype=torch.float).to(self.device)\n",
    "        dones = torch.tensor(transition_dict['dones'], dtype=torch.float).view(-1, 1).to(self.device) \n",
    "\n",
    "        _, _, next_state_critic = self.actor_critc(next_states)\n",
    "        td_target = rewards + self.gamma * next_state_critic * (1 - dones)\n",
    "\n",
    "        mu, std, state_critic = self.actor_critc(states)\n",
    "        td_delta = td_target - state_critic\n",
    "        \n",
    "        advantage = compute_advantage(self.gamma, self.lmbda, td_delta)\n",
    "\n",
    "        action_dist = torch.distributions.Normal(mu.detach(), std.detach())\n",
    "        old_log_probs = action_dist.log_prob(actions)\n",
    "\n",
    "        for _ in range(self.epochs):\n",
    "            mu, std, critic = self.actor_critc(states)\n",
    "\n",
    "            action_dists = torch.distributions.Normal(mu, std)\n",
    "            log_probs = action_dists.log_prob(actions)\n",
    "            action_dist_entropy = action_dists.entropy().sum(dim=-1).mean()\n",
    "\n",
    "            # print(action_dist_entropy)\n",
    "\n",
    "            ratio = torch.exp(log_probs - old_log_probs)\n",
    "            # ratio = torch.clamp(ratio, min=-1e6, max=1e6)\n",
    "            l1 = ratio * advantage\n",
    "            l2 = torch.clamp(ratio, 1 - self.eps, 1 + self.eps) * advantage\n",
    "            l3 = - torch.min(l1, l2)\n",
    "\n",
    "            actor_loss = torch.mean(l3)\n",
    "            critic_loss = torch.mean(F.mse_loss(critic, td_target.detach()))\n",
    "\n",
    "            loss = actor_loss + 1 * critic_loss - 0.1 * action_dist_entropy\n",
    "\n",
    "            self.opt.zero_grad()\n",
    "            loss.backward()\n",
    "            self.opt.step()\n",
    "        # print(f\"====actor_loss: {actor_loss.detach().item()}, critic_loss: {critic_loss.detach().item()}, entropy:{action_dist_entropy.detach().item()}\")\n",
    "        "
   ]
  },
  {
   "cell_type": "code",
   "execution_count": 87,
   "id": "33071044-9c76-4f06-8f27-1e9bc44e5c0e",
   "metadata": {},
   "outputs": [
    {
     "name": "stdout",
     "output_type": "stream",
     "text": [
      "state space: [-0.30289724 -0.05871678]\n",
      "action space: Box(-1.0, 1.0, (1,), float32)\n",
      "n_state=2, n_action=1, n_hidden=128\n"
     ]
    }
   ],
   "source": [
    "actor_lr = 1e-3\n",
    "critic_lr = 1e-3\n",
    "num_episodes = 1000\n",
    "hidden = 128\n",
    "\n",
    "device = \"cpu\"\n",
    "env_name = \"MountainCarContinuous-v0\"\n",
    "# env_name = \"Pendulum-v1\"\n",
    "\n",
    "\n",
    "env = gym.make(env_name)\n",
    "torch.manual_seed(0)\n",
    "print(f\"state space:\" , env.observation_space.sample())\n",
    "print(f\"action space: {env.action_space}\")\n",
    "state_dim = env.observation_space.shape[0]\n",
    "action_dim = env.action_space.shape[0]\n",
    "\n",
    "agent = PPOContinuous(n_state=state_dim, n_action=action_dim, n_hidden=hidden,actor_lr=actor_lr, critic_lr=critic_lr)"
   ]
  },
  {
   "cell_type": "code",
   "execution_count": 88,
   "id": "b0e116f6-b5d9-411f-8a21-ce736125d39f",
   "metadata": {},
   "outputs": [
    {
     "data": {
      "application/vnd.jupyter.widget-view+json": {
       "model_id": "fd22cd5d81e84e2ba77a6ac69924d862",
       "version_major": 2,
       "version_minor": 0
      },
      "text/plain": [
       "###0 : 0 :   0%|          | 0/100 [00:00<?, ?it/s]"
      ]
     },
     "metadata": {},
     "output_type": "display_data"
    },
    {
     "data": {
      "application/vnd.jupyter.widget-view+json": {
       "model_id": "462dc938fa814037aafa324745cf8d19",
       "version_major": 2,
       "version_minor": 0
      },
      "text/plain": [
       "###1 : -87.99591980738128 :   0%|          | 0/100 [00:00<?, ?it/s]"
      ]
     },
     "metadata": {},
     "output_type": "display_data"
    },
    {
     "data": {
      "application/vnd.jupyter.widget-view+json": {
       "model_id": "a1ad3ae92e8d4f19a7c4e72e0cf39144",
       "version_major": 2,
       "version_minor": 0
      },
      "text/plain": [
       "###2 : -80.46781559937745 :   0%|          | 0/100 [00:00<?, ?it/s]"
      ]
     },
     "metadata": {},
     "output_type": "display_data"
    },
    {
     "data": {
      "application/vnd.jupyter.widget-view+json": {
       "model_id": "936ba31486a9402fb2b689f03d4e4895",
       "version_major": 2,
       "version_minor": 0
      },
      "text/plain": [
       "###3 : -67.38634073687103 :   0%|          | 0/100 [00:00<?, ?it/s]"
      ]
     },
     "metadata": {},
     "output_type": "display_data"
    },
    {
     "data": {
      "application/vnd.jupyter.widget-view+json": {
       "model_id": "59b71b10d60247fcbfa4d4288ce44f91",
       "version_major": 2,
       "version_minor": 0
      },
      "text/plain": [
       "###4 : -69.76460552458866 :   0%|          | 0/100 [00:00<?, ?it/s]"
      ]
     },
     "metadata": {},
     "output_type": "display_data"
    },
    {
     "data": {
      "application/vnd.jupyter.widget-view+json": {
       "model_id": "8ac93a0856bd4ca48532f4ad4d472828",
       "version_major": 2,
       "version_minor": 0
      },
      "text/plain": [
       "###5 : -76.57540007646169 :   0%|          | 0/100 [00:00<?, ?it/s]"
      ]
     },
     "metadata": {},
     "output_type": "display_data"
    },
    {
     "data": {
      "application/vnd.jupyter.widget-view+json": {
       "model_id": "14b91f7afbc543eea9ac52204e938fc9",
       "version_major": 2,
       "version_minor": 0
      },
      "text/plain": [
       "###6 : 33.19650066280326 :   0%|          | 0/100 [00:00<?, ?it/s]"
      ]
     },
     "metadata": {},
     "output_type": "display_data"
    },
    {
     "data": {
      "application/vnd.jupyter.widget-view+json": {
       "model_id": "eb554338bb4a422db2df9f4e855263eb",
       "version_major": 2,
       "version_minor": 0
      },
      "text/plain": [
       "###7 : 93.84515884415795 :   0%|          | 0/100 [00:00<?, ?it/s]"
      ]
     },
     "metadata": {},
     "output_type": "display_data"
    },
    {
     "data": {
      "application/vnd.jupyter.widget-view+json": {
       "model_id": "2ffced982820443fa48c075244b311f1",
       "version_major": 2,
       "version_minor": 0
      },
      "text/plain": [
       "###8 : 87.42754209744851 :   0%|          | 0/100 [00:00<?, ?it/s]"
      ]
     },
     "metadata": {},
     "output_type": "display_data"
    },
    {
     "data": {
      "application/vnd.jupyter.widget-view+json": {
       "model_id": "119bd470ae424ec6a1eb25ce6effb7c3",
       "version_major": 2,
       "version_minor": 0
      },
      "text/plain": [
       "###9 : 78.26602288614048 :   0%|          | 0/100 [00:00<?, ?it/s]"
      ]
     },
     "metadata": {},
     "output_type": "display_data"
    }
   ],
   "source": [
    "def train_on_policy_agent(env, agent, num_episodes):\n",
    "    return_list = []\n",
    "    episode_return = 0\n",
    "\n",
    "    for epoch in range(num_episodes//100):\n",
    "    \n",
    "        for i in tqdm(range(100), position=0, desc=f\"###{epoch} : {episode_return} \"):\n",
    "            episode_return = 0\n",
    "            transition_dict = {'states': [], 'actions': [], 'next_states': [], 'rewards': [], 'dones': []}\n",
    "            state, _ = env.reset()\n",
    "            done , truncated = False, False\n",
    "            while not done and not truncated:\n",
    "                action = agent.take_action(state)\n",
    "                next_state, reward, done, truncated, info = env.step(action)\n",
    "    \n",
    "                transition_dict['states'].append(state)\n",
    "                transition_dict['actions'].append(action)\n",
    "                transition_dict['next_states'].append(next_state)\n",
    "                transition_dict['rewards'].append(reward)\n",
    "                transition_dict['dones'].append(done)\n",
    "                state = next_state\n",
    "                episode_return += reward\n",
    "            return_list.append(episode_return)\n",
    "            agent.update(transition_dict)\n",
    "\n",
    "\n",
    "    return return_list\n",
    "        \n",
    "return_list = train_on_policy_agent(env, agent, num_episodes)"
   ]
  },
  {
   "cell_type": "code",
   "execution_count": 89,
   "id": "6fad1a54-cf7c-4062-b51c-8687380251e9",
   "metadata": {},
   "outputs": [
    {
     "data": {
      "image/png": "[encoded data removed]",
      "text/plain": [
       "<Figure size 640x480 with 1 Axes>"
      ]
     },
     "metadata": {},
     "output_type": "display_data"
    }
   ],
   "source": [
    "%matplotlib inline\n",
    "\n",
    "plt.plot(return_list)\n",
    "plt.show()"
   ]
  },
  {
   "cell_type": "code",
   "execution_count": 78,
   "id": "dd2750bc-4eb2-4a62-8c79-db79cbaf36e5",
   "metadata": {},
   "outputs": [
    {
     "name": "stdout",
     "output_type": "stream",
     "text": [
      "Warning: Cannot change to a different GUI toolkit: qt5. Using nbagg instead.\n",
      "Starting observation: [-0.52407646  0.        ]\n",
      "Episode finished! Total reward: 83.1025960048346\n"
     ]
    }
   ],
   "source": [
    "%matplotlib qt5\n",
    "\n",
    "def test_agent(agent, env_name):\n",
    "    env = gym.make(env_name, render_mode=\"human\")\n",
    "\n",
    "    state, info = env.reset()\n",
    "\n",
    "    print(f\"Starting observation: {state}\")\n",
    "\n",
    "    episode_over = False\n",
    "    total_reward = 0\n",
    "    action_list = []\n",
    "\n",
    "    while not episode_over:\n",
    "        action = agent.take_action(state)\n",
    "        state, reward, terminated, truncated, info = env.step(action)\n",
    "        total_reward += reward\n",
    "        episode_over = terminated or truncated\n",
    "        # print(f\"{action=}\")\n",
    "        action_list.append(action)\n",
    "\n",
    "    print(f\"Episode finished! Total reward: {total_reward}\")\n",
    "    env.close()\n",
    "    return action_list\n",
    "    \n",
    "\n",
    "action_list = test_agent(agent, env_name)"
   ]
  },
  {
   "cell_type": "code",
   "execution_count": 62,
   "id": "93a2a1a2-d131-4eb0-8539-debdb5f56c4b",
   "metadata": {},
   "outputs": [],
   "source": [
    "plt.hist(action_list, bins=30, density=True, alpha=0.7)\n",
    "plt.show()"
   ]
  },
  {
   "cell_type": "code",
   "execution_count": null,
   "id": "ec08a19c-d243-47c1-8e83-dfc2a2d1684b",
   "metadata": {},
   "outputs": [],
   "source": []
  }
 ],
 "metadata": {
  "kernelspec": {
   "display_name": "rl",
   "language": "python",
   "name": "rl"
  },
  "language_info": {
   "codemirror_mode": {
    "name": "ipython",
    "version": 3
   },
   "file_extension": ".py",
   "mimetype": "text/x-python",
   "name": "python",
   "nbconvert_exporter": "python",
   "pygments_lexer": "ipython3",
   "version": "3.12.9"
  }
 },
 "nbformat": 4,
 "nbformat_minor": 5
}

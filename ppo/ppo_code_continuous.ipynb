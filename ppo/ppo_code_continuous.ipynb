{
 "cells": [
  {
   "cell_type": "code",
   "execution_count": 38,
   "id": "03f965e2-dbc3-4af2-8bc4-f46d2a659b85",
   "metadata": {},
   "outputs": [
    {
     "name": "stdout",
     "output_type": "stream",
     "text": [
      "Nothing done.\n"
     ]
    }
   ],
   "source": [
    "%matplotlib notebook\n",
    "%reset"
   ]
  },
  {
   "cell_type": "code",
   "execution_count": 2,
   "id": "50da998b-ae98-4f99-af53-5e4edc5a280d",
   "metadata": {},
   "outputs": [],
   "source": [
    "import gymnasium as gym\n",
    "import matplotlib.pyplot as plt\n",
    "import torch\n",
    "import torch.nn as nn\n",
    "import torch.nn.functional as F\n",
    "from tqdm.notebook import tqdm\n",
    "import numpy as np\n",
    "from torch.utils.tensorboard import SummaryWriter\n",
    "import datetime"
   ]
  },
  {
   "cell_type": "code",
   "execution_count": 3,
   "id": "aeffa910-d4f0-4405-b6fe-193e85b9c76a",
   "metadata": {},
   "outputs": [],
   "source": [
    "# from tensorboard import notebook\n",
    "\n",
    "# # 初始化 SummaryWriter，日志将保存在'runs'目录下\n",
    "# writer = SummaryWriter(f\"./logs/{datetime.datetime.now()}\")\n",
    "\n",
    "# # 启动 TensorBoard 并指定日志目录\n",
    "# notebook.start(\"--logdir runs\")\n",
    "\n",
    "# # 可选：创建一个链接直接跳转到 TensorBoard 界面\n",
    "# # notebook.display(height=400)"
   ]
  },
  {
   "cell_type": "code",
   "execution_count": 3,
   "id": "6ab30af3",
   "metadata": {},
   "outputs": [],
   "source": [
    "%matplotlib qt5"
   ]
  },
  {
   "cell_type": "code",
   "execution_count": 4,
   "id": "7984d827-5006-4aab-b263-ad3657f90536",
   "metadata": {},
   "outputs": [],
   "source": [
    "class Actor(nn.Module):\n",
    "    def __init__(self, n_state, n_action, hidden_size = 64):\n",
    "        super(Actor, self).__init__()\n",
    "        \n",
    "        self.fc1 = torch.nn.Linear(n_state, hidden_size)\n",
    "        self.fc2 = torch.nn.Linear(hidden_size, hidden_size)\n",
    "        self.fc_mean = torch.nn.Linear(hidden_size, n_action)\n",
    "        self.fc_std = torch.nn.Linear(hidden_size, n_action)\n",
    "\n",
    "    def forward(self, state):\n",
    "        x = self.fc1(state)\n",
    "        x = self.fc2(F.relu(x))\n",
    "        mu = torch.tanh(self.fc_mean(F.relu(x))) * 1.0\n",
    "        std = F.softplus(self.fc_std(F.relu(x)))\n",
    "        return mu, std\n",
    "\n",
    "        \n",
    "class Critic(nn.Module):\n",
    "    def __init__(self, n_state, hidden_size=64):\n",
    "        super(Critic, self).__init__()\n",
    "\n",
    "        self.fc1 = torch.nn.Linear(n_state, hidden_size)\n",
    "        self.fc2 = torch.nn.Linear(hidden_size, hidden_size)\n",
    "        self.fc3 = torch.nn.Linear(hidden_size, 1)\n",
    "\n",
    "    def forward(self, state):\n",
    "        x = self.fc1(state)\n",
    "        x = self.fc2(F.relu(x))\n",
    "        x = self.fc3(F.relu(x))\n",
    "        return x\n",
    "\n",
    "\n",
    "def compute_advantage(gamma, lmbda, td_delta):\n",
    "    td_delta = td_delta.detach().numpy()\n",
    "    advantage_list = []\n",
    "    advantage = 0.0\n",
    "    for delta in td_delta[::-1]:\n",
    "        advantage = gamma * lmbda * advantage + delta\n",
    "        advantage_list.append(advantage)\n",
    "    advantage_list.reverse()\n",
    "    return torch.tensor(advantage_list, dtype=torch.float)\n",
    "\n",
    "class PPOContinuous(nn.Module):\n",
    "\n",
    "    def __init__(self, n_state, n_action, n_hidden = 64, actor_lr=1e-4, critic_lr=1e-4, lmbda=0.1, epochs=10, eps=0.01, gamma=0.99, device=\"cpu\"):\n",
    "        super(PPOContinuous, self).__init__()\n",
    "        print(f\"{n_state=}, {n_action=}, {n_hidden=}\")\n",
    "\n",
    "        self.actor = Actor(n_state, n_action, hidden_size=n_hidden)\n",
    "        self.actor_opt = torch.optim.Adam(self.actor.parameters(), lr = actor_lr)\n",
    "\n",
    "        self.critic = Critic(n_state, hidden_size=n_hidden)\n",
    "        self.critic_opt = torch.optim.Adam(self.critic.parameters(), lr = critic_lr)\n",
    "\n",
    "        self.lmbda = lmbda\n",
    "        self.gamma = gamma\n",
    "        self.eps = eps\n",
    "        self.epochs = epochs\n",
    "        self.device = device\n",
    "\n",
    "    def take_action(self, state):\n",
    "        state = torch.tensor([state], dtype=torch.float).to(self.device)\n",
    "        mu, std = self.actor(state)\n",
    "\n",
    "        action_dist = torch.distributions.Normal(mu, std)\n",
    "        action = action_dist.sample()\n",
    "        # print(action)\n",
    "        return [action.item()]\n",
    "        \n",
    "\n",
    "    def update(self, transition_dict):\n",
    "        states = torch.tensor(transition_dict['states'], dtype=torch.float).to(self.device)\n",
    "        actions = torch.tensor(transition_dict['actions']).view(-1, 1).to(self.device)\n",
    "        rewards = torch.tensor(transition_dict['rewards'], dtype=torch.float).view(-1, 1).to(self.device)\n",
    "        next_states = torch.tensor(transition_dict['next_states'], dtype=torch.float).to(self.device)\n",
    "        dones = torch.tensor(transition_dict['dones'], dtype=torch.float).view(-1, 1).to(self.device) \n",
    "\n",
    "        td_target = rewards + self.gamma * self.critic(next_states) * (1 - dones)\n",
    "        td_delta = td_target - self.critic(states)\n",
    "        \n",
    "        advantage = compute_advantage(self.gamma, self.lmbda, td_delta)\n",
    "\n",
    "        mu, std = self.actor(states)\n",
    "        action_dist = torch.distributions.Normal(mu.detach(), std.detach())\n",
    "        old_log_probs = action_dist.log_prob(actions)\n",
    "\n",
    "        for _ in range(self.epochs):\n",
    "            mu, std = self.actor(states)\n",
    "            action_dists = torch.distributions.Normal(mu, std)\n",
    "            log_probs = action_dists.log_prob(actions)\n",
    "\n",
    "            ratio = torch.exp(log_probs - old_log_probs)\n",
    "\n",
    "            l1 = ratio * advantage\n",
    "            l2 = torch.clamp(ratio, 1 - self.eps, 1 + self.eps) * advantage\n",
    "            l3 = - torch.min(l1, l2)\n",
    "\n",
    "            actor_loss = torch.mean(l3)\n",
    "            critic_loss = torch.mean(F.mse_loss(self.critic(states), td_target.detach()))\n",
    "\n",
    "            self.actor_opt.zero_grad()\n",
    "            self.critic_opt.zero_grad()\n",
    "            actor_loss.backward()\n",
    "            critic_loss.backward()\n",
    "            self.actor_opt.step()\n",
    "            self.critic_opt.step()\n",
    "        "
   ]
  },
  {
   "cell_type": "code",
   "execution_count": 9,
   "id": "33071044-9c76-4f06-8f27-1e9bc44e5c0e",
   "metadata": {},
   "outputs": [
    {
     "name": "stdout",
     "output_type": "stream",
     "text": [
      "state space: [-1.0480918  -0.05745233]\n",
      "action space: Box(-1.0, 1.0, (1,), float32)\n",
      "n_state=2, n_action=1, n_hidden=128\n"
     ]
    }
   ],
   "source": [
    "actor_lr = 1e-3\n",
    "critic_lr = 1e-2\n",
    "num_episodes = 500\n",
    "hidden = 128\n",
    "\n",
    "gamma = 0.98\n",
    "lmbda = 0.95\n",
    "epochs = 10\n",
    "eps = 0.2\n",
    "\n",
    "device = \"cpu\"\n",
    "env_name = \"MountainCarContinuous-v0\"\n",
    "# env_name = \"Pendulum-v1\"\n",
    "\n",
    "\n",
    "env = gym.make(env_name)\n",
    "torch.manual_seed(0)\n",
    "print(f\"state space:\" , env.observation_space.sample())\n",
    "print(f\"action space: {env.action_space}\")\n",
    "state_dim = env.observation_space.shape[0]\n",
    "action_dim = env.action_space.shape[0]\n",
    "\n",
    "agent = PPOContinuous(n_state=state_dim, n_action=action_dim, n_hidden=hidden,actor_lr=actor_lr, critic_lr=critic_lr)"
   ]
  },
  {
   "cell_type": "code",
   "execution_count": 13,
   "id": "b0e116f6-b5d9-411f-8a21-ce736125d39f",
   "metadata": {},
   "outputs": [
    {
     "data": {
      "application/vnd.jupyter.widget-view+json": {
       "model_id": "81cfb725a84f494c8031dd762908bfa8",
       "version_major": 2,
       "version_minor": 0
      },
      "text/plain": [
       "###0 : 0 :   0%|          | 0/10 [00:00<?, ?it/s]"
      ]
     },
     "metadata": {},
     "output_type": "display_data"
    },
    {
     "data": {
      "application/vnd.jupyter.widget-view+json": {
       "model_id": "ed2dddb7009342ed86bd63657c630dea",
       "version_major": 2,
       "version_minor": 0
      },
      "text/plain": [
       "###1 : -93.84133858334292 :   0%|          | 0/10 [00:00<?, ?it/s]"
      ]
     },
     "metadata": {},
     "output_type": "display_data"
    },
    {
     "data": {
      "application/vnd.jupyter.widget-view+json": {
       "model_id": "e70c6e1139b44f98b7a16a3b962b629e",
       "version_major": 2,
       "version_minor": 0
      },
      "text/plain": [
       "###2 : -92.39987013551166 :   0%|          | 0/10 [00:00<?, ?it/s]"
      ]
     },
     "metadata": {},
     "output_type": "display_data"
    },
    {
     "data": {
      "application/vnd.jupyter.widget-view+json": {
       "model_id": "47fb3b815ca444a9abf3ff9b45aa2a81",
       "version_major": 2,
       "version_minor": 0
      },
      "text/plain": [
       "###3 : -88.55647541766075 :   0%|          | 0/10 [00:00<?, ?it/s]"
      ]
     },
     "metadata": {},
     "output_type": "display_data"
    },
    {
     "data": {
      "application/vnd.jupyter.widget-view+json": {
       "model_id": "ffddc5f81a114b6e9cea09043c63a98b",
       "version_major": 2,
       "version_minor": 0
      },
      "text/plain": [
       "###4 : -80.43104085687393 :   0%|          | 0/10 [00:00<?, ?it/s]"
      ]
     },
     "metadata": {},
     "output_type": "display_data"
    },
    {
     "data": {
      "application/vnd.jupyter.widget-view+json": {
       "model_id": "b138b1b83f7e4d238085f5efbbb509b7",
       "version_major": 2,
       "version_minor": 0
      },
      "text/plain": [
       "###5 : -77.18342917274362 :   0%|          | 0/10 [00:00<?, ?it/s]"
      ]
     },
     "metadata": {},
     "output_type": "display_data"
    },
    {
     "data": {
      "application/vnd.jupyter.widget-view+json": {
       "model_id": "8ffb4420396c4de6b0bb2ab3536cf282",
       "version_major": 2,
       "version_minor": 0
      },
      "text/plain": [
       "###6 : -72.14911113487037 :   0%|          | 0/10 [00:00<?, ?it/s]"
      ]
     },
     "metadata": {},
     "output_type": "display_data"
    },
    {
     "data": {
      "application/vnd.jupyter.widget-view+json": {
       "model_id": "b20cfa585824446ebfb35cfbab98587e",
       "version_major": 2,
       "version_minor": 0
      },
      "text/plain": [
       "###7 : -71.7140634745839 :   0%|          | 0/10 [00:00<?, ?it/s]"
      ]
     },
     "metadata": {},
     "output_type": "display_data"
    },
    {
     "data": {
      "application/vnd.jupyter.widget-view+json": {
       "model_id": "c230f90e70424ad1abfb4317c982068e",
       "version_major": 2,
       "version_minor": 0
      },
      "text/plain": [
       "###8 : -70.4080494939098 :   0%|          | 0/10 [00:00<?, ?it/s]"
      ]
     },
     "metadata": {},
     "output_type": "display_data"
    },
    {
     "data": {
      "application/vnd.jupyter.widget-view+json": {
       "model_id": "6c41536d941d4b758f6805386c3a02f8",
       "version_major": 2,
       "version_minor": 0
      },
      "text/plain": [
       "###9 : -62.22980941862138 :   0%|          | 0/10 [00:00<?, ?it/s]"
      ]
     },
     "metadata": {},
     "output_type": "display_data"
    },
    {
     "data": {
      "application/vnd.jupyter.widget-view+json": {
       "model_id": "1cb38ec83e914f8c878e0c17128600e6",
       "version_major": 2,
       "version_minor": 0
      },
      "text/plain": [
       "###10 : -57.879411668363744 :   0%|          | 0/10 [00:00<?, ?it/s]"
      ]
     },
     "metadata": {},
     "output_type": "display_data"
    },
    {
     "data": {
      "application/vnd.jupyter.widget-view+json": {
       "model_id": "5e654d7e660b46da906183e673fc7b2f",
       "version_major": 2,
       "version_minor": 0
      },
      "text/plain": [
       "###11 : -59.87772323753635 :   0%|          | 0/10 [00:00<?, ?it/s]"
      ]
     },
     "metadata": {},
     "output_type": "display_data"
    },
    {
     "data": {
      "application/vnd.jupyter.widget-view+json": {
       "model_id": "2da615c5ddc6439b877470cde08e70c8",
       "version_major": 2,
       "version_minor": 0
      },
      "text/plain": [
       "###12 : -58.677413395246205 :   0%|          | 0/10 [00:00<?, ?it/s]"
      ]
     },
     "metadata": {},
     "output_type": "display_data"
    },
    {
     "data": {
      "application/vnd.jupyter.widget-view+json": {
       "model_id": "d63d376d97c648e180f2bd144730730d",
       "version_major": 2,
       "version_minor": 0
      },
      "text/plain": [
       "###13 : -58.95170923699332 :   0%|          | 0/10 [00:00<?, ?it/s]"
      ]
     },
     "metadata": {},
     "output_type": "display_data"
    },
    {
     "data": {
      "application/vnd.jupyter.widget-view+json": {
       "model_id": "a62d73c241a848a5b5a5d7eba2f98e59",
       "version_major": 2,
       "version_minor": 0
      },
      "text/plain": [
       "###14 : -59.549150147953505 :   0%|          | 0/10 [00:00<?, ?it/s]"
      ]
     },
     "metadata": {},
     "output_type": "display_data"
    },
    {
     "data": {
      "application/vnd.jupyter.widget-view+json": {
       "model_id": "187693b6f3af431bb3793633dc22e879",
       "version_major": 2,
       "version_minor": 0
      },
      "text/plain": [
       "###15 : -60.45109098623604 :   0%|          | 0/10 [00:00<?, ?it/s]"
      ]
     },
     "metadata": {},
     "output_type": "display_data"
    },
    {
     "data": {
      "application/vnd.jupyter.widget-view+json": {
       "model_id": "646707a22680467e976c7602f2fefb6c",
       "version_major": 2,
       "version_minor": 0
      },
      "text/plain": [
       "###16 : -59.40602003343395 :   0%|          | 0/10 [00:00<?, ?it/s]"
      ]
     },
     "metadata": {},
     "output_type": "display_data"
    },
    {
     "data": {
      "application/vnd.jupyter.widget-view+json": {
       "model_id": "547666ce5b784cbaa8c2c2002219324d",
       "version_major": 2,
       "version_minor": 0
      },
      "text/plain": [
       "###17 : -59.18408743383421 :   0%|          | 0/10 [00:00<?, ?it/s]"
      ]
     },
     "metadata": {},
     "output_type": "display_data"
    },
    {
     "data": {
      "application/vnd.jupyter.widget-view+json": {
       "model_id": "75836a4a2fd441be8a6274976f7493bf",
       "version_major": 2,
       "version_minor": 0
      },
      "text/plain": [
       "###18 : -54.91135063294087 :   0%|          | 0/10 [00:00<?, ?it/s]"
      ]
     },
     "metadata": {},
     "output_type": "display_data"
    },
    {
     "data": {
      "application/vnd.jupyter.widget-view+json": {
       "model_id": "093dcc2c8e954a75bc741ba465b74421",
       "version_major": 2,
       "version_minor": 0
      },
      "text/plain": [
       "###19 : -54.32389178790463 :   0%|          | 0/10 [00:00<?, ?it/s]"
      ]
     },
     "metadata": {},
     "output_type": "display_data"
    },
    {
     "data": {
      "application/vnd.jupyter.widget-view+json": {
       "model_id": "ae2547894382435f8219eba5721ee756",
       "version_major": 2,
       "version_minor": 0
      },
      "text/plain": [
       "###20 : -50.72366656587637 :   0%|          | 0/10 [00:00<?, ?it/s]"
      ]
     },
     "metadata": {},
     "output_type": "display_data"
    },
    {
     "data": {
      "application/vnd.jupyter.widget-view+json": {
       "model_id": "df60f80176bb45888abe9ced393ac3b0",
       "version_major": 2,
       "version_minor": 0
      },
      "text/plain": [
       "###21 : -51.09753756590697 :   0%|          | 0/10 [00:00<?, ?it/s]"
      ]
     },
     "metadata": {},
     "output_type": "display_data"
    },
    {
     "data": {
      "application/vnd.jupyter.widget-view+json": {
       "model_id": "13c6fed77e2b4be9a9094e06375d0351",
       "version_major": 2,
       "version_minor": 0
      },
      "text/plain": [
       "###22 : -49.47372743496942 :   0%|          | 0/10 [00:00<?, ?it/s]"
      ]
     },
     "metadata": {},
     "output_type": "display_data"
    },
    {
     "data": {
      "application/vnd.jupyter.widget-view+json": {
       "model_id": "2c92035902774c7ca43437eaf321737f",
       "version_major": 2,
       "version_minor": 0
      },
      "text/plain": [
       "###23 : -50.22477689525824 :   0%|          | 0/10 [00:00<?, ?it/s]"
      ]
     },
     "metadata": {},
     "output_type": "display_data"
    },
    {
     "data": {
      "application/vnd.jupyter.widget-view+json": {
       "model_id": "cc6fc2c77a594539a4ab7e3f8541391e",
       "version_major": 2,
       "version_minor": 0
      },
      "text/plain": [
       "###24 : -46.78695111113428 :   0%|          | 0/10 [00:00<?, ?it/s]"
      ]
     },
     "metadata": {},
     "output_type": "display_data"
    },
    {
     "data": {
      "application/vnd.jupyter.widget-view+json": {
       "model_id": "7de855abbc4f4517b8ee5e1acaf6065c",
       "version_major": 2,
       "version_minor": 0
      },
      "text/plain": [
       "###25 : -45.29352730109139 :   0%|          | 0/10 [00:00<?, ?it/s]"
      ]
     },
     "metadata": {},
     "output_type": "display_data"
    },
    {
     "data": {
      "application/vnd.jupyter.widget-view+json": {
       "model_id": "d875d85d455b43a2aa3b987d11581f05",
       "version_major": 2,
       "version_minor": 0
      },
      "text/plain": [
       "###26 : -45.04152146242341 :   0%|          | 0/10 [00:00<?, ?it/s]"
      ]
     },
     "metadata": {},
     "output_type": "display_data"
    },
    {
     "data": {
      "application/vnd.jupyter.widget-view+json": {
       "model_id": "709157e28275408ebfa4d4718609b0ff",
       "version_major": 2,
       "version_minor": 0
      },
      "text/plain": [
       "###27 : -44.27996499668439 :   0%|          | 0/10 [00:00<?, ?it/s]"
      ]
     },
     "metadata": {},
     "output_type": "display_data"
    },
    {
     "data": {
      "application/vnd.jupyter.widget-view+json": {
       "model_id": "d28840a63112401eadd0aa66cc2eeab0",
       "version_major": 2,
       "version_minor": 0
      },
      "text/plain": [
       "###28 : -41.78275410837183 :   0%|          | 0/10 [00:00<?, ?it/s]"
      ]
     },
     "metadata": {},
     "output_type": "display_data"
    },
    {
     "data": {
      "application/vnd.jupyter.widget-view+json": {
       "model_id": "4dc7920eb73241aea514cab54ae37bb1",
       "version_major": 2,
       "version_minor": 0
      },
      "text/plain": [
       "###29 : -40.63479637278872 :   0%|          | 0/10 [00:00<?, ?it/s]"
      ]
     },
     "metadata": {},
     "output_type": "display_data"
    },
    {
     "data": {
      "application/vnd.jupyter.widget-view+json": {
       "model_id": "a1bedc5f59414928b665a6c61ab9fbd2",
       "version_major": 2,
       "version_minor": 0
      },
      "text/plain": [
       "###30 : -41.92397429810087 :   0%|          | 0/10 [00:00<?, ?it/s]"
      ]
     },
     "metadata": {},
     "output_type": "display_data"
    },
    {
     "data": {
      "application/vnd.jupyter.widget-view+json": {
       "model_id": "d9d0309cc5b647e7b4f48604f8145635",
       "version_major": 2,
       "version_minor": 0
      },
      "text/plain": [
       "###31 : -41.281765249816004 :   0%|          | 0/10 [00:00<?, ?it/s]"
      ]
     },
     "metadata": {},
     "output_type": "display_data"
    },
    {
     "data": {
      "application/vnd.jupyter.widget-view+json": {
       "model_id": "3c3221005c24481f896a439eb81b7b79",
       "version_major": 2,
       "version_minor": 0
      },
      "text/plain": [
       "###32 : -39.044433745615216 :   0%|          | 0/10 [00:00<?, ?it/s]"
      ]
     },
     "metadata": {},
     "output_type": "display_data"
    },
    {
     "data": {
      "application/vnd.jupyter.widget-view+json": {
       "model_id": "264aded0496f4fbbb1527afef23b109f",
       "version_major": 2,
       "version_minor": 0
      },
      "text/plain": [
       "###33 : -34.8778399567056 :   0%|          | 0/10 [00:00<?, ?it/s]"
      ]
     },
     "metadata": {},
     "output_type": "display_data"
    },
    {
     "data": {
      "application/vnd.jupyter.widget-view+json": {
       "model_id": "d33ed2af917342e1aa472912ed7a1407",
       "version_major": 2,
       "version_minor": 0
      },
      "text/plain": [
       "###34 : -32.79638766044619 :   0%|          | 0/10 [00:00<?, ?it/s]"
      ]
     },
     "metadata": {},
     "output_type": "display_data"
    },
    {
     "data": {
      "application/vnd.jupyter.widget-view+json": {
       "model_id": "1f941a54eb1b42dda5910f6b346b81f4",
       "version_major": 2,
       "version_minor": 0
      },
      "text/plain": [
       "###35 : -29.42503018076689 :   0%|          | 0/10 [00:00<?, ?it/s]"
      ]
     },
     "metadata": {},
     "output_type": "display_data"
    },
    {
     "data": {
      "application/vnd.jupyter.widget-view+json": {
       "model_id": "b132dd590b3f4683b735ca1e271a9091",
       "version_major": 2,
       "version_minor": 0
      },
      "text/plain": [
       "###36 : -27.105351176212498 :   0%|          | 0/10 [00:00<?, ?it/s]"
      ]
     },
     "metadata": {},
     "output_type": "display_data"
    },
    {
     "data": {
      "application/vnd.jupyter.widget-view+json": {
       "model_id": "0678b3def7cf42c9840eda97ed29424e",
       "version_major": 2,
       "version_minor": 0
      },
      "text/plain": [
       "###37 : -26.32031908662521 :   0%|          | 0/10 [00:00<?, ?it/s]"
      ]
     },
     "metadata": {},
     "output_type": "display_data"
    },
    {
     "data": {
      "application/vnd.jupyter.widget-view+json": {
       "model_id": "48e843a7e3274b42827a655e1d5abf7d",
       "version_major": 2,
       "version_minor": 0
      },
      "text/plain": [
       "###38 : -25.333014820695375 :   0%|          | 0/10 [00:00<?, ?it/s]"
      ]
     },
     "metadata": {},
     "output_type": "display_data"
    },
    {
     "data": {
      "application/vnd.jupyter.widget-view+json": {
       "model_id": "a644ed0a08274357b02bbfe012f50966",
       "version_major": 2,
       "version_minor": 0
      },
      "text/plain": [
       "###39 : -24.161414780142678 :   0%|          | 0/10 [00:00<?, ?it/s]"
      ]
     },
     "metadata": {},
     "output_type": "display_data"
    },
    {
     "data": {
      "application/vnd.jupyter.widget-view+json": {
       "model_id": "50498185d3684ca8a2f7caef08d6c4b0",
       "version_major": 2,
       "version_minor": 0
      },
      "text/plain": [
       "###40 : -23.85957351366895 :   0%|          | 0/10 [00:00<?, ?it/s]"
      ]
     },
     "metadata": {},
     "output_type": "display_data"
    },
    {
     "data": {
      "application/vnd.jupyter.widget-view+json": {
       "model_id": "e8bea5a5a8dc4a5eb7af689b70923882",
       "version_major": 2,
       "version_minor": 0
      },
      "text/plain": [
       "###41 : -22.658708874744548 :   0%|          | 0/10 [00:00<?, ?it/s]"
      ]
     },
     "metadata": {},
     "output_type": "display_data"
    },
    {
     "data": {
      "application/vnd.jupyter.widget-view+json": {
       "model_id": "dea98171434540778ba31f6edcaa8ef1",
       "version_major": 2,
       "version_minor": 0
      },
      "text/plain": [
       "###42 : -23.025017757783374 :   0%|          | 0/10 [00:00<?, ?it/s]"
      ]
     },
     "metadata": {},
     "output_type": "display_data"
    },
    {
     "data": {
      "application/vnd.jupyter.widget-view+json": {
       "model_id": "3e303755c99a4310804e0ae3245b61e5",
       "version_major": 2,
       "version_minor": 0
      },
      "text/plain": [
       "###43 : -22.101948573833138 :   0%|          | 0/10 [00:00<?, ?it/s]"
      ]
     },
     "metadata": {},
     "output_type": "display_data"
    },
    {
     "data": {
      "application/vnd.jupyter.widget-view+json": {
       "model_id": "12229a538aba4e15b0707d9a876b8eba",
       "version_major": 2,
       "version_minor": 0
      },
      "text/plain": [
       "###44 : -19.017011336701476 :   0%|          | 0/10 [00:00<?, ?it/s]"
      ]
     },
     "metadata": {},
     "output_type": "display_data"
    },
    {
     "data": {
      "application/vnd.jupyter.widget-view+json": {
       "model_id": "57f9567c341e4398bdb9fce255195be9",
       "version_major": 2,
       "version_minor": 0
      },
      "text/plain": [
       "###45 : -19.011303495119265 :   0%|          | 0/10 [00:00<?, ?it/s]"
      ]
     },
     "metadata": {},
     "output_type": "display_data"
    },
    {
     "data": {
      "application/vnd.jupyter.widget-view+json": {
       "model_id": "711830b1193345fe92c38886a081ccb5",
       "version_major": 2,
       "version_minor": 0
      },
      "text/plain": [
       "###46 : -17.549007237332585 :   0%|          | 0/10 [00:00<?, ?it/s]"
      ]
     },
     "metadata": {},
     "output_type": "display_data"
    },
    {
     "data": {
      "application/vnd.jupyter.widget-view+json": {
       "model_id": "b10f4fd5911d4b8c850478c0b51bc28e",
       "version_major": 2,
       "version_minor": 0
      },
      "text/plain": [
       "###47 : -17.988541203591332 :   0%|          | 0/10 [00:00<?, ?it/s]"
      ]
     },
     "metadata": {},
     "output_type": "display_data"
    },
    {
     "data": {
      "application/vnd.jupyter.widget-view+json": {
       "model_id": "1d5886ec822849619d65262a423a54d4",
       "version_major": 2,
       "version_minor": 0
      },
      "text/plain": [
       "###48 : -17.425611770320153 :   0%|          | 0/10 [00:00<?, ?it/s]"
      ]
     },
     "metadata": {},
     "output_type": "display_data"
    },
    {
     "data": {
      "application/vnd.jupyter.widget-view+json": {
       "model_id": "3a17b2acc0d54076800a25d152121485",
       "version_major": 2,
       "version_minor": 0
      },
      "text/plain": [
       "###49 : -15.570866185637152 :   0%|          | 0/10 [00:00<?, ?it/s]"
      ]
     },
     "metadata": {},
     "output_type": "display_data"
    }
   ],
   "source": [
    "def train_on_policy_agent(env, agent, num_episodes):\n",
    "    return_list = []\n",
    "    episode_return = 0\n",
    "\n",
    "    for epoch in range(num_episodes//10):\n",
    "    \n",
    "        for i in tqdm(range(10), position=0, desc=f\"###{epoch} : {episode_return} \"):\n",
    "            episode_return = 0\n",
    "            transition_dict = {'states': [], 'actions': [], 'next_states': [], 'rewards': [], 'dones': []}\n",
    "            state, _ = env.reset()\n",
    "            done , truncated = False, False\n",
    "            while not done and not truncated:\n",
    "                action = agent.take_action(state)\n",
    "                next_state, reward, done, truncated, info = env.step(action)\n",
    "    \n",
    "                transition_dict['states'].append(state)\n",
    "                transition_dict['actions'].append(action)\n",
    "                transition_dict['next_states'].append(next_state)\n",
    "                transition_dict['rewards'].append(reward)\n",
    "                transition_dict['dones'].append(done)\n",
    "                state = next_state\n",
    "                episode_return += reward\n",
    "            return_list.append(episode_return)\n",
    "            agent.update(transition_dict)\n",
    "\n",
    "        # writer.add_scalar(\"reward\", episode_return, i)\n",
    "\n",
    "    plt.plot(return_list)\n",
    "        \n",
    "train_on_policy_agent(env, agent, num_episodes)"
   ]
  },
  {
   "cell_type": "code",
   "execution_count": 14,
   "id": "dd2750bc-4eb2-4a62-8c79-db79cbaf36e5",
   "metadata": {},
   "outputs": [
    {
     "name": "stdout",
     "output_type": "stream",
     "text": [
      "Starting observation: [-0.42971027  0.        ]\n",
      "action=[-0.3821898400783539]\n",
      "action=[-0.37004613876342773]\n",
      "action=[-0.3761988878250122]\n",
      "action=[-0.4050670564174652]\n",
      "action=[-0.36931857466697693]\n",
      "action=[-0.3646675944328308]\n",
      "action=[-0.3717162311077118]\n",
      "action=[-0.38405758142471313]\n",
      "action=[-0.3775842487812042]\n",
      "action=[-0.37856075167655945]\n",
      "action=[-0.37106603384017944]\n",
      "action=[-0.36460646986961365]\n",
      "action=[-0.3850235939025879]\n",
      "action=[-0.4000374972820282]\n",
      "action=[-0.3903217017650604]\n",
      "action=[-0.3964332938194275]\n",
      "action=[-0.3655615746974945]\n",
      "action=[-0.3703799247741699]\n",
      "action=[-0.4208000898361206]\n",
      "action=[-0.38364875316619873]\n",
      "action=[-0.3751783072948456]\n",
      "action=[-0.327769935131073]\n",
      "action=[-0.3548699915409088]\n",
      "action=[-0.35705021023750305]\n",
      "action=[-0.3747051954269409]\n",
      "action=[-0.41080325841903687]\n",
      "action=[-0.3790697455406189]\n",
      "action=[-0.39908212423324585]\n",
      "action=[-0.38081857562065125]\n",
      "action=[-0.3495803475379944]\n",
      "action=[-0.368195503950119]\n",
      "action=[-0.42072319984436035]\n",
      "action=[-0.3510473668575287]\n",
      "action=[-0.4068295359611511]\n",
      "action=[-0.3816942274570465]\n",
      "action=[-0.3872792422771454]\n",
      "action=[-0.3835252821445465]\n",
      "action=[-0.3775651156902313]\n",
      "action=[-0.37410879135131836]\n",
      "action=[-0.40933385491371155]\n",
      "action=[-0.41052186489105225]\n",
      "action=[-0.39676982164382935]\n",
      "action=[-0.3972255289554596]\n",
      "action=[-0.36434030532836914]\n",
      "action=[-0.42689797282218933]\n",
      "action=[-0.4058816134929657]\n",
      "action=[-0.3839048147201538]\n",
      "action=[-0.41180452704429626]\n",
      "action=[-0.3891809284687042]\n",
      "action=[-0.4176841974258423]\n",
      "action=[-0.37631532549858093]\n",
      "action=[-0.39114052057266235]\n",
      "action=[-0.3926859200000763]\n",
      "action=[-0.3901638090610504]\n",
      "action=[-0.3968453109264374]\n",
      "action=[-0.396247535943985]\n",
      "action=[-0.3954721689224243]\n",
      "action=[-0.37511497735977173]\n",
      "action=[-0.39324289560317993]\n",
      "action=[-0.37992557883262634]\n",
      "action=[-0.3701619803905487]\n",
      "action=[-0.401062548160553]\n",
      "action=[-0.3752923607826233]\n",
      "action=[-0.42629894614219666]\n",
      "action=[-0.3650364577770233]\n",
      "action=[-0.4160737097263336]\n",
      "action=[-0.37735211849212646]\n",
      "action=[-0.3715443015098572]\n",
      "action=[-0.4040784239768982]\n",
      "action=[-0.38344278931617737]\n",
      "action=[-0.36987972259521484]\n",
      "action=[-0.3886156678199768]\n",
      "action=[-0.40781813859939575]\n",
      "action=[-0.3690742552280426]\n",
      "action=[-0.3883705139160156]\n",
      "action=[-0.41460147500038147]\n",
      "action=[-0.4034056067466736]\n",
      "action=[-0.3720117211341858]\n",
      "action=[-0.3856503665447235]\n",
      "action=[-0.39056962728500366]\n",
      "action=[-0.3961879014968872]\n",
      "action=[-0.3934191167354584]\n",
      "action=[-0.3591904938220978]\n",
      "action=[-0.3782098889350891]\n",
      "action=[-0.4115755558013916]\n",
      "action=[-0.4181068539619446]\n",
      "action=[-0.3652365505695343]\n",
      "action=[-0.425881952047348]\n",
      "action=[-0.38151001930236816]\n",
      "action=[-0.40252426266670227]\n",
      "action=[-0.38518616557121277]\n",
      "action=[-0.4101484715938568]\n",
      "action=[-0.39202946424484253]\n",
      "action=[-0.3837403357028961]\n",
      "action=[-0.3916301727294922]\n",
      "action=[-0.4041391611099243]\n",
      "action=[-0.4231555759906769]\n",
      "action=[-0.3816685378551483]\n",
      "action=[-0.38297757506370544]\n",
      "action=[-0.4225674271583557]\n",
      "action=[-0.36696964502334595]\n",
      "action=[-0.4022577106952667]\n",
      "action=[-0.37474116683006287]\n",
      "action=[-0.3742997646331787]\n",
      "action=[-0.3821706473827362]\n",
      "action=[-0.39482444524765015]\n",
      "action=[-0.3612922728061676]\n",
      "action=[-0.3969503939151764]\n",
      "action=[-0.3407813310623169]\n",
      "action=[-0.39547255635261536]\n",
      "action=[-0.38791635632514954]\n",
      "action=[-0.42104876041412354]\n",
      "action=[-0.38920992612838745]\n",
      "action=[-0.4011780023574829]\n",
      "action=[-0.36599183082580566]\n",
      "action=[-0.37208837270736694]\n",
      "action=[-0.380870521068573]\n",
      "action=[-0.4025318920612335]\n",
      "action=[-0.3841789662837982]\n",
      "action=[-0.39534851908683777]\n",
      "action=[-0.3829042613506317]\n",
      "action=[-0.35810571908950806]\n",
      "action=[-0.38894712924957275]\n",
      "action=[-0.4058713912963867]\n",
      "action=[-0.3998684883117676]\n",
      "action=[-0.40095746517181396]\n",
      "action=[-0.38716942071914673]\n",
      "action=[-0.4199763238430023]\n",
      "action=[-0.4031049311161041]\n",
      "action=[-0.3538055419921875]\n",
      "action=[-0.39264944195747375]\n",
      "action=[-0.3925180435180664]\n",
      "action=[-0.410289466381073]\n",
      "action=[-0.39158737659454346]\n",
      "action=[-0.4000132381916046]\n",
      "action=[-0.3500871956348419]\n",
      "action=[-0.360233873128891]\n",
      "action=[-0.3861934244632721]\n",
      "action=[-0.3657799959182739]\n",
      "action=[-0.4146931767463684]\n",
      "action=[-0.3951079249382019]\n",
      "action=[-0.3838112950325012]\n",
      "action=[-0.37966641783714294]\n",
      "action=[-0.39463669061660767]\n",
      "action=[-0.39063528180122375]\n",
      "action=[-0.4164597690105438]\n",
      "action=[-0.40458863973617554]\n",
      "action=[-0.3857574164867401]\n",
      "action=[-0.36654287576675415]\n",
      "action=[-0.3858201503753662]\n",
      "action=[-0.4342883825302124]\n",
      "action=[-0.3815426230430603]\n",
      "action=[-0.373553603887558]\n",
      "action=[-0.36020931601524353]\n",
      "action=[-0.39156752824783325]\n",
      "action=[-0.3911970555782318]\n",
      "action=[-0.3726048767566681]\n",
      "action=[-0.38343727588653564]\n",
      "action=[-0.37389642000198364]\n",
      "action=[-0.411408931016922]\n",
      "action=[-0.39399728178977966]\n",
      "action=[-0.3782390356063843]\n",
      "action=[-0.40959104895591736]\n",
      "action=[-0.39722222089767456]\n",
      "action=[-0.4008180499076843]\n",
      "action=[-0.3623030185699463]\n",
      "action=[-0.4046064019203186]\n",
      "action=[-0.38773709535598755]\n",
      "action=[-0.36578768491744995]\n",
      "action=[-0.3998956084251404]\n",
      "action=[-0.37549757957458496]\n",
      "action=[-0.389461874961853]\n",
      "action=[-0.43716827034950256]\n",
      "action=[-0.42514100670814514]\n",
      "action=[-0.3728741705417633]\n",
      "action=[-0.39801284670829773]\n",
      "action=[-0.39174866676330566]\n",
      "action=[-0.3849393129348755]\n",
      "action=[-0.40071481466293335]\n",
      "action=[-0.3858903646469116]\n",
      "action=[-0.4016968309879303]\n",
      "action=[-0.3745701014995575]\n",
      "action=[-0.3536691963672638]\n",
      "action=[-0.3559057116508484]\n",
      "action=[-0.397758811712265]\n",
      "action=[-0.36755186319351196]\n",
      "action=[-0.3575652539730072]\n",
      "action=[-0.39367252588272095]\n",
      "action=[-0.40920278429985046]\n",
      "action=[-0.40252888202667236]\n",
      "action=[-0.361954003572464]\n",
      "action=[-0.36560890078544617]\n",
      "action=[-0.3598429560661316]\n",
      "action=[-0.38806506991386414]\n",
      "action=[-0.37800344824790955]\n",
      "action=[-0.4007417857646942]\n",
      "action=[-0.36742472648620605]\n",
      "action=[-0.3635711967945099]\n",
      "action=[-0.3893827795982361]\n",
      "action=[-0.3906140625476837]\n",
      "action=[-0.38242200016975403]\n",
      "action=[-0.4116029441356659]\n",
      "action=[-0.3727281391620636]\n",
      "action=[-0.41500142216682434]\n",
      "action=[-0.40914446115493774]\n",
      "action=[-0.390054315328598]\n",
      "action=[-0.3726107180118561]\n",
      "action=[-0.3948148190975189]\n",
      "action=[-0.39217907190322876]\n",
      "action=[-0.4256144165992737]\n",
      "action=[-0.3893105983734131]\n",
      "action=[-0.39366230368614197]\n",
      "action=[-0.37124645709991455]\n",
      "action=[-0.40954476594924927]\n",
      "action=[-0.39026257395744324]\n",
      "action=[-0.36398592591285706]\n",
      "action=[-0.39803072810173035]\n",
      "action=[-0.38557764887809753]\n",
      "action=[-0.3886582851409912]\n",
      "action=[-0.36093056201934814]\n",
      "action=[-0.3943328857421875]\n",
      "action=[-0.37222057580947876]\n",
      "action=[-0.3838987946510315]\n",
      "action=[-0.3661719560623169]\n",
      "action=[-0.38717296719551086]\n",
      "action=[-0.3986538052558899]\n",
      "action=[-0.419764906167984]\n",
      "action=[-0.3700528144836426]\n",
      "action=[-0.364534854888916]\n",
      "action=[-0.3889605700969696]\n",
      "action=[-0.39707478880882263]\n",
      "action=[-0.4125809669494629]\n",
      "action=[-0.4031286835670471]\n",
      "action=[-0.3712238669395447]\n",
      "action=[-0.3771098852157593]\n",
      "action=[-0.371660053730011]\n",
      "action=[-0.3795970678329468]\n",
      "action=[-0.3875378668308258]\n",
      "action=[-0.4063672423362732]\n",
      "action=[-0.38716965913772583]\n",
      "action=[-0.39536747336387634]\n",
      "action=[-0.38204899430274963]\n",
      "action=[-0.3970337510108948]\n",
      "action=[-0.3734755516052246]\n",
      "action=[-0.36005735397338867]\n",
      "action=[-0.3876686990261078]\n",
      "action=[-0.3954114615917206]\n",
      "action=[-0.3922679126262665]\n",
      "action=[-0.40353092551231384]\n",
      "action=[-0.3885805308818817]\n",
      "action=[-0.39938122034072876]\n",
      "action=[-0.36443036794662476]\n",
      "action=[-0.4219655692577362]\n",
      "action=[-0.4008573889732361]\n",
      "action=[-0.39138734340667725]\n",
      "action=[-0.37596961855888367]\n",
      "action=[-0.40753310918807983]\n",
      "action=[-0.4193941652774811]\n",
      "action=[-0.3682042360305786]\n",
      "action=[-0.4045156240463257]\n",
      "action=[-0.4239295423030853]\n",
      "action=[-0.41837432980537415]\n",
      "action=[-0.36712417006492615]\n",
      "action=[-0.3579711318016052]\n",
      "action=[-0.32495149970054626]\n",
      "action=[-0.39415091276168823]\n",
      "action=[-0.3780176043510437]\n",
      "action=[-0.3950706720352173]\n",
      "action=[-0.39281564950942993]\n",
      "action=[-0.4060491621494293]\n",
      "action=[-0.37751856446266174]\n",
      "action=[-0.36619171500205994]\n",
      "action=[-0.4163822531700134]\n",
      "action=[-0.3833249509334564]\n",
      "action=[-0.36403241753578186]\n",
      "action=[-0.3745745122432709]\n",
      "action=[-0.3817943036556244]\n",
      "action=[-0.39360126852989197]\n",
      "action=[-0.4042593836784363]\n",
      "action=[-0.4340519607067108]\n",
      "action=[-0.40729302167892456]\n",
      "action=[-0.38981112837791443]\n",
      "action=[-0.39235255122184753]\n",
      "action=[-0.39190053939819336]\n",
      "action=[-0.3843834102153778]\n",
      "action=[-0.35997921228408813]\n",
      "action=[-0.4146680235862732]\n",
      "action=[-0.3959088921546936]\n",
      "action=[-0.37680259346961975]\n",
      "action=[-0.3752196729183197]\n",
      "action=[-0.3694252669811249]\n",
      "action=[-0.40034472942352295]\n",
      "action=[-0.3684179186820984]\n",
      "action=[-0.36839914321899414]\n",
      "action=[-0.40755853056907654]\n",
      "action=[-0.37038469314575195]\n",
      "action=[-0.3980100452899933]\n",
      "action=[-0.3847793638706207]\n",
      "action=[-0.3860335052013397]\n",
      "action=[-0.3826814889907837]\n",
      "action=[-0.36907321214675903]\n",
      "action=[-0.3943069279193878]\n",
      "action=[-0.40380483865737915]\n",
      "action=[-0.39848047494888306]\n",
      "action=[-0.3734385073184967]\n",
      "action=[-0.37605562806129456]\n",
      "action=[-0.40183570981025696]\n",
      "action=[-0.374010294675827]\n",
      "action=[-0.40284019708633423]\n",
      "action=[-0.42857253551483154]\n",
      "action=[-0.39804401993751526]\n",
      "action=[-0.40348273515701294]\n",
      "action=[-0.42756304144859314]\n",
      "action=[-0.3869333565235138]\n",
      "action=[-0.3771483302116394]\n",
      "action=[-0.38365742564201355]\n",
      "action=[-0.4129059314727783]\n",
      "action=[-0.39269542694091797]\n",
      "action=[-0.38611555099487305]\n",
      "action=[-0.3706968426704407]\n",
      "action=[-0.3662790358066559]\n",
      "action=[-0.405283659696579]\n",
      "action=[-0.3876831829547882]\n",
      "action=[-0.39605915546417236]\n",
      "action=[-0.3788756728172302]\n",
      "action=[-0.37611183524131775]\n",
      "action=[-0.39820772409439087]\n",
      "action=[-0.3985852897167206]\n",
      "action=[-0.38448378443717957]\n",
      "action=[-0.4110722243785858]\n",
      "action=[-0.38254040479660034]\n",
      "action=[-0.38189250230789185]\n",
      "action=[-0.3774224519729614]\n",
      "action=[-0.39700132608413696]\n",
      "action=[-0.3935297727584839]\n",
      "action=[-0.36802011728286743]\n",
      "action=[-0.39773255586624146]\n",
      "action=[-0.36398643255233765]\n",
      "action=[-0.39558151364326477]\n",
      "action=[-0.39252081513404846]\n",
      "action=[-0.388763964176178]\n",
      "action=[-0.4158223569393158]\n",
      "action=[-0.37021681666374207]\n",
      "action=[-0.3797025680541992]\n",
      "action=[-0.3951769173145294]\n",
      "action=[-0.3757416605949402]\n",
      "action=[-0.38328227400779724]\n",
      "action=[-0.38870835304260254]\n",
      "action=[-0.38163748383522034]\n",
      "action=[-0.3877219259738922]\n",
      "action=[-0.40161335468292236]\n",
      "action=[-0.4133690297603607]\n",
      "action=[-0.37331998348236084]\n",
      "action=[-0.39571577310562134]\n",
      "action=[-0.38116350769996643]\n",
      "action=[-0.4011344611644745]\n",
      "action=[-0.38850826025009155]\n",
      "action=[-0.39091312885284424]\n",
      "action=[-0.37959739565849304]\n",
      "action=[-0.39980605244636536]\n",
      "action=[-0.41446545720100403]\n",
      "action=[-0.38695526123046875]\n",
      "action=[-0.39871925115585327]\n",
      "action=[-0.3660493493080139]\n",
      "action=[-0.3791964054107666]\n",
      "action=[-0.3849696218967438]\n",
      "action=[-0.3703787922859192]\n",
      "action=[-0.3772589862346649]\n",
      "action=[-0.39786162972450256]\n",
      "action=[-0.41829657554626465]\n",
      "action=[-0.37047526240348816]\n",
      "action=[-0.36589324474334717]\n",
      "action=[-0.3766491413116455]\n",
      "action=[-0.39126646518707275]\n",
      "action=[-0.37202879786491394]\n",
      "action=[-0.3572702705860138]\n",
      "action=[-0.3676774501800537]\n",
      "action=[-0.3839711844921112]\n",
      "action=[-0.3714921176433563]\n",
      "action=[-0.37302055954933167]\n",
      "action=[-0.3890523910522461]\n",
      "action=[-0.3908666968345642]\n",
      "action=[-0.40835151076316833]\n",
      "action=[-0.39169925451278687]\n",
      "action=[-0.38366422057151794]\n",
      "action=[-0.3594951927661896]\n",
      "action=[-0.38360920548439026]\n",
      "action=[-0.3973487615585327]\n",
      "action=[-0.39554718136787415]\n",
      "action=[-0.39898061752319336]\n",
      "action=[-0.4103816747665405]\n",
      "action=[-0.3859490752220154]\n",
      "action=[-0.4005749225616455]\n",
      "action=[-0.40668416023254395]\n",
      "action=[-0.3681287169456482]\n",
      "action=[-0.3770371377468109]\n",
      "action=[-0.387796014547348]\n",
      "action=[-0.3748403787612915]\n",
      "action=[-0.41104206442832947]\n",
      "action=[-0.37724432349205017]\n",
      "action=[-0.39141151309013367]\n",
      "action=[-0.3815329670906067]\n",
      "action=[-0.3837105929851532]\n",
      "action=[-0.3884890675544739]\n",
      "action=[-0.3962534964084625]\n",
      "action=[-0.34704357385635376]\n",
      "action=[-0.34179648756980896]\n",
      "action=[-0.35652005672454834]\n",
      "action=[-0.37607237696647644]\n",
      "action=[-0.37981778383255005]\n",
      "action=[-0.4025290608406067]\n",
      "action=[-0.3862246870994568]\n",
      "action=[-0.4022998809814453]\n",
      "action=[-0.38403695821762085]\n",
      "action=[-0.3983501195907593]\n",
      "action=[-0.37093493342399597]\n",
      "action=[-0.3622860908508301]\n",
      "action=[-0.3806937336921692]\n",
      "action=[-0.3556961417198181]\n",
      "action=[-0.3710428774356842]\n",
      "action=[-0.40924468636512756]\n",
      "action=[-0.38484257459640503]\n",
      "action=[-0.39383602142333984]\n",
      "action=[-0.36520278453826904]\n",
      "action=[-0.4087739586830139]\n",
      "action=[-0.3771374821662903]\n",
      "action=[-0.3795538544654846]\n",
      "action=[-0.4001956284046173]\n",
      "action=[-0.38238027691841125]\n",
      "action=[-0.38829249143600464]\n",
      "action=[-0.37059593200683594]\n",
      "action=[-0.4035532474517822]\n",
      "action=[-0.37899959087371826]\n",
      "action=[-0.39481645822525024]\n",
      "action=[-0.37929192185401917]\n",
      "action=[-0.3854671120643616]\n",
      "action=[-0.3920089304447174]\n",
      "action=[-0.39172062277793884]\n",
      "action=[-0.3673536777496338]\n",
      "action=[-0.3859439790248871]\n",
      "action=[-0.40269017219543457]\n",
      "action=[-0.3504925072193146]\n",
      "action=[-0.4122891426086426]\n",
      "action=[-0.38807153701782227]\n",
      "action=[-0.4011942148208618]\n",
      "action=[-0.39401209354400635]\n",
      "action=[-0.36696386337280273]\n",
      "action=[-0.380574107170105]\n",
      "action=[-0.4192342162132263]\n",
      "action=[-0.4047604203224182]\n",
      "action=[-0.37635767459869385]\n",
      "action=[-0.3801121711730957]\n",
      "action=[-0.3870466351509094]\n",
      "action=[-0.3680572807788849]\n",
      "action=[-0.41545021533966064]\n",
      "action=[-0.4077655076980591]\n",
      "action=[-0.4259873330593109]\n",
      "action=[-0.385177344083786]\n",
      "action=[-0.3945031762123108]\n",
      "action=[-0.40313267707824707]\n",
      "action=[-0.37686991691589355]\n",
      "action=[-0.3863655924797058]\n",
      "action=[-0.39644816517829895]\n",
      "action=[-0.39300304651260376]\n",
      "action=[-0.38383448123931885]\n",
      "action=[-0.38483506441116333]\n",
      "action=[-0.41512539982795715]\n",
      "action=[-0.41023626923561096]\n",
      "action=[-0.3975696265697479]\n",
      "action=[-0.37018758058547974]\n",
      "action=[-0.3989338278770447]\n",
      "action=[-0.377867192029953]\n",
      "action=[-0.3864854574203491]\n",
      "action=[-0.37608081102371216]\n",
      "action=[-0.3978537619113922]\n",
      "action=[-0.4142981171607971]\n",
      "action=[-0.3940267860889435]\n",
      "action=[-0.3995403051376343]\n",
      "action=[-0.39949432015419006]\n",
      "action=[-0.35781827569007874]\n",
      "action=[-0.3646583557128906]\n",
      "action=[-0.38253673911094666]\n",
      "action=[-0.38356196880340576]\n",
      "action=[-0.4117315411567688]\n",
      "action=[-0.39278295636177063]\n",
      "action=[-0.3661373257637024]\n",
      "action=[-0.3713304400444031]\n",
      "action=[-0.37362203001976013]\n",
      "action=[-0.40869590640068054]\n",
      "action=[-0.3958853483200073]\n",
      "action=[-0.3924828767776489]\n",
      "action=[-0.41486692428588867]\n",
      "action=[-0.41796281933784485]\n",
      "action=[-0.40233486890792847]\n",
      "action=[-0.411771297454834]\n",
      "action=[-0.37461182475090027]\n",
      "action=[-0.3903566598892212]\n",
      "action=[-0.3882276713848114]\n",
      "action=[-0.3834546208381653]\n",
      "action=[-0.39624181389808655]\n",
      "action=[-0.41318824887275696]\n",
      "action=[-0.37981829047203064]\n",
      "action=[-0.3890664279460907]\n",
      "action=[-0.3995529115200043]\n",
      "action=[-0.4172047972679138]\n",
      "action=[-0.3751615881919861]\n",
      "action=[-0.404047429561615]\n",
      "action=[-0.40313589572906494]\n",
      "action=[-0.40569019317626953]\n",
      "action=[-0.3975784480571747]\n",
      "action=[-0.39665186405181885]\n",
      "action=[-0.38781777024269104]\n",
      "action=[-0.37612608075141907]\n",
      "action=[-0.37723803520202637]\n",
      "action=[-0.3924197256565094]\n",
      "action=[-0.37072697281837463]\n",
      "action=[-0.3876497149467468]\n",
      "action=[-0.40232396125793457]\n",
      "action=[-0.3888078033924103]\n",
      "action=[-0.3746586740016937]\n",
      "action=[-0.3539879322052002]\n",
      "action=[-0.4008346199989319]\n",
      "action=[-0.36779001355171204]\n",
      "action=[-0.3631419241428375]\n",
      "action=[-0.402008056640625]\n",
      "action=[-0.41025543212890625]\n",
      "action=[-0.36052513122558594]\n",
      "action=[-0.3494754135608673]\n",
      "action=[-0.3700118064880371]\n",
      "action=[-0.38654741644859314]\n",
      "action=[-0.40025055408477783]\n",
      "action=[-0.3742453157901764]\n",
      "action=[-0.3855360150337219]\n",
      "action=[-0.36703434586524963]\n",
      "action=[-0.38205599784851074]\n",
      "action=[-0.3626335859298706]\n",
      "action=[-0.35748159885406494]\n",
      "action=[-0.40588030219078064]\n",
      "action=[-0.37602606415748596]\n",
      "action=[-0.36491674184799194]\n",
      "action=[-0.37867188453674316]\n",
      "action=[-0.4027493894100189]\n",
      "action=[-0.4023539125919342]\n",
      "action=[-0.38947415351867676]\n",
      "action=[-0.38591107726097107]\n",
      "action=[-0.37454262375831604]\n",
      "action=[-0.363872230052948]\n",
      "action=[-0.3949904441833496]\n",
      "action=[-0.38328447937965393]\n",
      "action=[-0.3611862063407898]\n",
      "action=[-0.3593570291996002]\n",
      "action=[-0.3957225978374481]\n",
      "action=[-0.38057729601860046]\n",
      "action=[-0.3518972098827362]\n",
      "action=[-0.3853943943977356]\n",
      "action=[-0.36651352047920227]\n",
      "action=[-0.4001516103744507]\n",
      "action=[-0.3906905949115753]\n",
      "action=[-0.38340261578559875]\n",
      "action=[-0.43619319796562195]\n",
      "action=[-0.37521296739578247]\n",
      "action=[-0.3641960918903351]\n",
      "action=[-0.38871264457702637]\n",
      "action=[-0.3683408796787262]\n",
      "action=[-0.38295435905456543]\n",
      "action=[-0.3950570225715637]\n",
      "action=[-0.37777143716812134]\n",
      "action=[-0.40379562973976135]\n",
      "action=[-0.38099759817123413]\n",
      "action=[-0.3692556917667389]\n",
      "action=[-0.3932410478591919]\n",
      "action=[-0.37138494849205017]\n",
      "action=[-0.3681083917617798]\n",
      "action=[-0.37850430607795715]\n",
      "action=[-0.40948551893234253]\n",
      "action=[-0.37456244230270386]\n",
      "action=[-0.36765965819358826]\n",
      "action=[-0.38555753231048584]\n",
      "action=[-0.40189680457115173]\n",
      "action=[-0.3840855360031128]\n",
      "action=[-0.39453235268592834]\n",
      "action=[-0.38370412588119507]\n",
      "action=[-0.36739304661750793]\n",
      "action=[-0.3955753743648529]\n",
      "action=[-0.391247421503067]\n",
      "action=[-0.38263583183288574]\n",
      "action=[-0.38059768080711365]\n",
      "action=[-0.4000474214553833]\n",
      "action=[-0.3870221674442291]\n",
      "action=[-0.4031403064727783]\n",
      "action=[-0.3916640281677246]\n",
      "action=[-0.3852880299091339]\n",
      "action=[-0.42693230509757996]\n",
      "action=[-0.40246132016181946]\n",
      "action=[-0.39423123002052307]\n",
      "action=[-0.3981357514858246]\n",
      "action=[-0.36880025267601013]\n",
      "action=[-0.3822803199291229]\n",
      "action=[-0.37855613231658936]\n",
      "action=[-0.3934682309627533]\n",
      "action=[-0.3780939280986786]\n",
      "action=[-0.37723371386528015]\n",
      "action=[-0.3892113268375397]\n",
      "action=[-0.357798308134079]\n",
      "action=[-0.40428465604782104]\n",
      "action=[-0.4127591550350189]\n",
      "action=[-0.37578272819519043]\n",
      "action=[-0.38434919714927673]\n",
      "action=[-0.388888955116272]\n",
      "action=[-0.40878909826278687]\n",
      "action=[-0.39711815118789673]\n",
      "action=[-0.4239700436592102]\n",
      "action=[-0.4123108685016632]\n",
      "action=[-0.3760373890399933]\n",
      "action=[-0.4073949456214905]\n",
      "action=[-0.3902374804019928]\n",
      "action=[-0.3923548460006714]\n",
      "action=[-0.3975452184677124]\n",
      "action=[-0.3754021227359772]\n",
      "action=[-0.3780360817909241]\n",
      "action=[-0.34905388951301575]\n",
      "action=[-0.4070545732975006]\n",
      "action=[-0.3727032542228699]\n",
      "action=[-0.38187119364738464]\n",
      "action=[-0.4001469016075134]\n",
      "action=[-0.3785002529621124]\n",
      "action=[-0.3822265863418579]\n",
      "action=[-0.3737483620643616]\n",
      "action=[-0.3644729256629944]\n",
      "action=[-0.4047766923904419]\n",
      "action=[-0.36795973777770996]\n",
      "action=[-0.38192540407180786]\n",
      "action=[-0.3843095004558563]\n",
      "action=[-0.39404013752937317]\n",
      "action=[-0.3707756996154785]\n",
      "action=[-0.3825738728046417]\n",
      "action=[-0.3853600323200226]\n",
      "action=[-0.42240944504737854]\n",
      "action=[-0.3757595121860504]\n",
      "action=[-0.3565096855163574]\n",
      "action=[-0.385015606880188]\n",
      "action=[-0.394309937953949]\n",
      "action=[-0.3872767984867096]\n",
      "action=[-0.4235314726829529]\n",
      "action=[-0.39892852306365967]\n",
      "action=[-0.4204973578453064]\n",
      "action=[-0.3681853413581848]\n",
      "action=[-0.40130966901779175]\n",
      "action=[-0.3898181617259979]\n",
      "action=[-0.4059582054615021]\n",
      "action=[-0.3947179317474365]\n",
      "action=[-0.428337424993515]\n",
      "action=[-0.3935079872608185]\n",
      "action=[-0.3826662600040436]\n",
      "action=[-0.39930376410484314]\n",
      "action=[-0.37235531210899353]\n",
      "action=[-0.40664055943489075]\n",
      "action=[-0.38836053013801575]\n",
      "action=[-0.37505045533180237]\n",
      "action=[-0.3728795051574707]\n",
      "action=[-0.3878735899925232]\n",
      "action=[-0.36932605504989624]\n",
      "action=[-0.3885195851325989]\n",
      "action=[-0.3800097107887268]\n",
      "action=[-0.41910189390182495]\n",
      "action=[-0.40582507848739624]\n",
      "action=[-0.36842313408851624]\n",
      "action=[-0.3676750957965851]\n",
      "action=[-0.4273269772529602]\n",
      "action=[-0.3810131251811981]\n",
      "action=[-0.437520295381546]\n",
      "action=[-0.3635091781616211]\n",
      "action=[-0.392210453748703]\n",
      "action=[-0.3949822783470154]\n",
      "action=[-0.35773542523384094]\n",
      "action=[-0.4240669012069702]\n",
      "action=[-0.38873061537742615]\n",
      "action=[-0.380544513463974]\n",
      "action=[-0.35623180866241455]\n",
      "action=[-0.4103563725948334]\n",
      "action=[-0.41267284750938416]\n",
      "action=[-0.38691532611846924]\n",
      "action=[-0.371065229177475]\n",
      "action=[-0.35347163677215576]\n",
      "action=[-0.36860403418540955]\n",
      "action=[-0.41441285610198975]\n",
      "action=[-0.4034225046634674]\n",
      "action=[-0.3730488419532776]\n",
      "action=[-0.37626728415489197]\n",
      "action=[-0.3570004999637604]\n",
      "action=[-0.3799111843109131]\n",
      "action=[-0.38837653398513794]\n",
      "action=[-0.38716450333595276]\n",
      "action=[-0.3875693678855896]\n",
      "action=[-0.3954688012599945]\n",
      "action=[-0.3802641034126282]\n",
      "action=[-0.3743430972099304]\n",
      "action=[-0.37008750438690186]\n",
      "action=[-0.4087368845939636]\n",
      "action=[-0.38807177543640137]\n",
      "action=[-0.37801393866539]\n",
      "action=[-0.35812726616859436]\n",
      "action=[-0.3946111500263214]\n",
      "action=[-0.40339547395706177]\n",
      "action=[-0.3728102743625641]\n",
      "action=[-0.36669236421585083]\n",
      "action=[-0.3473198115825653]\n",
      "action=[-0.35878345370292664]\n",
      "action=[-0.3990847170352936]\n",
      "action=[-0.3598519265651703]\n",
      "action=[-0.3824847936630249]\n",
      "action=[-0.38971930742263794]\n",
      "action=[-0.37030959129333496]\n",
      "action=[-0.40080526471138]\n",
      "action=[-0.38313424587249756]\n",
      "action=[-0.3484928011894226]\n",
      "action=[-0.41691911220550537]\n",
      "action=[-0.4253008961677551]\n",
      "action=[-0.3611268997192383]\n",
      "action=[-0.37454646825790405]\n",
      "action=[-0.36450010538101196]\n",
      "action=[-0.37985554337501526]\n",
      "action=[-0.3857833445072174]\n",
      "action=[-0.4055587351322174]\n",
      "action=[-0.4176672399044037]\n",
      "action=[-0.3705037534236908]\n",
      "action=[-0.41339194774627686]\n",
      "action=[-0.38772863149642944]\n",
      "action=[-0.41669008135795593]\n",
      "action=[-0.3723360300064087]\n",
      "action=[-0.4143110513687134]\n",
      "action=[-0.4044588804244995]\n",
      "action=[-0.3896998465061188]\n",
      "action=[-0.35362133383750916]\n",
      "action=[-0.43855035305023193]\n",
      "action=[-0.4108189642429352]\n",
      "action=[-0.4033745229244232]\n",
      "action=[-0.4054121971130371]\n",
      "action=[-0.42311927676200867]\n",
      "action=[-0.3752313256263733]\n",
      "action=[-0.3972233235836029]\n",
      "action=[-0.38924163579940796]\n",
      "action=[-0.38510245084762573]\n",
      "action=[-0.3995203971862793]\n",
      "action=[-0.40309038758277893]\n",
      "action=[-0.39845478534698486]\n",
      "action=[-0.42512473464012146]\n",
      "action=[-0.383920282125473]\n",
      "action=[-0.40266820788383484]\n",
      "action=[-0.35926005244255066]\n",
      "action=[-0.3645195960998535]\n",
      "action=[-0.3953664004802704]\n",
      "action=[-0.40815502405166626]\n",
      "action=[-0.37399056553840637]\n",
      "action=[-0.36004215478897095]\n",
      "action=[-0.3852621912956238]\n",
      "action=[-0.37316200137138367]\n",
      "action=[-0.39215946197509766]\n",
      "action=[-0.3540840744972229]\n",
      "action=[-0.36640745401382446]\n",
      "action=[-0.3727804124355316]\n",
      "action=[-0.4046798050403595]\n",
      "action=[-0.36193472146987915]\n",
      "action=[-0.37157702445983887]\n",
      "action=[-0.3817853629589081]\n",
      "action=[-0.3956679701805115]\n",
      "action=[-0.37874680757522583]\n",
      "action=[-0.38156768679618835]\n",
      "action=[-0.4089913070201874]\n",
      "action=[-0.39356160163879395]\n",
      "action=[-0.3755003809928894]\n",
      "action=[-0.4091719686985016]\n",
      "action=[-0.40576255321502686]\n",
      "action=[-0.3935154974460602]\n",
      "action=[-0.3770041763782501]\n",
      "action=[-0.37555474042892456]\n",
      "action=[-0.37315046787261963]\n",
      "action=[-0.3805529773235321]\n",
      "action=[-0.394134521484375]\n",
      "action=[-0.39948585629463196]\n",
      "action=[-0.393422931432724]\n",
      "action=[-0.4003801643848419]\n",
      "action=[-0.35206565260887146]\n",
      "action=[-0.3774190843105316]\n",
      "action=[-0.38958534598350525]\n",
      "action=[-0.3942345082759857]\n",
      "action=[-0.4046863317489624]\n",
      "action=[-0.36557719111442566]\n",
      "action=[-0.38774704933166504]\n",
      "action=[-0.3820253312587738]\n",
      "action=[-0.3924056589603424]\n",
      "action=[-0.37531962990760803]\n",
      "action=[-0.36983561515808105]\n",
      "action=[-0.38013535737991333]\n",
      "action=[-0.41075441241264343]\n",
      "action=[-0.3629727065563202]\n",
      "action=[-0.4081162214279175]\n",
      "action=[-0.39813196659088135]\n",
      "action=[-0.4181234836578369]\n",
      "action=[-0.38456013798713684]\n",
      "action=[-0.43426603078842163]\n",
      "action=[-0.390474796295166]\n",
      "action=[-0.39312243461608887]\n",
      "action=[-0.3972897529602051]\n",
      "action=[-0.39300450682640076]\n",
      "action=[-0.38252055644989014]\n",
      "action=[-0.39971622824668884]\n",
      "action=[-0.4170140027999878]\n",
      "action=[-0.37407660484313965]\n",
      "action=[-0.36944499611854553]\n",
      "action=[-0.38605520129203796]\n",
      "action=[-0.3929842412471771]\n",
      "action=[-0.37985461950302124]\n",
      "action=[-0.40221402049064636]\n",
      "action=[-0.3871658742427826]\n",
      "action=[-0.3943489193916321]\n",
      "action=[-0.3961506485939026]\n",
      "action=[-0.3881566822528839]\n",
      "action=[-0.3699931502342224]\n",
      "action=[-0.41406211256980896]\n",
      "action=[-0.36084023118019104]\n",
      "action=[-0.3955410420894623]\n",
      "action=[-0.36524146795272827]\n",
      "action=[-0.4056061804294586]\n",
      "action=[-0.37853890657424927]\n",
      "action=[-0.3684180676937103]\n",
      "action=[-0.3927014470100403]\n",
      "action=[-0.3659398853778839]\n",
      "action=[-0.38929298520088196]\n",
      "action=[-0.35457679629325867]\n",
      "action=[-0.40398499369621277]\n",
      "action=[-0.3720749616622925]\n",
      "action=[-0.36311984062194824]\n",
      "action=[-0.3794466257095337]\n",
      "action=[-0.3855438828468323]\n",
      "action=[-0.39462029933929443]\n",
      "action=[-0.40609467029571533]\n",
      "action=[-0.40593233704566956]\n",
      "action=[-0.378154993057251]\n",
      "action=[-0.41051188111305237]\n",
      "action=[-0.3844965100288391]\n",
      "action=[-0.3994097411632538]\n",
      "action=[-0.3976789712905884]\n",
      "action=[-0.37549498677253723]\n",
      "action=[-0.3846151530742645]\n",
      "action=[-0.3936678171157837]\n",
      "action=[-0.4048915207386017]\n",
      "action=[-0.368793249130249]\n",
      "action=[-0.4039800465106964]\n",
      "action=[-0.3953248858451843]\n",
      "action=[-0.4005952477455139]\n",
      "action=[-0.4263434112071991]\n",
      "action=[-0.4051014482975006]\n",
      "action=[-0.3752760887145996]\n",
      "action=[-0.40616047382354736]\n",
      "action=[-0.36586737632751465]\n",
      "action=[-0.35306525230407715]\n",
      "action=[-0.3632090091705322]\n",
      "action=[-0.35285258293151855]\n",
      "action=[-0.36035090684890747]\n",
      "action=[-0.38037753105163574]\n",
      "action=[-0.3531171381473541]\n",
      "action=[-0.409710556268692]\n",
      "action=[-0.383536696434021]\n",
      "action=[-0.3842701017856598]\n",
      "action=[-0.40508243441581726]\n",
      "action=[-0.3704666793346405]\n",
      "action=[-0.432661771774292]\n",
      "action=[-0.39284759759902954]\n",
      "action=[-0.38067901134490967]\n",
      "action=[-0.3803187906742096]\n",
      "action=[-0.37352773547172546]\n",
      "action=[-0.3532417118549347]\n",
      "action=[-0.4018101096153259]\n",
      "action=[-0.36469918489456177]\n",
      "action=[-0.40245798230171204]\n",
      "action=[-0.3632056415081024]\n",
      "action=[-0.38843581080436707]\n",
      "action=[-0.40224841237068176]\n",
      "action=[-0.4021701514720917]\n",
      "action=[-0.3553808927536011]\n",
      "action=[-0.3928593099117279]\n",
      "action=[-0.40535056591033936]\n",
      "action=[-0.3768238127231598]\n",
      "action=[-0.3895655870437622]\n",
      "action=[-0.3913036584854126]\n",
      "action=[-0.40024396777153015]\n",
      "action=[-0.4197424650192261]\n",
      "action=[-0.39862412214279175]\n",
      "action=[-0.3957447111606598]\n",
      "action=[-0.3618067800998688]\n",
      "action=[-0.37380361557006836]\n",
      "action=[-0.3888026773929596]\n",
      "action=[-0.3782941401004791]\n",
      "action=[-0.4068322777748108]\n",
      "action=[-0.4183230400085449]\n",
      "action=[-0.386527419090271]\n",
      "action=[-0.38860926032066345]\n",
      "action=[-0.3969500958919525]\n",
      "action=[-0.3714524805545807]\n",
      "action=[-0.37323978543281555]\n",
      "action=[-0.3393029272556305]\n",
      "action=[-0.3733294606208801]\n",
      "action=[-0.3935864567756653]\n",
      "action=[-0.38273653388023376]\n",
      "action=[-0.4151883125305176]\n",
      "action=[-0.3892079293727875]\n",
      "action=[-0.40438202023506165]\n",
      "action=[-0.4144086539745331]\n",
      "action=[-0.39027029275894165]\n",
      "action=[-0.3838575482368469]\n",
      "action=[-0.3795010447502136]\n",
      "action=[-0.3860794007778168]\n",
      "action=[-0.36732083559036255]\n",
      "action=[-0.37020429968833923]\n",
      "action=[-0.37580811977386475]\n",
      "action=[-0.39117127656936646]\n",
      "action=[-0.4087849259376526]\n",
      "action=[-0.41698363423347473]\n",
      "action=[-0.36992236971855164]\n",
      "action=[-0.41262662410736084]\n",
      "action=[-0.38460686802864075]\n",
      "action=[-0.3996552526950836]\n",
      "action=[-0.3764724135398865]\n",
      "action=[-0.3737034499645233]\n",
      "action=[-0.3885655105113983]\n",
      "action=[-0.3544645309448242]\n",
      "action=[-0.40190863609313965]\n",
      "action=[-0.3691787123680115]\n",
      "action=[-0.4446689486503601]\n",
      "action=[-0.3858121633529663]\n",
      "action=[-0.41973671317100525]\n",
      "action=[-0.3927973210811615]\n",
      "action=[-0.4094397723674774]\n",
      "action=[-0.37271198630332947]\n",
      "action=[-0.4015519618988037]\n",
      "action=[-0.40364375710487366]\n",
      "action=[-0.38515782356262207]\n",
      "action=[-0.377714067697525]\n",
      "action=[-0.40159285068511963]\n",
      "action=[-0.37443599104881287]\n",
      "action=[-0.3808998465538025]\n",
      "action=[-0.3854936361312866]\n",
      "action=[-0.41987693309783936]\n",
      "action=[-0.4179658889770508]\n",
      "action=[-0.41084718704223633]\n",
      "action=[-0.3887406587600708]\n",
      "action=[-0.399275541305542]\n",
      "action=[-0.38101521134376526]\n",
      "action=[-0.3895731568336487]\n",
      "action=[-0.36727845668792725]\n",
      "action=[-0.40921276807785034]\n",
      "action=[-0.4060906171798706]\n",
      "action=[-0.38257521390914917]\n",
      "action=[-0.41822558641433716]\n",
      "action=[-0.39473509788513184]\n",
      "action=[-0.37612468004226685]\n",
      "action=[-0.41167134046554565]\n",
      "action=[-0.37639132142066956]\n",
      "action=[-0.3643192648887634]\n",
      "action=[-0.3974565863609314]\n",
      "action=[-0.36784470081329346]\n",
      "action=[-0.3742932081222534]\n",
      "action=[-0.384344220161438]\n",
      "action=[-0.3789590895175934]\n",
      "action=[-0.3928694427013397]\n",
      "action=[-0.3755933344364166]\n",
      "action=[-0.38067924976348877]\n",
      "action=[-0.4071780741214752]\n",
      "action=[-0.3841426968574524]\n",
      "action=[-0.37729600071907043]\n",
      "action=[-0.3573146164417267]\n",
      "action=[-0.37676799297332764]\n",
      "action=[-0.40564534068107605]\n",
      "action=[-0.3963127136230469]\n",
      "action=[-0.3648214042186737]\n",
      "action=[-0.3861854374408722]\n",
      "action=[-0.40615034103393555]\n",
      "action=[-0.41334137320518494]\n",
      "action=[-0.38708657026290894]\n",
      "action=[-0.3622087836265564]\n",
      "action=[-0.38609081506729126]\n",
      "action=[-0.36978963017463684]\n",
      "action=[-0.36183232069015503]\n",
      "action=[-0.3890635371208191]\n",
      "action=[-0.42421096563339233]\n",
      "action=[-0.37226203083992004]\n",
      "action=[-0.4068736135959625]\n",
      "action=[-0.3972647190093994]\n",
      "action=[-0.3722521960735321]\n",
      "action=[-0.3789110779762268]\n",
      "action=[-0.3938172459602356]\n",
      "action=[-0.4011111557483673]\n",
      "action=[-0.37703773379325867]\n",
      "action=[-0.3756716847419739]\n",
      "action=[-0.3878202438354492]\n",
      "action=[-0.35738927125930786]\n",
      "action=[-0.42887020111083984]\n",
      "action=[-0.3751542270183563]\n",
      "Episode finished! Total reward: -15.04412658032621\n"
     ]
    }
   ],
   "source": [
    "def test_agent(agent, env_name):\n",
    "    env = gym.make(env_name, render_mode=\"human\")\n",
    "\n",
    "    state, info = env.reset()\n",
    "\n",
    "    print(f\"Starting observation: {state}\")\n",
    "\n",
    "    episode_over = False\n",
    "    total_reward = 0\n",
    "\n",
    "    while not episode_over:\n",
    "        action = agent.take_action(state)\n",
    "        state, reward, terminated, truncated, info = env.step(action)\n",
    "        total_reward += reward\n",
    "        episode_over = terminated or truncated\n",
    "        print(f\"{action=}\")\n",
    "\n",
    "    print(f\"Episode finished! Total reward: {total_reward}\")\n",
    "    env.close()\n",
    "\n",
    "test_agent(agent, env_name)"
   ]
  },
  {
   "cell_type": "code",
   "execution_count": null,
   "id": "257a1ae2-c9a8-4189-bf85-69e332129075",
   "metadata": {},
   "outputs": [],
   "source": []
  }
 ],
 "metadata": {
  "kernelspec": {
   "display_name": "rl",
   "language": "python",
   "name": "rl"
  },
  "language_info": {
   "codemirror_mode": {
    "name": "ipython",
    "version": 3
   },
   "file_extension": ".py",
   "mimetype": "text/x-python",
   "name": "python",
   "nbconvert_exporter": "python",
   "pygments_lexer": "ipython3",
   "version": "3.12.9"
  }
 },
 "nbformat": 4,
 "nbformat_minor": 5
}

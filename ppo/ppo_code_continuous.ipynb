{
 "cells": [
  {
   "cell_type": "code",
   "execution_count": 1,
   "id": "f4618603-83c4-4b3f-a8ab-8df9c1e07960",
   "metadata": {
    "editable": true,
    "slideshow": {
     "slide_type": ""
    },
    "tags": []
   },
   "outputs": [
    {
     "name": "stdin",
     "output_type": "stream",
     "text": [
      "Once deleted, variables cannot be recovered. Proceed (y/[n])?  y\n"
     ]
    }
   ],
   "source": [
    "%matplotlib notebook\n",
    "%reset"
   ]
  },
  {
   "cell_type": "code",
   "execution_count": 1,
   "id": "50da998b-ae98-4f99-af53-5e4edc5a280d",
   "metadata": {},
   "outputs": [],
   "source": [
    "import gymnasium as gym\n",
    "import matplotlib.pyplot as plt\n",
    "import torch\n",
    "import torch.nn as nn\n",
    "import torch.nn.functional as F\n",
    "from tqdm.notebook import tqdm\n",
    "import numpy as np\n",
    "from torch.utils.tensorboard import SummaryWriter\n",
    "import datetime\n",
    "import random"
   ]
  },
  {
   "cell_type": "code",
   "execution_count": 2,
   "id": "aeffa910-d4f0-4405-b6fe-193e85b9c76a",
   "metadata": {},
   "outputs": [],
   "source": [
    "# from tensorboard import notebook\n",
    "\n",
    "# # 初始化 SummaryWriter，日志将保存在'runs'目录下\n",
    "# writer = SummaryWriter(f\"./logs/{datetime.datetime.now()}\")\n",
    "\n",
    "# # 启动 TensorBoard 并指定日志目录\n",
    "# notebook.start(\"--logdir runs\")\n",
    "\n",
    "# # 可选：创建一个链接直接跳转到 TensorBoard 界面\n",
    "# # notebook.display(height=400)"
   ]
  },
  {
   "cell_type": "code",
   "execution_count": 3,
   "id": "6ab30af3",
   "metadata": {},
   "outputs": [],
   "source": [
    "# %matplotlib qt5"
   ]
  },
  {
   "cell_type": "code",
   "execution_count": 4,
   "id": "7984d827-5006-4aab-b263-ad3657f90536",
   "metadata": {},
   "outputs": [],
   "source": [
    "class Actor(nn.Module):\n",
    "    def __init__(self, n_state, n_action, hidden_size = 64):\n",
    "        super(Actor, self).__init__()\n",
    "        \n",
    "        self.fc1 = torch.nn.Linear(n_state, hidden_size)\n",
    "        self.fc2 = torch.nn.Linear(hidden_size, hidden_size)\n",
    "        self.fc_mean = torch.nn.Linear(hidden_size, n_action)\n",
    "        self.fc_std = torch.nn.Linear(hidden_size, n_action)\n",
    "\n",
    "    def forward(self, state):\n",
    "        x = self.fc1(state)\n",
    "        x = self.fc2(F.relu(x))\n",
    "        mu = torch.tanh(self.fc_mean(F.relu(x))) * 1.0\n",
    "        std = F.softplus(self.fc_std(F.relu(x))) #+ 0e-3\n",
    "        # std = torch.ones_like(mu) * 1.0  # 固定标准差，增强探索\n",
    "\n",
    "        return mu, std\n",
    "\n",
    "        \n",
    "class Critic(nn.Module):\n",
    "    def __init__(self, n_state, hidden_size=64):\n",
    "        super(Critic, self).__init__()\n",
    "\n",
    "        self.fc1 = torch.nn.Linear(n_state, hidden_size)\n",
    "        self.fc2 = torch.nn.Linear(hidden_size, hidden_size)\n",
    "        self.fc3 = torch.nn.Linear(hidden_size, 1)\n",
    "\n",
    "    def forward(self, state):\n",
    "        x = self.fc1(state)\n",
    "        x = self.fc2(F.relu(x))\n",
    "        x = self.fc3(F.relu(x))\n",
    "        return x\n",
    "\n",
    "\n",
    "def compute_advantage(gamma, lmbda, td_delta):\n",
    "    td_delta = td_delta.detach().numpy()\n",
    "    advantage_list = []\n",
    "    advantage = 0.0\n",
    "    for delta in td_delta[::-1]:\n",
    "        advantage = gamma * lmbda * advantage + delta\n",
    "        advantage_list.append(advantage)\n",
    "    advantage_list.reverse()\n",
    "    return torch.tensor(advantage_list, dtype=torch.float)\n",
    "\n",
    "def shaped_reward(state, original_reward):\n",
    "    position, velocity = state\n",
    "    # 增加与位置相关的奖励（鼓励向右侧山顶移动）\n",
    "    position_reward = 10 * (position + 0.5)  # 谷底位置约为 -0.5，向右侧移动时奖励增加\n",
    "    # 增加与速度方向相关的奖励（鼓励沿目标方向加速）\n",
    "    velocity_reward = 5 * velocity if position > -0.5 else 0  # 右侧加速时奖励更高\n",
    "    return original_reward + position_reward + velocity_reward\n",
    "\n",
    "class PPOContinuous(nn.Module):\n",
    "\n",
    "    def __init__(self, n_state, n_action, n_hidden = 64, actor_lr=1e-4, critic_lr=1e-4, lmbda=0.1, epochs=10, eps=0.01, gamma=0.99, device=\"cpu\"):\n",
    "        super(PPOContinuous, self).__init__()\n",
    "        print(f\"{n_state=}, {n_action=}, {n_hidden=}\")\n",
    "\n",
    "        self.actor = Actor(n_state, n_action, hidden_size=n_hidden)\n",
    "        self.actor_opt = torch.optim.Adam(self.actor.parameters(), lr = actor_lr)\n",
    "\n",
    "        self.critic = Critic(n_state, hidden_size=n_hidden)\n",
    "        self.critic_opt = torch.optim.Adam(self.critic.parameters(), lr = critic_lr)\n",
    "\n",
    "        self.lmbda = lmbda\n",
    "        self.gamma = gamma\n",
    "        self.eps = eps\n",
    "        self.epochs = epochs\n",
    "        self.device = device\n",
    "\n",
    "    def take_action(self, state, eval = False):\n",
    "        state = torch.tensor([state], dtype=torch.float).to(self.device)\n",
    "        mu, std = self.actor(state)\n",
    "\n",
    "        action_dist = torch.distributions.Normal(mu, std)\n",
    "        action = action_dist.sample()\n",
    "\n",
    "        if not eval:\n",
    "            r = random.uniform(-1, 1) * 0.0\n",
    "        else:\n",
    "            r = 0.\n",
    "\n",
    "        # return [np.clip(action.item() + r, -1, 1)]\n",
    "        return [action.item()]\n",
    "        \n",
    "\n",
    "    def update(self, transition_dict):\n",
    "        states = torch.tensor(transition_dict['states'], dtype=torch.float).to(self.device)\n",
    "        actions = torch.tensor(transition_dict['actions']).view(-1, 1).to(self.device)\n",
    "        rewards = torch.tensor(transition_dict['rewards'], dtype=torch.float).view(-1, 1).to(self.device)\n",
    "        next_states = torch.tensor(transition_dict['next_states'], dtype=torch.float).to(self.device)\n",
    "        dones = torch.tensor(transition_dict['dones'], dtype=torch.float).view(-1, 1).to(self.device) \n",
    "\n",
    "        td_target = rewards + self.gamma * self.critic(next_states) * (1 - dones)\n",
    "        td_delta = td_target - self.critic(states)\n",
    "        \n",
    "        advantage = compute_advantage(self.gamma, self.lmbda, td_delta)\n",
    "\n",
    "        mu, std = self.actor(states)\n",
    "        action_dist = torch.distributions.Normal(mu.detach(), std.detach())\n",
    "        old_log_probs = action_dist.log_prob(actions)\n",
    "\n",
    "        for _ in range(self.epochs):\n",
    "            mu, std = self.actor(states)\n",
    "            # print(f\"====={mu.max()=}, {std.max()=}, {std.min()=}\")\n",
    "\n",
    "            action_dists = torch.distributions.Normal(mu, std)\n",
    "            log_probs = action_dists.log_prob(actions)\n",
    "\n",
    "            ratio = torch.exp(log_probs - old_log_probs)\n",
    "            # ratio = torch.clamp(ratio, min=-1e6, max=1e6)\n",
    "            l1 = ratio * advantage\n",
    "            l2 = torch.clamp(ratio, 1 - self.eps, 1 + self.eps) * advantage\n",
    "            l3 = - torch.min(l1, l2)\n",
    "\n",
    "            actor_loss = torch.mean(l3)\n",
    "            critic_loss = torch.mean(F.mse_loss(self.critic(states), td_target.detach()))\n",
    "            # print(f\"====={actor_loss=}, {critic_loss=}, {l1.min()=}, {ratio.min()=}, {ratio.max()=} \\n\")\n",
    "            \n",
    "\n",
    "            self.actor_opt.zero_grad()\n",
    "            self.critic_opt.zero_grad()\n",
    "            actor_loss.backward()\n",
    "            critic_loss.backward()\n",
    "            self.actor_opt.step()\n",
    "            self.critic_opt.step()\n",
    "        # print(f\"====actor_loss: {actor_loss.detach().item()}, critic_loss: {critic_loss.detach().item()}\")\n",
    "\n",
    "        "
   ]
  },
  {
   "cell_type": "code",
   "execution_count": 11,
   "id": "33071044-9c76-4f06-8f27-1e9bc44e5c0e",
   "metadata": {},
   "outputs": [
    {
     "name": "stdout",
     "output_type": "stream",
     "text": [
      "state space: [-0.34490016  0.01117477]\n",
      "action space: Box(-1.0, 1.0, (1,), float32)\n",
      "n_state=2, n_action=1, n_hidden=128\n"
     ]
    }
   ],
   "source": [
    "actor_lr = 1e-3\n",
    "critic_lr = 1e-3\n",
    "num_episodes = 1000\n",
    "hidden = 128\n",
    "\n",
    "gamma = 0.98\n",
    "lmbda = 0.95\n",
    "epochs = 10\n",
    "eps = 0.4\n",
    "\n",
    "device = \"cpu\"\n",
    "env_name = \"MountainCarContinuous-v0\"\n",
    "# env_name = \"Pendulum-v1\"\n",
    "\n",
    "\n",
    "env = gym.make(env_name)\n",
    "torch.manual_seed(0)\n",
    "print(f\"state space:\" , env.observation_space.sample())\n",
    "print(f\"action space: {env.action_space}\")\n",
    "state_dim = env.observation_space.shape[0]\n",
    "action_dim = env.action_space.shape[0]\n",
    "\n",
    "agent = PPOContinuous(n_state=state_dim, n_action=action_dim, n_hidden=hidden,actor_lr=actor_lr, critic_lr=critic_lr)"
   ]
  },
  {
   "cell_type": "code",
   "execution_count": null,
   "id": "b0e116f6-b5d9-411f-8a21-ce736125d39f",
   "metadata": {},
   "outputs": [
    {
     "data": {
      "application/vnd.jupyter.widget-view+json": {
       "model_id": "8076975cb1b84b0dbe925717ebc02791",
       "version_major": 2,
       "version_minor": 0
      },
      "text/plain": [
       "###0 : 0 :   0%|          | 0/100 [00:00<?, ?it/s]"
      ]
     },
     "metadata": {},
     "output_type": "display_data"
    },
    {
     "data": {
      "application/vnd.jupyter.widget-view+json": {
       "model_id": "e4f7f4cdee25410ebea7ff8808973bf3",
       "version_major": 2,
       "version_minor": 0
      },
      "text/plain": [
       "###1 : -0.048113669103057706 :   0%|          | 0/100 [00:00<?, ?it/s]"
      ]
     },
     "metadata": {},
     "output_type": "display_data"
    },
    {
     "data": {
      "application/vnd.jupyter.widget-view+json": {
       "model_id": "b2e34097510740fdbe223a272bb03c21",
       "version_major": 2,
       "version_minor": 0
      },
      "text/plain": [
       "###2 : -0.3388021284478305 :   0%|          | 0/100 [00:00<?, ?it/s]"
      ]
     },
     "metadata": {},
     "output_type": "display_data"
    },
    {
     "data": {
      "application/vnd.jupyter.widget-view+json": {
       "model_id": "16f96f2532f9425c9abddd29c389d54d",
       "version_major": 2,
       "version_minor": 0
      },
      "text/plain": [
       "###3 : -0.016599048092557106 :   0%|          | 0/100 [00:00<?, ?it/s]"
      ]
     },
     "metadata": {},
     "output_type": "display_data"
    },
    {
     "data": {
      "application/vnd.jupyter.widget-view+json": {
       "model_id": "19c04f3f31da4b66b2b1682832762b7a",
       "version_major": 2,
       "version_minor": 0
      },
      "text/plain": [
       "###4 : -0.049432106351014415 :   0%|          | 0/100 [00:00<?, ?it/s]"
      ]
     },
     "metadata": {},
     "output_type": "display_data"
    },
    {
     "data": {
      "application/vnd.jupyter.widget-view+json": {
       "model_id": "99eecc16a333473bba7f303ee796857f",
       "version_major": 2,
       "version_minor": 0
      },
      "text/plain": [
       "###5 : -0.011318589448255494 :   0%|          | 0/100 [00:00<?, ?it/s]"
      ]
     },
     "metadata": {},
     "output_type": "display_data"
    }
   ],
   "source": [
    "def train_on_policy_agent(env, agent, num_episodes):\n",
    "    return_list = []\n",
    "    episode_return = 0\n",
    "\n",
    "    for epoch in range(num_episodes//100):\n",
    "    \n",
    "        for i in tqdm(range(100), position=0, desc=f\"###{epoch} : {episode_return} \"):\n",
    "            episode_return = 0\n",
    "            transition_dict = {'states': [], 'actions': [], 'next_states': [], 'rewards': [], 'dones': []}\n",
    "            state, _ = env.reset()\n",
    "            done , truncated = False, False\n",
    "            while not done and not truncated:\n",
    "                action = agent.take_action(state)\n",
    "                next_state, reward, done, truncated, info = env.step(action)\n",
    "                # reward = shaped_reward(state, reward)\n",
    "                \n",
    "    \n",
    "                transition_dict['states'].append(state)\n",
    "                transition_dict['actions'].append(action)\n",
    "                transition_dict['next_states'].append(next_state)\n",
    "                transition_dict['rewards'].append(reward)\n",
    "                transition_dict['dones'].append(done)\n",
    "                state = next_state\n",
    "                episode_return += reward\n",
    "            return_list.append(episode_return)\n",
    "            agent.update(transition_dict)\n",
    "\n",
    "\n",
    "    return return_list\n",
    "        \n",
    "return_list = train_on_policy_agent(env, agent, num_episodes)"
   ]
  },
  {
   "cell_type": "code",
   "execution_count": null,
   "id": "6fad1a54-cf7c-4062-b51c-8687380251e9",
   "metadata": {},
   "outputs": [],
   "source": [
    "%matplotlib inline\n",
    "\n",
    "plt.plot(return_list)\n",
    "plt.show()"
   ]
  },
  {
   "cell_type": "code",
   "execution_count": 15,
   "id": "dd2750bc-4eb2-4a62-8c79-db79cbaf36e5",
   "metadata": {},
   "outputs": [
    {
     "name": "stdout",
     "output_type": "stream",
     "text": [
      "Starting observation: [-0.48672822  0.        ]\n",
      "Episode finished! Total reward: 71.94054435719826\n"
     ]
    }
   ],
   "source": [
    "%matplotlib qt5\n",
    "\n",
    "def test_agent(agent, env_name):\n",
    "    env = gym.make(env_name, render_mode=\"human\")\n",
    "\n",
    "    state, info = env.reset()\n",
    "\n",
    "    print(f\"Starting observation: {state}\")\n",
    "\n",
    "    episode_over = False\n",
    "    total_reward = 0\n",
    "    action_list = []\n",
    "\n",
    "    while not episode_over:\n",
    "        action = agent.take_action(state, eval = True)\n",
    "        state, reward, terminated, truncated, info = env.step(action)\n",
    "        total_reward += reward\n",
    "        episode_over = terminated or truncated\n",
    "        # print(f\"{action=}\")\n",
    "        action_list.append(action)\n",
    "\n",
    "    print(f\"Episode finished! Total reward: {total_reward}\")\n",
    "    env.close()\n",
    "    return action_list\n",
    "    \n",
    "\n",
    "action_list = test_agent(agent, env_name)"
   ]
  },
  {
   "cell_type": "code",
   "execution_count": 13,
   "id": "93a2a1a2-d131-4eb0-8539-debdb5f56c4b",
   "metadata": {},
   "outputs": [
    {
     "data": {
      "image/png": "[encoded data removed]",
      "text/plain": [
       "<Figure size 640x480 with 1 Axes>"
      ]
     },
     "metadata": {},
     "output_type": "display_data"
    }
   ],
   "source": [
    "plt.hist(action_list, bins=30, density=True, alpha=0.7)\n",
    "plt.show()"
   ]
  },
  {
   "cell_type": "code",
   "execution_count": null,
   "id": "882f3861-a1ed-466b-87b9-dd65c1213ea4",
   "metadata": {},
   "outputs": [],
   "source": []
  },
  {
   "cell_type": "code",
   "execution_count": null,
   "id": "257a1ae2-c9a8-4189-bf85-69e332129075",
   "metadata": {},
   "outputs": [],
   "source": []
  },
  {
   "cell_type": "code",
   "execution_count": null,
   "id": "6b136c6a-7f35-48b5-a6b2-6d4eb8679ec4",
   "metadata": {},
   "outputs": [],
   "source": []
  },
  {
   "cell_type": "code",
   "execution_count": null,
   "id": "2c49addc-91c4-499f-80d4-a2d1f2d6bf8c",
   "metadata": {},
   "outputs": [],
   "source": []
  }
 ],
 "metadata": {
  "kernelspec": {
   "display_name": "rl",
   "language": "python",
   "name": "rl"
  },
  "language_info": {
   "codemirror_mode": {
    "name": "ipython",
    "version": 3
   },
   "file_extension": ".py",
   "mimetype": "text/x-python",
   "name": "python",
   "nbconvert_exporter": "python",
   "pygments_lexer": "ipython3",
   "version": "3.12.9"
  }
 },
 "nbformat": 4,
 "nbformat_minor": 5
}

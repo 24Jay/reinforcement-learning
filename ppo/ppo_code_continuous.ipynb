{
 "cells": [
  {
   "cell_type": "code",
   "execution_count": 27,
   "id": "03f965e2-dbc3-4af2-8bc4-f46d2a659b85",
   "metadata": {},
   "outputs": [
    {
     "name": "stdout",
     "output_type": "stream",
     "text": [
      "Warning: Cannot change to a different GUI toolkit: nbagg. Using qt5 instead.\n"
     ]
    },
    {
     "name": "stdin",
     "output_type": "stream",
     "text": [
      "Once deleted, variables cannot be recovered. Proceed (y/[n])?  y\n"
     ]
    }
   ],
   "source": [
    "%matplotlib notebook\n",
    "%reset"
   ]
  },
  {
   "cell_type": "code",
   "execution_count": 53,
   "id": "50da998b-ae98-4f99-af53-5e4edc5a280d",
   "metadata": {},
   "outputs": [],
   "source": [
    "import gymnasium as gym\n",
    "import matplotlib.pyplot as plt\n",
    "import torch\n",
    "import torch.nn as nn\n",
    "import torch.nn.functional as F\n",
    "from tqdm.notebook import tqdm\n",
    "import numpy as np\n",
    "from torch.utils.tensorboard import SummaryWriter\n",
    "import datetime\n",
    "import random"
   ]
  },
  {
   "cell_type": "code",
   "execution_count": 91,
   "id": "882df370-107c-47ec-9719-697e487d00ea",
   "metadata": {},
   "outputs": [
    {
     "name": "stdout",
     "output_type": "stream",
     "text": [
      "0.11940412722115057\n",
      "0.2859398124709106\n",
      "0.8640670813421467\n",
      "0.6589195246675073\n",
      "0.5375914640111615\n",
      "0.717015007997773\n",
      "0.5116349047869231\n",
      "0.4261274685124038\n",
      "0.49295167576509613\n",
      "0.8832233085790496\n"
     ]
    }
   ],
   "source": [
    "for i in range(10):\n",
    "    print(random.random())"
   ]
  },
  {
   "cell_type": "code",
   "execution_count": 54,
   "id": "aeffa910-d4f0-4405-b6fe-193e85b9c76a",
   "metadata": {},
   "outputs": [],
   "source": [
    "# from tensorboard import notebook\n",
    "\n",
    "# # 初始化 SummaryWriter，日志将保存在'runs'目录下\n",
    "# writer = SummaryWriter(f\"./logs/{datetime.datetime.now()}\")\n",
    "\n",
    "# # 启动 TensorBoard 并指定日志目录\n",
    "# notebook.start(\"--logdir runs\")\n",
    "\n",
    "# # 可选：创建一个链接直接跳转到 TensorBoard 界面\n",
    "# # notebook.display(height=400)"
   ]
  },
  {
   "cell_type": "code",
   "execution_count": 55,
   "id": "6ab30af3",
   "metadata": {},
   "outputs": [],
   "source": [
    "# %matplotlib qt5"
   ]
  },
  {
   "cell_type": "code",
   "execution_count": 273,
   "id": "7984d827-5006-4aab-b263-ad3657f90536",
   "metadata": {},
   "outputs": [],
   "source": [
    "class Actor(nn.Module):\n",
    "    def __init__(self, n_state, n_action, hidden_size = 64):\n",
    "        super(Actor, self).__init__()\n",
    "        \n",
    "        self.fc1 = torch.nn.Linear(n_state, hidden_size)\n",
    "        self.fc2 = torch.nn.Linear(hidden_size, hidden_size)\n",
    "        self.fc_mean = torch.nn.Linear(hidden_size, n_action)\n",
    "        self.fc_std = torch.nn.Linear(hidden_size, n_action)\n",
    "\n",
    "    def forward(self, state):\n",
    "        x = self.fc1(state)\n",
    "        x = self.fc2(F.relu(x))\n",
    "        mu = torch.tanh(self.fc_mean(F.relu(x))) * 1.0\n",
    "        # std = F.softplus(self.fc_std(F.relu(x))) + 0e-3\n",
    "        std = torch.ones_like(mu) * 1.0  # 固定标准差，增强探索\n",
    "\n",
    "        return mu, std\n",
    "\n",
    "        \n",
    "class Critic(nn.Module):\n",
    "    def __init__(self, n_state, hidden_size=64):\n",
    "        super(Critic, self).__init__()\n",
    "\n",
    "        self.fc1 = torch.nn.Linear(n_state, hidden_size)\n",
    "        self.fc2 = torch.nn.Linear(hidden_size, hidden_size)\n",
    "        self.fc3 = torch.nn.Linear(hidden_size, 1)\n",
    "\n",
    "    def forward(self, state):\n",
    "        x = self.fc1(state)\n",
    "        x = self.fc2(F.relu(x))\n",
    "        x = self.fc3(F.relu(x))\n",
    "        return x\n",
    "\n",
    "\n",
    "def compute_advantage(gamma, lmbda, td_delta):\n",
    "    td_delta = td_delta.detach().numpy()\n",
    "    advantage_list = []\n",
    "    advantage = 0.0\n",
    "    for delta in td_delta[::-1]:\n",
    "        advantage = gamma * lmbda * advantage + delta\n",
    "        advantage_list.append(advantage)\n",
    "    advantage_list.reverse()\n",
    "    return torch.tensor(advantage_list, dtype=torch.float)\n",
    "\n",
    "def shaped_reward(state, original_reward):\n",
    "    position, velocity = state\n",
    "    # 增加与位置相关的奖励（鼓励向右侧山顶移动）\n",
    "    position_reward = 10 * (position + 0.5)  # 谷底位置约为 -0.5，向右侧移动时奖励增加\n",
    "    # 增加与速度方向相关的奖励（鼓励沿目标方向加速）\n",
    "    velocity_reward = 5 * velocity if position > -0.5 else 0  # 右侧加速时奖励更高\n",
    "    return original_reward + position_reward + velocity_reward\n",
    "\n",
    "class PPOContinuous(nn.Module):\n",
    "\n",
    "    def __init__(self, n_state, n_action, n_hidden = 64, actor_lr=1e-4, critic_lr=1e-4, lmbda=0.1, epochs=10, eps=0.01, gamma=0.99, device=\"cpu\"):\n",
    "        super(PPOContinuous, self).__init__()\n",
    "        print(f\"{n_state=}, {n_action=}, {n_hidden=}\")\n",
    "\n",
    "        self.actor = Actor(n_state, n_action, hidden_size=n_hidden)\n",
    "        self.actor_opt = torch.optim.Adam(self.actor.parameters(), lr = actor_lr)\n",
    "\n",
    "        self.critic = Critic(n_state, hidden_size=n_hidden)\n",
    "        self.critic_opt = torch.optim.Adam(self.critic.parameters(), lr = critic_lr)\n",
    "\n",
    "        self.lmbda = lmbda\n",
    "        self.gamma = gamma\n",
    "        self.eps = eps\n",
    "        self.epochs = epochs\n",
    "        self.device = device\n",
    "\n",
    "    def take_action(self, state, eval = False):\n",
    "        state = torch.tensor([state], dtype=torch.float).to(self.device)\n",
    "        mu, std = self.actor(state)\n",
    "\n",
    "        action_dist = torch.distributions.Normal(mu, std)\n",
    "        action = action_dist.sample()\n",
    "\n",
    "        if not eval:\n",
    "            r = random.uniform(-1, 1) * 0.0\n",
    "        else:\n",
    "            r = 0.\n",
    "\n",
    "        # return [np.clip(action.item() + r, -1, 1)]\n",
    "        return [action.item()]\n",
    "        \n",
    "\n",
    "    def update(self, transition_dict):\n",
    "        states = torch.tensor(transition_dict['states'], dtype=torch.float).to(self.device)\n",
    "        actions = torch.tensor(transition_dict['actions']).view(-1, 1).to(self.device)\n",
    "        rewards = torch.tensor(transition_dict['rewards'], dtype=torch.float).view(-1, 1).to(self.device)\n",
    "        next_states = torch.tensor(transition_dict['next_states'], dtype=torch.float).to(self.device)\n",
    "        dones = torch.tensor(transition_dict['dones'], dtype=torch.float).view(-1, 1).to(self.device) \n",
    "\n",
    "        td_target = rewards + self.gamma * self.critic(next_states) * (1 - dones)\n",
    "        td_delta = td_target - self.critic(states)\n",
    "        \n",
    "        advantage = compute_advantage(self.gamma, self.lmbda, td_delta)\n",
    "\n",
    "        mu, std = self.actor(states)\n",
    "        action_dist = torch.distributions.Normal(mu.detach(), std.detach())\n",
    "        old_log_probs = action_dist.log_prob(actions)\n",
    "\n",
    "        for _ in range(self.epochs):\n",
    "            mu, std = self.actor(states)\n",
    "            # print(f\"====={mu.max()=}, {std.max()=}, {std.min()=}\")\n",
    "\n",
    "            action_dists = torch.distributions.Normal(mu, std)\n",
    "            log_probs = action_dists.log_prob(actions)\n",
    "\n",
    "            ratio = torch.exp(log_probs - old_log_probs)\n",
    "            # ratio = torch.clamp(ratio, min=-1e6, max=1e6)\n",
    "            l1 = ratio * advantage\n",
    "            l2 = torch.clamp(ratio, 1 - self.eps, 1 + self.eps) * advantage\n",
    "            l3 = - torch.min(l1, l2)\n",
    "\n",
    "            actor_loss = torch.mean(l3)\n",
    "            critic_loss = torch.mean(F.mse_loss(self.critic(states), td_target.detach()))\n",
    "            # print(f\"====={actor_loss=}, {critic_loss=}, {l1.min()=}, {ratio.min()=}, {ratio.max()=} \\n\")\n",
    "\n",
    "\n",
    "            self.actor_opt.zero_grad()\n",
    "            self.critic_opt.zero_grad()\n",
    "            actor_loss.backward()\n",
    "            critic_loss.backward()\n",
    "            self.actor_opt.step()\n",
    "            self.critic_opt.step()\n",
    "        "
   ]
  },
  {
   "cell_type": "code",
   "execution_count": 274,
   "id": "33071044-9c76-4f06-8f27-1e9bc44e5c0e",
   "metadata": {},
   "outputs": [
    {
     "name": "stdout",
     "output_type": "stream",
     "text": [
      "state space: [-0.9018829   0.02360933]\n",
      "action space: Box(-1.0, 1.0, (1,), float32)\n",
      "n_state=2, n_action=1, n_hidden=128\n"
     ]
    }
   ],
   "source": [
    "actor_lr = 1e-4\n",
    "critic_lr = 1e-3\n",
    "num_episodes = 1000\n",
    "hidden = 128\n",
    "\n",
    "gamma = 0.98\n",
    "lmbda = 0.95\n",
    "epochs = 10\n",
    "eps = 0.4\n",
    "\n",
    "device = \"cpu\"\n",
    "env_name = \"MountainCarContinuous-v0\"\n",
    "# env_name = \"Pendulum-v1\"\n",
    "\n",
    "\n",
    "env = gym.make(env_name)\n",
    "torch.manual_seed(0)\n",
    "print(f\"state space:\" , env.observation_space.sample())\n",
    "print(f\"action space: {env.action_space}\")\n",
    "state_dim = env.observation_space.shape[0]\n",
    "action_dim = env.action_space.shape[0]\n",
    "\n",
    "agent = PPOContinuous(n_state=state_dim, n_action=action_dim, n_hidden=hidden,actor_lr=actor_lr, critic_lr=critic_lr)"
   ]
  },
  {
   "cell_type": "code",
   "execution_count": 275,
   "id": "b0e116f6-b5d9-411f-8a21-ce736125d39f",
   "metadata": {},
   "outputs": [
    {
     "data": {
      "application/vnd.jupyter.widget-view+json": {
       "model_id": "3106886233124b37a3122a5a3be21d66",
       "version_major": 2,
       "version_minor": 0
      },
      "text/plain": [
       "###0 : 0 :   0%|          | 0/10 [00:00<?, ?it/s]"
      ]
     },
     "metadata": {},
     "output_type": "display_data"
    },
    {
     "data": {
      "application/vnd.jupyter.widget-view+json": {
       "model_id": "6714463a6ebc4a0f817c085b74c19c2d",
       "version_major": 2,
       "version_minor": 0
      },
      "text/plain": [
       "###1 : -101.16863295896077 :   0%|          | 0/10 [00:00<?, ?it/s]"
      ]
     },
     "metadata": {},
     "output_type": "display_data"
    },
    {
     "data": {
      "application/vnd.jupyter.widget-view+json": {
       "model_id": "dfdbcdad5f634cafbf0dfdd193455fea",
       "version_major": 2,
       "version_minor": 0
      },
      "text/plain": [
       "###2 : -102.39011370411221 :   0%|          | 0/10 [00:00<?, ?it/s]"
      ]
     },
     "metadata": {},
     "output_type": "display_data"
    },
    {
     "data": {
      "application/vnd.jupyter.widget-view+json": {
       "model_id": "0abea546ed644c53a73d55322d3a9517",
       "version_major": 2,
       "version_minor": 0
      },
      "text/plain": [
       "###3 : -105.47359589021839 :   0%|          | 0/10 [00:00<?, ?it/s]"
      ]
     },
     "metadata": {},
     "output_type": "display_data"
    },
    {
     "data": {
      "application/vnd.jupyter.widget-view+json": {
       "model_id": "42bfda4c46134475a11b1b5b8ca8678f",
       "version_major": 2,
       "version_minor": 0
      },
      "text/plain": [
       "###4 : -102.29501268629689 :   0%|          | 0/10 [00:00<?, ?it/s]"
      ]
     },
     "metadata": {},
     "output_type": "display_data"
    },
    {
     "data": {
      "application/vnd.jupyter.widget-view+json": {
       "model_id": "c2a2f2fe47f94c619586d96adea6ebd5",
       "version_major": 2,
       "version_minor": 0
      },
      "text/plain": [
       "###5 : -99.340455300911 :   0%|          | 0/10 [00:00<?, ?it/s]"
      ]
     },
     "metadata": {},
     "output_type": "display_data"
    },
    {
     "data": {
      "application/vnd.jupyter.widget-view+json": {
       "model_id": "b21793fc13c54e779c9a56519d56919f",
       "version_major": 2,
       "version_minor": 0
      },
      "text/plain": [
       "###6 : -100.94980686846606 :   0%|          | 0/10 [00:00<?, ?it/s]"
      ]
     },
     "metadata": {},
     "output_type": "display_data"
    },
    {
     "data": {
      "application/vnd.jupyter.widget-view+json": {
       "model_id": "d5b67a858dfa42749d9d8912874f3467",
       "version_major": 2,
       "version_minor": 0
      },
      "text/plain": [
       "###7 : -96.75876040022787 :   0%|          | 0/10 [00:00<?, ?it/s]"
      ]
     },
     "metadata": {},
     "output_type": "display_data"
    },
    {
     "data": {
      "application/vnd.jupyter.widget-view+json": {
       "model_id": "ab33aa25af33438fa44c5d6411ac1f3e",
       "version_major": 2,
       "version_minor": 0
      },
      "text/plain": [
       "###8 : -101.85771243855943 :   0%|          | 0/10 [00:00<?, ?it/s]"
      ]
     },
     "metadata": {},
     "output_type": "display_data"
    },
    {
     "data": {
      "application/vnd.jupyter.widget-view+json": {
       "model_id": "8c65ae9401db41ac9fad3ddbc8d925e4",
       "version_major": 2,
       "version_minor": 0
      },
      "text/plain": [
       "###9 : -102.63427133849662 :   0%|          | 0/10 [00:00<?, ?it/s]"
      ]
     },
     "metadata": {},
     "output_type": "display_data"
    },
    {
     "data": {
      "application/vnd.jupyter.widget-view+json": {
       "model_id": "001b325aaae44e9b9d15fac73f9c2b6e",
       "version_major": 2,
       "version_minor": 0
      },
      "text/plain": [
       "###10 : -90.92225238770455 :   0%|          | 0/10 [00:00<?, ?it/s]"
      ]
     },
     "metadata": {},
     "output_type": "display_data"
    },
    {
     "data": {
      "application/vnd.jupyter.widget-view+json": {
       "model_id": "ad340949b7074a1dbbdd78ceff21d6d6",
       "version_major": 2,
       "version_minor": 0
      },
      "text/plain": [
       "###11 : -96.55385903801596 :   0%|          | 0/10 [00:00<?, ?it/s]"
      ]
     },
     "metadata": {},
     "output_type": "display_data"
    },
    {
     "data": {
      "application/vnd.jupyter.widget-view+json": {
       "model_id": "616f0092e5184d379155f649604f36f4",
       "version_major": 2,
       "version_minor": 0
      },
      "text/plain": [
       "###12 : -110.89649797018883 :   0%|          | 0/10 [00:00<?, ?it/s]"
      ]
     },
     "metadata": {},
     "output_type": "display_data"
    },
    {
     "data": {
      "application/vnd.jupyter.widget-view+json": {
       "model_id": "ae02bbf63f6b4526b023b6261ed068a4",
       "version_major": 2,
       "version_minor": 0
      },
      "text/plain": [
       "###13 : -101.57235204309994 :   0%|          | 0/10 [00:00<?, ?it/s]"
      ]
     },
     "metadata": {},
     "output_type": "display_data"
    },
    {
     "data": {
      "application/vnd.jupyter.widget-view+json": {
       "model_id": "99bef559a8e1420aae1bd53f9265de7f",
       "version_major": 2,
       "version_minor": 0
      },
      "text/plain": [
       "###14 : -104.80319872940647 :   0%|          | 0/10 [00:00<?, ?it/s]"
      ]
     },
     "metadata": {},
     "output_type": "display_data"
    },
    {
     "data": {
      "application/vnd.jupyter.widget-view+json": {
       "model_id": "85b22e5e403f4f779436344a4acd4203",
       "version_major": 2,
       "version_minor": 0
      },
      "text/plain": [
       "###15 : -101.76233496493475 :   0%|          | 0/10 [00:00<?, ?it/s]"
      ]
     },
     "metadata": {},
     "output_type": "display_data"
    },
    {
     "data": {
      "application/vnd.jupyter.widget-view+json": {
       "model_id": "835a56a136fe46bf8a8253dc773865d8",
       "version_major": 2,
       "version_minor": 0
      },
      "text/plain": [
       "###16 : -104.36130911214508 :   0%|          | 0/10 [00:00<?, ?it/s]"
      ]
     },
     "metadata": {},
     "output_type": "display_data"
    },
    {
     "data": {
      "application/vnd.jupyter.widget-view+json": {
       "model_id": "b34753a2ce6248038eb7e5e1647dc403",
       "version_major": 2,
       "version_minor": 0
      },
      "text/plain": [
       "###17 : -101.23465711925358 :   0%|          | 0/10 [00:00<?, ?it/s]"
      ]
     },
     "metadata": {},
     "output_type": "display_data"
    },
    {
     "data": {
      "application/vnd.jupyter.widget-view+json": {
       "model_id": "e2f677e9fc0c440a83e97f5569eed470",
       "version_major": 2,
       "version_minor": 0
      },
      "text/plain": [
       "###18 : -102.21231397200125 :   0%|          | 0/10 [00:00<?, ?it/s]"
      ]
     },
     "metadata": {},
     "output_type": "display_data"
    },
    {
     "data": {
      "application/vnd.jupyter.widget-view+json": {
       "model_id": "5faf9718e4b746478bca38d2945e2977",
       "version_major": 2,
       "version_minor": 0
      },
      "text/plain": [
       "###19 : -104.74761074095095 :   0%|          | 0/10 [00:00<?, ?it/s]"
      ]
     },
     "metadata": {},
     "output_type": "display_data"
    },
    {
     "data": {
      "application/vnd.jupyter.widget-view+json": {
       "model_id": "2dbd62d0738b4c4cb682742075b8737c",
       "version_major": 2,
       "version_minor": 0
      },
      "text/plain": [
       "###20 : -103.43861539271262 :   0%|          | 0/10 [00:00<?, ?it/s]"
      ]
     },
     "metadata": {},
     "output_type": "display_data"
    },
    {
     "data": {
      "application/vnd.jupyter.widget-view+json": {
       "model_id": "41bbb88a7b0f4d06bf6bd8e65d390078",
       "version_major": 2,
       "version_minor": 0
      },
      "text/plain": [
       "###21 : -108.09601290502984 :   0%|          | 0/10 [00:00<?, ?it/s]"
      ]
     },
     "metadata": {},
     "output_type": "display_data"
    },
    {
     "data": {
      "application/vnd.jupyter.widget-view+json": {
       "model_id": "72d5759aeb4d4e28a276f9693b7f3fd5",
       "version_major": 2,
       "version_minor": 0
      },
      "text/plain": [
       "###22 : -105.18816802762194 :   0%|          | 0/10 [00:00<?, ?it/s]"
      ]
     },
     "metadata": {},
     "output_type": "display_data"
    },
    {
     "data": {
      "application/vnd.jupyter.widget-view+json": {
       "model_id": "2811c8b63a3f4e8193816ca3420c83f6",
       "version_major": 2,
       "version_minor": 0
      },
      "text/plain": [
       "###23 : -102.49470865160818 :   0%|          | 0/10 [00:00<?, ?it/s]"
      ]
     },
     "metadata": {},
     "output_type": "display_data"
    },
    {
     "data": {
      "application/vnd.jupyter.widget-view+json": {
       "model_id": "a6f0b90d39bd4865a7d86a497a3b289e",
       "version_major": 2,
       "version_minor": 0
      },
      "text/plain": [
       "###24 : -98.1860985780383 :   0%|          | 0/10 [00:00<?, ?it/s]"
      ]
     },
     "metadata": {},
     "output_type": "display_data"
    },
    {
     "data": {
      "application/vnd.jupyter.widget-view+json": {
       "model_id": "d3df64f083194dc691378d045e4017b6",
       "version_major": 2,
       "version_minor": 0
      },
      "text/plain": [
       "###25 : -103.54040733824138 :   0%|          | 0/10 [00:00<?, ?it/s]"
      ]
     },
     "metadata": {},
     "output_type": "display_data"
    },
    {
     "data": {
      "application/vnd.jupyter.widget-view+json": {
       "model_id": "5ebd851aeb2c4d0ca96fd6ef2baee002",
       "version_major": 2,
       "version_minor": 0
      },
      "text/plain": [
       "###26 : -106.45173897127871 :   0%|          | 0/10 [00:00<?, ?it/s]"
      ]
     },
     "metadata": {},
     "output_type": "display_data"
    },
    {
     "data": {
      "application/vnd.jupyter.widget-view+json": {
       "model_id": "803d25c5dfce4959af53698defdc0aee",
       "version_major": 2,
       "version_minor": 0
      },
      "text/plain": [
       "###27 : -98.74851194150637 :   0%|          | 0/10 [00:00<?, ?it/s]"
      ]
     },
     "metadata": {},
     "output_type": "display_data"
    },
    {
     "data": {
      "application/vnd.jupyter.widget-view+json": {
       "model_id": "932e46369a3141efbf1f7960e49f7bea",
       "version_major": 2,
       "version_minor": 0
      },
      "text/plain": [
       "###28 : -92.71029441571764 :   0%|          | 0/10 [00:00<?, ?it/s]"
      ]
     },
     "metadata": {},
     "output_type": "display_data"
    },
    {
     "data": {
      "application/vnd.jupyter.widget-view+json": {
       "model_id": "5557e75c45904032bad73a02fff90324",
       "version_major": 2,
       "version_minor": 0
      },
      "text/plain": [
       "###29 : -100.22000165113498 :   0%|          | 0/10 [00:00<?, ?it/s]"
      ]
     },
     "metadata": {},
     "output_type": "display_data"
    },
    {
     "data": {
      "application/vnd.jupyter.widget-view+json": {
       "model_id": "a202779e73d047f7b782f4525ee8bf97",
       "version_major": 2,
       "version_minor": 0
      },
      "text/plain": [
       "###30 : -97.31288856087465 :   0%|          | 0/10 [00:00<?, ?it/s]"
      ]
     },
     "metadata": {},
     "output_type": "display_data"
    },
    {
     "data": {
      "application/vnd.jupyter.widget-view+json": {
       "model_id": "9eaf69613641455fa25a656b22b67e41",
       "version_major": 2,
       "version_minor": 0
      },
      "text/plain": [
       "###31 : -97.72180849656226 :   0%|          | 0/10 [00:00<?, ?it/s]"
      ]
     },
     "metadata": {},
     "output_type": "display_data"
    },
    {
     "data": {
      "application/vnd.jupyter.widget-view+json": {
       "model_id": "12bab9b47ed64835beba5187357de468",
       "version_major": 2,
       "version_minor": 0
      },
      "text/plain": [
       "###32 : -105.7962488189959 :   0%|          | 0/10 [00:00<?, ?it/s]"
      ]
     },
     "metadata": {},
     "output_type": "display_data"
    },
    {
     "data": {
      "application/vnd.jupyter.widget-view+json": {
       "model_id": "27268fa3f9cc4399b1cfd7fa7df58221",
       "version_major": 2,
       "version_minor": 0
      },
      "text/plain": [
       "###33 : -106.40851796926037 :   0%|          | 0/10 [00:00<?, ?it/s]"
      ]
     },
     "metadata": {},
     "output_type": "display_data"
    },
    {
     "data": {
      "application/vnd.jupyter.widget-view+json": {
       "model_id": "e0d357d8baf5455481634210299e1305",
       "version_major": 2,
       "version_minor": 0
      },
      "text/plain": [
       "###34 : -106.12339400343046 :   0%|          | 0/10 [00:00<?, ?it/s]"
      ]
     },
     "metadata": {},
     "output_type": "display_data"
    },
    {
     "data": {
      "application/vnd.jupyter.widget-view+json": {
       "model_id": "f34b8573c89d4176b74c76ee221e9786",
       "version_major": 2,
       "version_minor": 0
      },
      "text/plain": [
       "###35 : -96.93539209945929 :   0%|          | 0/10 [00:00<?, ?it/s]"
      ]
     },
     "metadata": {},
     "output_type": "display_data"
    },
    {
     "data": {
      "application/vnd.jupyter.widget-view+json": {
       "model_id": "e4087e1f441c4ba2981490d2d03a57c4",
       "version_major": 2,
       "version_minor": 0
      },
      "text/plain": [
       "###36 : -103.9481170000257 :   0%|          | 0/10 [00:00<?, ?it/s]"
      ]
     },
     "metadata": {},
     "output_type": "display_data"
    },
    {
     "data": {
      "application/vnd.jupyter.widget-view+json": {
       "model_id": "ad0dfb24aab4491aaa5df772c9e1cbb1",
       "version_major": 2,
       "version_minor": 0
      },
      "text/plain": [
       "###37 : -94.14638789690734 :   0%|          | 0/10 [00:00<?, ?it/s]"
      ]
     },
     "metadata": {},
     "output_type": "display_data"
    },
    {
     "data": {
      "application/vnd.jupyter.widget-view+json": {
       "model_id": "6323538feef744258e214fd3979feab5",
       "version_major": 2,
       "version_minor": 0
      },
      "text/plain": [
       "###38 : -100.29241159319258 :   0%|          | 0/10 [00:00<?, ?it/s]"
      ]
     },
     "metadata": {},
     "output_type": "display_data"
    },
    {
     "data": {
      "application/vnd.jupyter.widget-view+json": {
       "model_id": "523c1bdf662042d48da508f5b5acfa70",
       "version_major": 2,
       "version_minor": 0
      },
      "text/plain": [
       "###39 : -108.62596651452995 :   0%|          | 0/10 [00:00<?, ?it/s]"
      ]
     },
     "metadata": {},
     "output_type": "display_data"
    },
    {
     "data": {
      "application/vnd.jupyter.widget-view+json": {
       "model_id": "10102a5e190842b9b37b8bd34a1e2abb",
       "version_major": 2,
       "version_minor": 0
      },
      "text/plain": [
       "###40 : -95.50407299574728 :   0%|          | 0/10 [00:00<?, ?it/s]"
      ]
     },
     "metadata": {},
     "output_type": "display_data"
    },
    {
     "data": {
      "application/vnd.jupyter.widget-view+json": {
       "model_id": "6f7e66a812fc4d72b9084a38ddc21a6d",
       "version_major": 2,
       "version_minor": 0
      },
      "text/plain": [
       "###41 : -101.76460190865096 :   0%|          | 0/10 [00:00<?, ?it/s]"
      ]
     },
     "metadata": {},
     "output_type": "display_data"
    },
    {
     "data": {
      "application/vnd.jupyter.widget-view+json": {
       "model_id": "00365ce0fa54437f93f67b39e356ce3b",
       "version_major": 2,
       "version_minor": 0
      },
      "text/plain": [
       "###42 : -104.41162065495166 :   0%|          | 0/10 [00:00<?, ?it/s]"
      ]
     },
     "metadata": {},
     "output_type": "display_data"
    },
    {
     "data": {
      "application/vnd.jupyter.widget-view+json": {
       "model_id": "15a63f67ad854bcea86f879ba56c926d",
       "version_major": 2,
       "version_minor": 0
      },
      "text/plain": [
       "###43 : -97.20250914290486 :   0%|          | 0/10 [00:00<?, ?it/s]"
      ]
     },
     "metadata": {},
     "output_type": "display_data"
    },
    {
     "data": {
      "application/vnd.jupyter.widget-view+json": {
       "model_id": "bb1e943d60e64e439dd6e21ba38f2c21",
       "version_major": 2,
       "version_minor": 0
      },
      "text/plain": [
       "###44 : -100.33320207139622 :   0%|          | 0/10 [00:00<?, ?it/s]"
      ]
     },
     "metadata": {},
     "output_type": "display_data"
    },
    {
     "data": {
      "application/vnd.jupyter.widget-view+json": {
       "model_id": "2906277edb7b4bc2bc51721d3ac5d924",
       "version_major": 2,
       "version_minor": 0
      },
      "text/plain": [
       "###45 : -105.31425632404247 :   0%|          | 0/10 [00:00<?, ?it/s]"
      ]
     },
     "metadata": {},
     "output_type": "display_data"
    },
    {
     "data": {
      "application/vnd.jupyter.widget-view+json": {
       "model_id": "15aaf629a42d470b9057cedfb3d6d337",
       "version_major": 2,
       "version_minor": 0
      },
      "text/plain": [
       "###46 : -98.2440285522618 :   0%|          | 0/10 [00:00<?, ?it/s]"
      ]
     },
     "metadata": {},
     "output_type": "display_data"
    },
    {
     "data": {
      "application/vnd.jupyter.widget-view+json": {
       "model_id": "1e6112f010d6476aa8ea3de52a08e0bc",
       "version_major": 2,
       "version_minor": 0
      },
      "text/plain": [
       "###47 : -109.04009097509825 :   0%|          | 0/10 [00:00<?, ?it/s]"
      ]
     },
     "metadata": {},
     "output_type": "display_data"
    },
    {
     "data": {
      "application/vnd.jupyter.widget-view+json": {
       "model_id": "ffe1702410d04eb59b7d4438996483d5",
       "version_major": 2,
       "version_minor": 0
      },
      "text/plain": [
       "###48 : -103.70117025544502 :   0%|          | 0/10 [00:00<?, ?it/s]"
      ]
     },
     "metadata": {},
     "output_type": "display_data"
    },
    {
     "data": {
      "application/vnd.jupyter.widget-view+json": {
       "model_id": "8a4852b8b51d4539bfe320904eed6839",
       "version_major": 2,
       "version_minor": 0
      },
      "text/plain": [
       "###49 : -97.50791095042737 :   0%|          | 0/10 [00:00<?, ?it/s]"
      ]
     },
     "metadata": {},
     "output_type": "display_data"
    },
    {
     "data": {
      "application/vnd.jupyter.widget-view+json": {
       "model_id": "278a2b7ddd464e4798be342d3f2f0fa1",
       "version_major": 2,
       "version_minor": 0
      },
      "text/plain": [
       "###50 : -112.25030827204264 :   0%|          | 0/10 [00:00<?, ?it/s]"
      ]
     },
     "metadata": {},
     "output_type": "display_data"
    },
    {
     "data": {
      "application/vnd.jupyter.widget-view+json": {
       "model_id": "44e0455d482f41258f59afbf3fdf0b4e",
       "version_major": 2,
       "version_minor": 0
      },
      "text/plain": [
       "###51 : -101.28818509881239 :   0%|          | 0/10 [00:00<?, ?it/s]"
      ]
     },
     "metadata": {},
     "output_type": "display_data"
    },
    {
     "data": {
      "application/vnd.jupyter.widget-view+json": {
       "model_id": "5a819db938f6449e838da5a3e6b3bc53",
       "version_major": 2,
       "version_minor": 0
      },
      "text/plain": [
       "###52 : -106.03872722808617 :   0%|          | 0/10 [00:00<?, ?it/s]"
      ]
     },
     "metadata": {},
     "output_type": "display_data"
    },
    {
     "data": {
      "application/vnd.jupyter.widget-view+json": {
       "model_id": "ba2a26e6eae74a6689d4141c9e4f5565",
       "version_major": 2,
       "version_minor": 0
      },
      "text/plain": [
       "###53 : -90.06553266907477 :   0%|          | 0/10 [00:00<?, ?it/s]"
      ]
     },
     "metadata": {},
     "output_type": "display_data"
    },
    {
     "data": {
      "application/vnd.jupyter.widget-view+json": {
       "model_id": "61d2babf50384bf1a20977067a37b8d3",
       "version_major": 2,
       "version_minor": 0
      },
      "text/plain": [
       "###54 : -97.4817635638676 :   0%|          | 0/10 [00:00<?, ?it/s]"
      ]
     },
     "metadata": {},
     "output_type": "display_data"
    },
    {
     "data": {
      "application/vnd.jupyter.widget-view+json": {
       "model_id": "28f2ffd3f4fb48e0a2694d6080fa537d",
       "version_major": 2,
       "version_minor": 0
      },
      "text/plain": [
       "###55 : -98.08531798688554 :   0%|          | 0/10 [00:00<?, ?it/s]"
      ]
     },
     "metadata": {},
     "output_type": "display_data"
    },
    {
     "data": {
      "application/vnd.jupyter.widget-view+json": {
       "model_id": "52a5acb5dcbe46b0800d5ce02f9532cc",
       "version_major": 2,
       "version_minor": 0
      },
      "text/plain": [
       "###56 : -97.93722378541725 :   0%|          | 0/10 [00:00<?, ?it/s]"
      ]
     },
     "metadata": {},
     "output_type": "display_data"
    },
    {
     "data": {
      "application/vnd.jupyter.widget-view+json": {
       "model_id": "44acfc5ff0704b2bbb35d9c7d55fb4d0",
       "version_major": 2,
       "version_minor": 0
      },
      "text/plain": [
       "###57 : 51.18833423935983 :   0%|          | 0/10 [00:00<?, ?it/s]"
      ]
     },
     "metadata": {},
     "output_type": "display_data"
    },
    {
     "data": {
      "application/vnd.jupyter.widget-view+json": {
       "model_id": "9daea200275648b58b4b7408b0ee6a31",
       "version_major": 2,
       "version_minor": 0
      },
      "text/plain": [
       "###58 : 2.4289820869580296 :   0%|          | 0/10 [00:00<?, ?it/s]"
      ]
     },
     "metadata": {},
     "output_type": "display_data"
    },
    {
     "data": {
      "application/vnd.jupyter.widget-view+json": {
       "model_id": "7844ba0cbe064bd39c24cbc4db78877b",
       "version_major": 2,
       "version_minor": 0
      },
      "text/plain": [
       "###59 : -111.97290565951704 :   0%|          | 0/10 [00:00<?, ?it/s]"
      ]
     },
     "metadata": {},
     "output_type": "display_data"
    },
    {
     "data": {
      "application/vnd.jupyter.widget-view+json": {
       "model_id": "301e5dbd3d694eeea3628cc9c7113c6e",
       "version_major": 2,
       "version_minor": 0
      },
      "text/plain": [
       "###60 : -99.1286448011075 :   0%|          | 0/10 [00:00<?, ?it/s]"
      ]
     },
     "metadata": {},
     "output_type": "display_data"
    },
    {
     "data": {
      "application/vnd.jupyter.widget-view+json": {
       "model_id": "14d457e603e44d2b9cb3b794ecb539c0",
       "version_major": 2,
       "version_minor": 0
      },
      "text/plain": [
       "###61 : -106.29012086468788 :   0%|          | 0/10 [00:00<?, ?it/s]"
      ]
     },
     "metadata": {},
     "output_type": "display_data"
    },
    {
     "data": {
      "application/vnd.jupyter.widget-view+json": {
       "model_id": "abacb0d3243e48d3b8a5d76f998b3f90",
       "version_major": 2,
       "version_minor": 0
      },
      "text/plain": [
       "###62 : -111.84767245338995 :   0%|          | 0/10 [00:00<?, ?it/s]"
      ]
     },
     "metadata": {},
     "output_type": "display_data"
    },
    {
     "data": {
      "application/vnd.jupyter.widget-view+json": {
       "model_id": "021e9a1ce24b40f99db175a7197f8f67",
       "version_major": 2,
       "version_minor": 0
      },
      "text/plain": [
       "###63 : 31.944352814987084 :   0%|          | 0/10 [00:00<?, ?it/s]"
      ]
     },
     "metadata": {},
     "output_type": "display_data"
    },
    {
     "data": {
      "application/vnd.jupyter.widget-view+json": {
       "model_id": "3b154dc7e1514831bc1ffe01081b7f52",
       "version_major": 2,
       "version_minor": 0
      },
      "text/plain": [
       "###64 : 28.182395882817687 :   0%|          | 0/10 [00:00<?, ?it/s]"
      ]
     },
     "metadata": {},
     "output_type": "display_data"
    },
    {
     "data": {
      "application/vnd.jupyter.widget-view+json": {
       "model_id": "4202e3dd1073495a9dd2147ded602547",
       "version_major": 2,
       "version_minor": 0
      },
      "text/plain": [
       "###65 : 38.55355823181373 :   0%|          | 0/10 [00:00<?, ?it/s]"
      ]
     },
     "metadata": {},
     "output_type": "display_data"
    },
    {
     "data": {
      "application/vnd.jupyter.widget-view+json": {
       "model_id": "fe9f6c27694143998178a4582ed8daba",
       "version_major": 2,
       "version_minor": 0
      },
      "text/plain": [
       "###66 : 40.53372296873587 :   0%|          | 0/10 [00:00<?, ?it/s]"
      ]
     },
     "metadata": {},
     "output_type": "display_data"
    },
    {
     "data": {
      "application/vnd.jupyter.widget-view+json": {
       "model_id": "df451237ffc24e1cad51d1e3d90ae1fa",
       "version_major": 2,
       "version_minor": 0
      },
      "text/plain": [
       "###67 : 20.98763121439589 :   0%|          | 0/10 [00:00<?, ?it/s]"
      ]
     },
     "metadata": {},
     "output_type": "display_data"
    },
    {
     "data": {
      "application/vnd.jupyter.widget-view+json": {
       "model_id": "0eebfd2cb35e4c7a961236fbb8df28ce",
       "version_major": 2,
       "version_minor": 0
      },
      "text/plain": [
       "###68 : 59.71209041717982 :   0%|          | 0/10 [00:00<?, ?it/s]"
      ]
     },
     "metadata": {},
     "output_type": "display_data"
    },
    {
     "data": {
      "application/vnd.jupyter.widget-view+json": {
       "model_id": "07afe74e49e74006afb544912de74217",
       "version_major": 2,
       "version_minor": 0
      },
      "text/plain": [
       "###69 : 53.820605795762916 :   0%|          | 0/10 [00:00<?, ?it/s]"
      ]
     },
     "metadata": {},
     "output_type": "display_data"
    },
    {
     "data": {
      "application/vnd.jupyter.widget-view+json": {
       "model_id": "a1a029bff6e9452c98ca0041a3890567",
       "version_major": 2,
       "version_minor": 0
      },
      "text/plain": [
       "###70 : 46.5801317734701 :   0%|          | 0/10 [00:00<?, ?it/s]"
      ]
     },
     "metadata": {},
     "output_type": "display_data"
    },
    {
     "data": {
      "application/vnd.jupyter.widget-view+json": {
       "model_id": "31d836ad6a7f483f8ceabc6463098ff2",
       "version_major": 2,
       "version_minor": 0
      },
      "text/plain": [
       "###71 : 63.1520281613472 :   0%|          | 0/10 [00:00<?, ?it/s]"
      ]
     },
     "metadata": {},
     "output_type": "display_data"
    },
    {
     "data": {
      "application/vnd.jupyter.widget-view+json": {
       "model_id": "eb9d9d1074ea4fcd8fadc55c4973d947",
       "version_major": 2,
       "version_minor": 0
      },
      "text/plain": [
       "###72 : 66.72666100562606 :   0%|          | 0/10 [00:00<?, ?it/s]"
      ]
     },
     "metadata": {},
     "output_type": "display_data"
    },
    {
     "data": {
      "application/vnd.jupyter.widget-view+json": {
       "model_id": "391e569cd50b482cae68637ba92f3cdc",
       "version_major": 2,
       "version_minor": 0
      },
      "text/plain": [
       "###73 : 68.42909008207337 :   0%|          | 0/10 [00:00<?, ?it/s]"
      ]
     },
     "metadata": {},
     "output_type": "display_data"
    },
    {
     "data": {
      "application/vnd.jupyter.widget-view+json": {
       "model_id": "e4241fe619f54273849ea0e6b45196f4",
       "version_major": 2,
       "version_minor": 0
      },
      "text/plain": [
       "###74 : 67.77730172752001 :   0%|          | 0/10 [00:00<?, ?it/s]"
      ]
     },
     "metadata": {},
     "output_type": "display_data"
    },
    {
     "data": {
      "application/vnd.jupyter.widget-view+json": {
       "model_id": "6f522e76afd0411490f0fcfc3565145f",
       "version_major": 2,
       "version_minor": 0
      },
      "text/plain": [
       "###75 : 74.07206324574528 :   0%|          | 0/10 [00:00<?, ?it/s]"
      ]
     },
     "metadata": {},
     "output_type": "display_data"
    },
    {
     "data": {
      "application/vnd.jupyter.widget-view+json": {
       "model_id": "b672e8e194904335a953c614c71e26d2",
       "version_major": 2,
       "version_minor": 0
      },
      "text/plain": [
       "###76 : 66.02464225722788 :   0%|          | 0/10 [00:00<?, ?it/s]"
      ]
     },
     "metadata": {},
     "output_type": "display_data"
    },
    {
     "data": {
      "application/vnd.jupyter.widget-view+json": {
       "model_id": "ec7933b054714127b54f0d85bbe9b926",
       "version_major": 2,
       "version_minor": 0
      },
      "text/plain": [
       "###77 : 69.81715618281305 :   0%|          | 0/10 [00:00<?, ?it/s]"
      ]
     },
     "metadata": {},
     "output_type": "display_data"
    },
    {
     "data": {
      "application/vnd.jupyter.widget-view+json": {
       "model_id": "eddea7131b2b4214bc090f1871601910",
       "version_major": 2,
       "version_minor": 0
      },
      "text/plain": [
       "###78 : 75.83231993152225 :   0%|          | 0/10 [00:00<?, ?it/s]"
      ]
     },
     "metadata": {},
     "output_type": "display_data"
    },
    {
     "data": {
      "application/vnd.jupyter.widget-view+json": {
       "model_id": "0860e1d98bc9439fbe1abe84f2c7262e",
       "version_major": 2,
       "version_minor": 0
      },
      "text/plain": [
       "###79 : 73.16242661732217 :   0%|          | 0/10 [00:00<?, ?it/s]"
      ]
     },
     "metadata": {},
     "output_type": "display_data"
    },
    {
     "data": {
      "application/vnd.jupyter.widget-view+json": {
       "model_id": "ee248f86df104a58ba2e07c47cc18990",
       "version_major": 2,
       "version_minor": 0
      },
      "text/plain": [
       "###80 : 76.72343837525906 :   0%|          | 0/10 [00:00<?, ?it/s]"
      ]
     },
     "metadata": {},
     "output_type": "display_data"
    },
    {
     "data": {
      "application/vnd.jupyter.widget-view+json": {
       "model_id": "ef7aa2db2b66490b86ba8ec7c6b4010e",
       "version_major": 2,
       "version_minor": 0
      },
      "text/plain": [
       "###81 : 76.80292050830697 :   0%|          | 0/10 [00:00<?, ?it/s]"
      ]
     },
     "metadata": {},
     "output_type": "display_data"
    },
    {
     "data": {
      "application/vnd.jupyter.widget-view+json": {
       "model_id": "d2b4045fbc1e45c7854c15b8ac19e9f9",
       "version_major": 2,
       "version_minor": 0
      },
      "text/plain": [
       "###82 : 77.66847334399138 :   0%|          | 0/10 [00:00<?, ?it/s]"
      ]
     },
     "metadata": {},
     "output_type": "display_data"
    },
    {
     "data": {
      "application/vnd.jupyter.widget-view+json": {
       "model_id": "304f4c0ff47846a5a7bdb7523f934648",
       "version_major": 2,
       "version_minor": 0
      },
      "text/plain": [
       "###83 : 76.15222326649013 :   0%|          | 0/10 [00:00<?, ?it/s]"
      ]
     },
     "metadata": {},
     "output_type": "display_data"
    },
    {
     "data": {
      "application/vnd.jupyter.widget-view+json": {
       "model_id": "5f1a585ec29b414c8b83f6667051663e",
       "version_major": 2,
       "version_minor": 0
      },
      "text/plain": [
       "###84 : 74.37851571048108 :   0%|          | 0/10 [00:00<?, ?it/s]"
      ]
     },
     "metadata": {},
     "output_type": "display_data"
    },
    {
     "data": {
      "application/vnd.jupyter.widget-view+json": {
       "model_id": "bca95640f9c541ecb55da53b5176a45c",
       "version_major": 2,
       "version_minor": 0
      },
      "text/plain": [
       "###85 : 74.07723417937837 :   0%|          | 0/10 [00:00<?, ?it/s]"
      ]
     },
     "metadata": {},
     "output_type": "display_data"
    },
    {
     "data": {
      "application/vnd.jupyter.widget-view+json": {
       "model_id": "03bdb0dcc33941dda90ea15ac3f21e24",
       "version_major": 2,
       "version_minor": 0
      },
      "text/plain": [
       "###86 : 80.20637116447489 :   0%|          | 0/10 [00:00<?, ?it/s]"
      ]
     },
     "metadata": {},
     "output_type": "display_data"
    },
    {
     "data": {
      "application/vnd.jupyter.widget-view+json": {
       "model_id": "8f7cb340a3f3414fa1b4d28e008b1ad6",
       "version_major": 2,
       "version_minor": 0
      },
      "text/plain": [
       "###87 : 75.82817837775114 :   0%|          | 0/10 [00:00<?, ?it/s]"
      ]
     },
     "metadata": {},
     "output_type": "display_data"
    },
    {
     "data": {
      "application/vnd.jupyter.widget-view+json": {
       "model_id": "f02eadf91eeb412b8352da18cf41e8f5",
       "version_major": 2,
       "version_minor": 0
      },
      "text/plain": [
       "###88 : 81.76175455758646 :   0%|          | 0/10 [00:00<?, ?it/s]"
      ]
     },
     "metadata": {},
     "output_type": "display_data"
    },
    {
     "data": {
      "application/vnd.jupyter.widget-view+json": {
       "model_id": "f4b15205d18d46c58946633f27389c7a",
       "version_major": 2,
       "version_minor": 0
      },
      "text/plain": [
       "###89 : 67.54864219838828 :   0%|          | 0/10 [00:00<?, ?it/s]"
      ]
     },
     "metadata": {},
     "output_type": "display_data"
    },
    {
     "data": {
      "application/vnd.jupyter.widget-view+json": {
       "model_id": "b5bdc2bba4744842bc5a4975d3d76630",
       "version_major": 2,
       "version_minor": 0
      },
      "text/plain": [
       "###90 : 72.50945313873419 :   0%|          | 0/10 [00:00<?, ?it/s]"
      ]
     },
     "metadata": {},
     "output_type": "display_data"
    },
    {
     "data": {
      "application/vnd.jupyter.widget-view+json": {
       "model_id": "e45d99ca242e4058a68a6d24910b13b3",
       "version_major": 2,
       "version_minor": 0
      },
      "text/plain": [
       "###91 : 65.24415151096298 :   0%|          | 0/10 [00:00<?, ?it/s]"
      ]
     },
     "metadata": {},
     "output_type": "display_data"
    },
    {
     "data": {
      "application/vnd.jupyter.widget-view+json": {
       "model_id": "01ee62f9f2534966bce18260a221d2d4",
       "version_major": 2,
       "version_minor": 0
      },
      "text/plain": [
       "###92 : 77.24721342283718 :   0%|          | 0/10 [00:00<?, ?it/s]"
      ]
     },
     "metadata": {},
     "output_type": "display_data"
    },
    {
     "data": {
      "application/vnd.jupyter.widget-view+json": {
       "model_id": "1754d6cb66e64044bbdd95f1815bfdd5",
       "version_major": 2,
       "version_minor": 0
      },
      "text/plain": [
       "###93 : 74.3055954099092 :   0%|          | 0/10 [00:00<?, ?it/s]"
      ]
     },
     "metadata": {},
     "output_type": "display_data"
    },
    {
     "data": {
      "application/vnd.jupyter.widget-view+json": {
       "model_id": "df52bd02bb1c45a68523ab8cad4ef01c",
       "version_major": 2,
       "version_minor": 0
      },
      "text/plain": [
       "###94 : 80.98704721291878 :   0%|          | 0/10 [00:00<?, ?it/s]"
      ]
     },
     "metadata": {},
     "output_type": "display_data"
    },
    {
     "data": {
      "application/vnd.jupyter.widget-view+json": {
       "model_id": "3349ada8fe2045da9eb0b71010205d10",
       "version_major": 2,
       "version_minor": 0
      },
      "text/plain": [
       "###95 : 74.3688575891939 :   0%|          | 0/10 [00:00<?, ?it/s]"
      ]
     },
     "metadata": {},
     "output_type": "display_data"
    },
    {
     "data": {
      "application/vnd.jupyter.widget-view+json": {
       "model_id": "f75a7e0b3b72493f9a3f133d4a702f11",
       "version_major": 2,
       "version_minor": 0
      },
      "text/plain": [
       "###96 : 73.02562732962436 :   0%|          | 0/10 [00:00<?, ?it/s]"
      ]
     },
     "metadata": {},
     "output_type": "display_data"
    },
    {
     "data": {
      "application/vnd.jupyter.widget-view+json": {
       "model_id": "c47a485d7c20475a8a35772413e310ab",
       "version_major": 2,
       "version_minor": 0
      },
      "text/plain": [
       "###97 : 77.33879709503299 :   0%|          | 0/10 [00:00<?, ?it/s]"
      ]
     },
     "metadata": {},
     "output_type": "display_data"
    },
    {
     "data": {
      "application/vnd.jupyter.widget-view+json": {
       "model_id": "7168bac84f8e49bf97cdf0bdfd99812a",
       "version_major": 2,
       "version_minor": 0
      },
      "text/plain": [
       "###98 : 68.26796689870154 :   0%|          | 0/10 [00:00<?, ?it/s]"
      ]
     },
     "metadata": {},
     "output_type": "display_data"
    },
    {
     "data": {
      "application/vnd.jupyter.widget-view+json": {
       "model_id": "b924b1043201469791eb302b1d939ed0",
       "version_major": 2,
       "version_minor": 0
      },
      "text/plain": [
       "###99 : 64.85853396090027 :   0%|          | 0/10 [00:00<?, ?it/s]"
      ]
     },
     "metadata": {},
     "output_type": "display_data"
    }
   ],
   "source": [
    "def train_on_policy_agent(env, agent, num_episodes):\n",
    "    return_list = []\n",
    "    episode_return = 0\n",
    "\n",
    "    for epoch in range(num_episodes//10):\n",
    "    \n",
    "        for i in tqdm(range(10), position=0, desc=f\"###{epoch} : {episode_return} \"):\n",
    "            episode_return = 0\n",
    "            transition_dict = {'states': [], 'actions': [], 'next_states': [], 'rewards': [], 'dones': []}\n",
    "            state, _ = env.reset()\n",
    "            done , truncated = False, False\n",
    "            while not done and not truncated:\n",
    "                action = agent.take_action(state)\n",
    "                next_state, reward, done, truncated, info = env.step(action)\n",
    "                # reward = shaped_reward(state, reward)\n",
    "                \n",
    "    \n",
    "                transition_dict['states'].append(state)\n",
    "                transition_dict['actions'].append(action)\n",
    "                transition_dict['next_states'].append(next_state)\n",
    "                transition_dict['rewards'].append(reward)\n",
    "                transition_dict['dones'].append(done)\n",
    "                state = next_state\n",
    "                episode_return += reward\n",
    "            return_list.append(episode_return)\n",
    "            agent.update(transition_dict)\n",
    "\n",
    "\n",
    "    return return_list\n",
    "        \n",
    "return_list = train_on_policy_agent(env, agent, num_episodes)\n",
    "plt.plot(return_list)\n",
    "plt.show()"
   ]
  },
  {
   "cell_type": "code",
   "execution_count": 276,
   "id": "dd2750bc-4eb2-4a62-8c79-db79cbaf36e5",
   "metadata": {},
   "outputs": [
    {
     "name": "stdout",
     "output_type": "stream",
     "text": [
      "Starting observation: [-0.49269798  0.        ]\n",
      "Episode finished! Total reward: 81.37953463048275\n"
     ]
    }
   ],
   "source": [
    "def test_agent(agent, env_name):\n",
    "    env = gym.make(env_name, render_mode=\"human\")\n",
    "\n",
    "    state, info = env.reset()\n",
    "\n",
    "    print(f\"Starting observation: {state}\")\n",
    "\n",
    "    episode_over = False\n",
    "    total_reward = 0\n",
    "    action_list = []\n",
    "\n",
    "    while not episode_over:\n",
    "        action = agent.take_action(state, eval = True)\n",
    "        state, reward, terminated, truncated, info = env.step(action)\n",
    "        total_reward += reward\n",
    "        episode_over = terminated or truncated\n",
    "        # print(f\"{action=}\")\n",
    "        action_list.append(action)\n",
    "\n",
    "    print(f\"Episode finished! Total reward: {total_reward}\")\n",
    "    env.close()\n",
    "    plt.hist(action_list)\n",
    "\n",
    "test_agent(agent, env_name)"
   ]
  },
  {
   "cell_type": "code",
   "execution_count": null,
   "id": "257a1ae2-c9a8-4189-bf85-69e332129075",
   "metadata": {},
   "outputs": [],
   "source": []
  },
  {
   "cell_type": "code",
   "execution_count": null,
   "id": "6b136c6a-7f35-48b5-a6b2-6d4eb8679ec4",
   "metadata": {},
   "outputs": [],
   "source": []
  },
  {
   "cell_type": "code",
   "execution_count": null,
   "id": "2c49addc-91c4-499f-80d4-a2d1f2d6bf8c",
   "metadata": {},
   "outputs": [],
   "source": []
  }
 ],
 "metadata": {
  "kernelspec": {
   "display_name": "rl",
   "language": "python",
   "name": "rl"
  },
  "language_info": {
   "codemirror_mode": {
    "name": "ipython",
    "version": 3
   },
   "file_extension": ".py",
   "mimetype": "text/x-python",
   "name": "python",
   "nbconvert_exporter": "python",
   "pygments_lexer": "ipython3",
   "version": "3.12.9"
  }
 },
 "nbformat": 4,
 "nbformat_minor": 5
}

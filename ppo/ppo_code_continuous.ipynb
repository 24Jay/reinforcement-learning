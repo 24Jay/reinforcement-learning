{
 "cells": [
  {
   "cell_type": "code",
   "execution_count": 287,
   "id": "03f965e2-dbc3-4af2-8bc4-f46d2a659b85",
   "metadata": {},
   "outputs": [
    {
     "name": "stdin",
     "output_type": "stream",
     "text": [
      "Once deleted, variables cannot be recovered. Proceed (y/[n])?  y\n"
     ]
    }
   ],
   "source": [
    "%matplotlib inline\n",
    "%reset"
   ]
  },
  {
   "cell_type": "code",
   "execution_count": 288,
   "id": "50da998b-ae98-4f99-af53-5e4edc5a280d",
   "metadata": {},
   "outputs": [],
   "source": [
    "import gymnasium as gym\n",
    "import matplotlib.pyplot as plt\n",
    "import torch\n",
    "import torch.nn as nn\n",
    "import torch.nn.functional as F\n",
    "from tqdm.notebook import tqdm\n",
    "import numpy as np\n",
    "from torch.utils.tensorboard import SummaryWriter\n",
    "import datetime\n",
    "import random"
   ]
  },
  {
   "cell_type": "code",
   "execution_count": 289,
   "id": "aeffa910-d4f0-4405-b6fe-193e85b9c76a",
   "metadata": {},
   "outputs": [],
   "source": [
    "# from tensorboard import notebook\n",
    "\n",
    "# # 初始化 SummaryWriter，日志将保存在'runs'目录下\n",
    "# writer = SummaryWriter(f\"./logs/{datetime.datetime.now()}\")\n",
    "\n",
    "# # 启动 TensorBoard 并指定日志目录\n",
    "# notebook.start(\"--logdir runs\")\n",
    "\n",
    "# # 可选：创建一个链接直接跳转到 TensorBoard 界面\n",
    "# # notebook.display(height=400)"
   ]
  },
  {
   "cell_type": "code",
   "execution_count": 290,
   "id": "6ab30af3",
   "metadata": {},
   "outputs": [],
   "source": [
    "# %matplotlib qt5"
   ]
  },
  {
   "cell_type": "code",
   "execution_count": 291,
   "id": "7984d827-5006-4aab-b263-ad3657f90536",
   "metadata": {},
   "outputs": [],
   "source": [
    "class Actor(nn.Module):\n",
    "    def __init__(self, n_state, n_action, hidden_size = 64):\n",
    "        super(Actor, self).__init__()\n",
    "        \n",
    "        self.fc1 = torch.nn.Linear(n_state, hidden_size)\n",
    "        self.fc2 = torch.nn.Linear(hidden_size, hidden_size)\n",
    "        self.fc_mean = torch.nn.Linear(hidden_size, n_action)\n",
    "        self.fc_std = torch.nn.Linear(hidden_size, n_action)\n",
    "\n",
    "    def forward(self, state):\n",
    "        x = self.fc1(state)\n",
    "        x = self.fc2(F.relu(x))\n",
    "        mu = torch.tanh(self.fc_mean(F.relu(x))) * 1.0\n",
    "        # std = F.softplus(self.fc_std(F.relu(x))) + 0e-3\n",
    "        std = torch.ones_like(mu) * 1.0  # 固定标准差，增强探索\n",
    "\n",
    "        return mu, std\n",
    "\n",
    "        \n",
    "class Critic(nn.Module):\n",
    "    def __init__(self, n_state, hidden_size=64):\n",
    "        super(Critic, self).__init__()\n",
    "\n",
    "        self.fc1 = torch.nn.Linear(n_state, hidden_size)\n",
    "        self.fc2 = torch.nn.Linear(hidden_size, hidden_size)\n",
    "        self.fc3 = torch.nn.Linear(hidden_size, 1)\n",
    "\n",
    "    def forward(self, state):\n",
    "        x = self.fc1(state)\n",
    "        x = self.fc2(F.relu(x))\n",
    "        x = self.fc3(F.relu(x))\n",
    "        return x\n",
    "\n",
    "\n",
    "def compute_advantage(gamma, lmbda, td_delta):\n",
    "    td_delta = td_delta.detach().numpy()\n",
    "    advantage_list = []\n",
    "    advantage = 0.0\n",
    "    for delta in td_delta[::-1]:\n",
    "        advantage = gamma * lmbda * advantage + delta\n",
    "        advantage_list.append(advantage)\n",
    "    advantage_list.reverse()\n",
    "    return torch.tensor(advantage_list, dtype=torch.float)\n",
    "\n",
    "def shaped_reward(state, original_reward):\n",
    "    position, velocity = state\n",
    "    # 增加与位置相关的奖励（鼓励向右侧山顶移动）\n",
    "    position_reward = 10 * (position + 0.5)  # 谷底位置约为 -0.5，向右侧移动时奖励增加\n",
    "    # 增加与速度方向相关的奖励（鼓励沿目标方向加速）\n",
    "    velocity_reward = 5 * velocity if position > -0.5 else 0  # 右侧加速时奖励更高\n",
    "    return original_reward + position_reward + velocity_reward\n",
    "\n",
    "class PPOContinuous(nn.Module):\n",
    "\n",
    "    def __init__(self, n_state, n_action, n_hidden = 64, actor_lr=1e-4, critic_lr=1e-4, lmbda=0.1, epochs=10, eps=0.01, gamma=0.99, device=\"cpu\"):\n",
    "        super(PPOContinuous, self).__init__()\n",
    "        print(f\"{n_state=}, {n_action=}, {n_hidden=}\")\n",
    "\n",
    "        self.actor = Actor(n_state, n_action, hidden_size=n_hidden)\n",
    "        self.actor_opt = torch.optim.Adam(self.actor.parameters(), lr = actor_lr)\n",
    "\n",
    "        self.critic = Critic(n_state, hidden_size=n_hidden)\n",
    "        self.critic_opt = torch.optim.Adam(self.critic.parameters(), lr = critic_lr)\n",
    "\n",
    "        self.lmbda = lmbda\n",
    "        self.gamma = gamma\n",
    "        self.eps = eps\n",
    "        self.epochs = epochs\n",
    "        self.device = device\n",
    "\n",
    "    def take_action(self, state, eval = False):\n",
    "        state = torch.tensor([state], dtype=torch.float).to(self.device)\n",
    "        mu, std = self.actor(state)\n",
    "\n",
    "        action_dist = torch.distributions.Normal(mu, std)\n",
    "        action = action_dist.sample()\n",
    "\n",
    "        if not eval:\n",
    "            r = random.uniform(-1, 1) * 0.0\n",
    "        else:\n",
    "            r = 0.\n",
    "\n",
    "        # return [np.clip(action.item() + r, -1, 1)]\n",
    "        return [action.item()]\n",
    "        \n",
    "\n",
    "    def update(self, transition_dict):\n",
    "        states = torch.tensor(transition_dict['states'], dtype=torch.float).to(self.device)\n",
    "        actions = torch.tensor(transition_dict['actions']).view(-1, 1).to(self.device)\n",
    "        rewards = torch.tensor(transition_dict['rewards'], dtype=torch.float).view(-1, 1).to(self.device)\n",
    "        next_states = torch.tensor(transition_dict['next_states'], dtype=torch.float).to(self.device)\n",
    "        dones = torch.tensor(transition_dict['dones'], dtype=torch.float).view(-1, 1).to(self.device) \n",
    "\n",
    "        td_target = rewards + self.gamma * self.critic(next_states) * (1 - dones)\n",
    "        td_delta = td_target - self.critic(states)\n",
    "        \n",
    "        advantage = compute_advantage(self.gamma, self.lmbda, td_delta)\n",
    "\n",
    "        mu, std = self.actor(states)\n",
    "        action_dist = torch.distributions.Normal(mu.detach(), std.detach())\n",
    "        old_log_probs = action_dist.log_prob(actions)\n",
    "\n",
    "        for _ in range(self.epochs):\n",
    "            mu, std = self.actor(states)\n",
    "            # print(f\"====={mu.max()=}, {std.max()=}, {std.min()=}\")\n",
    "\n",
    "            action_dists = torch.distributions.Normal(mu, std)\n",
    "            log_probs = action_dists.log_prob(actions)\n",
    "\n",
    "            ratio = torch.exp(log_probs - old_log_probs)\n",
    "            # ratio = torch.clamp(ratio, min=-1e6, max=1e6)\n",
    "            l1 = ratio * advantage\n",
    "            l2 = torch.clamp(ratio, 1 - self.eps, 1 + self.eps) * advantage\n",
    "            l3 = - torch.min(l1, l2)\n",
    "\n",
    "            actor_loss = torch.mean(l3)\n",
    "            critic_loss = torch.mean(F.mse_loss(self.critic(states), td_target.detach()))\n",
    "            # print(f\"====={actor_loss=}, {critic_loss=}, {l1.min()=}, {ratio.min()=}, {ratio.max()=} \\n\")\n",
    "\n",
    "\n",
    "            self.actor_opt.zero_grad()\n",
    "            self.critic_opt.zero_grad()\n",
    "            actor_loss.backward()\n",
    "            critic_loss.backward()\n",
    "            self.actor_opt.step()\n",
    "            self.critic_opt.step()\n",
    "        "
   ]
  },
  {
   "cell_type": "code",
   "execution_count": 292,
   "id": "33071044-9c76-4f06-8f27-1e9bc44e5c0e",
   "metadata": {},
   "outputs": [
    {
     "name": "stdout",
     "output_type": "stream",
     "text": [
      "state space: [-0.53773886 -0.04990979]\n",
      "action space: Box(-1.0, 1.0, (1,), float32)\n",
      "n_state=2, n_action=1, n_hidden=128\n"
     ]
    }
   ],
   "source": [
    "actor_lr = 1e-4\n",
    "critic_lr = 1e-3\n",
    "num_episodes = 1000\n",
    "hidden = 128\n",
    "\n",
    "gamma = 0.98\n",
    "lmbda = 0.95\n",
    "epochs = 10\n",
    "eps = 0.4\n",
    "\n",
    "device = \"cpu\"\n",
    "env_name = \"MountainCarContinuous-v0\"\n",
    "# env_name = \"Pendulum-v1\"\n",
    "\n",
    "\n",
    "env = gym.make(env_name)\n",
    "torch.manual_seed(0)\n",
    "print(f\"state space:\" , env.observation_space.sample())\n",
    "print(f\"action space: {env.action_space}\")\n",
    "state_dim = env.observation_space.shape[0]\n",
    "action_dim = env.action_space.shape[0]\n",
    "\n",
    "agent = PPOContinuous(n_state=state_dim, n_action=action_dim, n_hidden=hidden,actor_lr=actor_lr, critic_lr=critic_lr)"
   ]
  },
  {
   "cell_type": "code",
   "execution_count": 294,
   "id": "b0e116f6-b5d9-411f-8a21-ce736125d39f",
   "metadata": {},
   "outputs": [
    {
     "data": {
      "application/vnd.jupyter.widget-view+json": {
       "model_id": "24ceb952b001414a834f517bb590203e",
       "version_major": 2,
       "version_minor": 0
      },
      "text/plain": [
       "###0 : 0 :   0%|          | 0/10 [00:00<?, ?it/s]"
      ]
     },
     "metadata": {},
     "output_type": "display_data"
    },
    {
     "data": {
      "application/vnd.jupyter.widget-view+json": {
       "model_id": "9584c934a1a24baa9d235fa41fd494c3",
       "version_major": 2,
       "version_minor": 0
      },
      "text/plain": [
       "###1 : 72.43568534730707 :   0%|          | 0/10 [00:00<?, ?it/s]"
      ]
     },
     "metadata": {},
     "output_type": "display_data"
    },
    {
     "data": {
      "application/vnd.jupyter.widget-view+json": {
       "model_id": "558da842be34427c90eaa34a53d11124",
       "version_major": 2,
       "version_minor": 0
      },
      "text/plain": [
       "###2 : 79.29645211079368 :   0%|          | 0/10 [00:00<?, ?it/s]"
      ]
     },
     "metadata": {},
     "output_type": "display_data"
    },
    {
     "data": {
      "application/vnd.jupyter.widget-view+json": {
       "model_id": "cb9c7a99dcf242e6b6d8db04e80d9f7d",
       "version_major": 2,
       "version_minor": 0
      },
      "text/plain": [
       "###3 : 72.20307306257388 :   0%|          | 0/10 [00:00<?, ?it/s]"
      ]
     },
     "metadata": {},
     "output_type": "display_data"
    },
    {
     "data": {
      "application/vnd.jupyter.widget-view+json": {
       "model_id": "e0f901a6deba4dd8ae30305705e2f693",
       "version_major": 2,
       "version_minor": 0
      },
      "text/plain": [
       "###4 : 73.29355821924065 :   0%|          | 0/10 [00:00<?, ?it/s]"
      ]
     },
     "metadata": {},
     "output_type": "display_data"
    },
    {
     "data": {
      "application/vnd.jupyter.widget-view+json": {
       "model_id": "fda293d057114a77aa673e986544d10b",
       "version_major": 2,
       "version_minor": 0
      },
      "text/plain": [
       "###5 : 73.9052494476606 :   0%|          | 0/10 [00:00<?, ?it/s]"
      ]
     },
     "metadata": {},
     "output_type": "display_data"
    },
    {
     "data": {
      "application/vnd.jupyter.widget-view+json": {
       "model_id": "1a552dafbcdb477babf6e9521f9542b4",
       "version_major": 2,
       "version_minor": 0
      },
      "text/plain": [
       "###6 : 70.3487505830097 :   0%|          | 0/10 [00:00<?, ?it/s]"
      ]
     },
     "metadata": {},
     "output_type": "display_data"
    },
    {
     "data": {
      "application/vnd.jupyter.widget-view+json": {
       "model_id": "dd68cc7d73fa46fdb928fc3999a43702",
       "version_major": 2,
       "version_minor": 0
      },
      "text/plain": [
       "###7 : 75.2458379852914 :   0%|          | 0/10 [00:00<?, ?it/s]"
      ]
     },
     "metadata": {},
     "output_type": "display_data"
    },
    {
     "data": {
      "application/vnd.jupyter.widget-view+json": {
       "model_id": "413783189b2d41b7bd8ed444394be1d0",
       "version_major": 2,
       "version_minor": 0
      },
      "text/plain": [
       "###8 : 76.69392396937123 :   0%|          | 0/10 [00:00<?, ?it/s]"
      ]
     },
     "metadata": {},
     "output_type": "display_data"
    },
    {
     "data": {
      "application/vnd.jupyter.widget-view+json": {
       "model_id": "655a9296baed47ff8a24dee79725452d",
       "version_major": 2,
       "version_minor": 0
      },
      "text/plain": [
       "###9 : 73.56073011300747 :   0%|          | 0/10 [00:00<?, ?it/s]"
      ]
     },
     "metadata": {},
     "output_type": "display_data"
    },
    {
     "data": {
      "application/vnd.jupyter.widget-view+json": {
       "model_id": "2b5a015a3db540b39b07599e8ead7dd0",
       "version_major": 2,
       "version_minor": 0
      },
      "text/plain": [
       "###10 : 73.98834216923626 :   0%|          | 0/10 [00:00<?, ?it/s]"
      ]
     },
     "metadata": {},
     "output_type": "display_data"
    },
    {
     "data": {
      "application/vnd.jupyter.widget-view+json": {
       "model_id": "85897b2d6fe241a28cbe832a68be1882",
       "version_major": 2,
       "version_minor": 0
      },
      "text/plain": [
       "###11 : 79.27703500430704 :   0%|          | 0/10 [00:00<?, ?it/s]"
      ]
     },
     "metadata": {},
     "output_type": "display_data"
    },
    {
     "data": {
      "application/vnd.jupyter.widget-view+json": {
       "model_id": "f17f6594c5d44c4c85159e6b357002cc",
       "version_major": 2,
       "version_minor": 0
      },
      "text/plain": [
       "###12 : 74.39598382378584 :   0%|          | 0/10 [00:00<?, ?it/s]"
      ]
     },
     "metadata": {},
     "output_type": "display_data"
    },
    {
     "data": {
      "application/vnd.jupyter.widget-view+json": {
       "model_id": "bc6b684372f34e44966a43b933f75698",
       "version_major": 2,
       "version_minor": 0
      },
      "text/plain": [
       "###13 : 71.08717334011034 :   0%|          | 0/10 [00:00<?, ?it/s]"
      ]
     },
     "metadata": {},
     "output_type": "display_data"
    },
    {
     "data": {
      "application/vnd.jupyter.widget-view+json": {
       "model_id": "6dbbb984cc054d108c1e1d9c4305f34c",
       "version_major": 2,
       "version_minor": 0
      },
      "text/plain": [
       "###14 : 67.7552502591067 :   0%|          | 0/10 [00:00<?, ?it/s]"
      ]
     },
     "metadata": {},
     "output_type": "display_data"
    },
    {
     "data": {
      "application/vnd.jupyter.widget-view+json": {
       "model_id": "433a73a2de7948309bc938f5b1ce0ce3",
       "version_major": 2,
       "version_minor": 0
      },
      "text/plain": [
       "###15 : 84.88025484135312 :   0%|          | 0/10 [00:00<?, ?it/s]"
      ]
     },
     "metadata": {},
     "output_type": "display_data"
    },
    {
     "data": {
      "application/vnd.jupyter.widget-view+json": {
       "model_id": "3d536c208c1a42569bb005aabc1fed9a",
       "version_major": 2,
       "version_minor": 0
      },
      "text/plain": [
       "###16 : 66.5605804529388 :   0%|          | 0/10 [00:00<?, ?it/s]"
      ]
     },
     "metadata": {},
     "output_type": "display_data"
    },
    {
     "data": {
      "application/vnd.jupyter.widget-view+json": {
       "model_id": "c3d025b2bf2d4f5e87b3901bd3ca7c53",
       "version_major": 2,
       "version_minor": 0
      },
      "text/plain": [
       "###17 : 82.37943046962849 :   0%|          | 0/10 [00:00<?, ?it/s]"
      ]
     },
     "metadata": {},
     "output_type": "display_data"
    },
    {
     "data": {
      "application/vnd.jupyter.widget-view+json": {
       "model_id": "2c80840ad0ff40ee8fa77393bc780f9d",
       "version_major": 2,
       "version_minor": 0
      },
      "text/plain": [
       "###18 : 68.96583527607345 :   0%|          | 0/10 [00:00<?, ?it/s]"
      ]
     },
     "metadata": {},
     "output_type": "display_data"
    },
    {
     "data": {
      "application/vnd.jupyter.widget-view+json": {
       "model_id": "a9aba8eb95794eef9da3f12010fd55f4",
       "version_major": 2,
       "version_minor": 0
      },
      "text/plain": [
       "###19 : 75.59384405446826 :   0%|          | 0/10 [00:00<?, ?it/s]"
      ]
     },
     "metadata": {},
     "output_type": "display_data"
    },
    {
     "data": {
      "application/vnd.jupyter.widget-view+json": {
       "model_id": "5d52c46b15ce4424b871f03b80c55512",
       "version_major": 2,
       "version_minor": 0
      },
      "text/plain": [
       "###20 : 75.01911397007444 :   0%|          | 0/10 [00:00<?, ?it/s]"
      ]
     },
     "metadata": {},
     "output_type": "display_data"
    },
    {
     "data": {
      "application/vnd.jupyter.widget-view+json": {
       "model_id": "e1d86ae4172b48f79142c9e077a07408",
       "version_major": 2,
       "version_minor": 0
      },
      "text/plain": [
       "###21 : 72.97499824601309 :   0%|          | 0/10 [00:00<?, ?it/s]"
      ]
     },
     "metadata": {},
     "output_type": "display_data"
    },
    {
     "data": {
      "application/vnd.jupyter.widget-view+json": {
       "model_id": "0ad2d3058f624cc7a8d5fa2c6ffcdb35",
       "version_major": 2,
       "version_minor": 0
      },
      "text/plain": [
       "###22 : 80.14344125092741 :   0%|          | 0/10 [00:00<?, ?it/s]"
      ]
     },
     "metadata": {},
     "output_type": "display_data"
    },
    {
     "data": {
      "application/vnd.jupyter.widget-view+json": {
       "model_id": "b18b7454d48244abadb823f6d1841936",
       "version_major": 2,
       "version_minor": 0
      },
      "text/plain": [
       "###23 : 68.19600775904638 :   0%|          | 0/10 [00:00<?, ?it/s]"
      ]
     },
     "metadata": {},
     "output_type": "display_data"
    },
    {
     "data": {
      "application/vnd.jupyter.widget-view+json": {
       "model_id": "45c7be3c52014e0d995e0df4573772a5",
       "version_major": 2,
       "version_minor": 0
      },
      "text/plain": [
       "###24 : 71.40954895198024 :   0%|          | 0/10 [00:00<?, ?it/s]"
      ]
     },
     "metadata": {},
     "output_type": "display_data"
    },
    {
     "data": {
      "application/vnd.jupyter.widget-view+json": {
       "model_id": "10395524d9bd4d9aa5425247c8b54319",
       "version_major": 2,
       "version_minor": 0
      },
      "text/plain": [
       "###25 : 74.82864047373523 :   0%|          | 0/10 [00:00<?, ?it/s]"
      ]
     },
     "metadata": {},
     "output_type": "display_data"
    },
    {
     "data": {
      "application/vnd.jupyter.widget-view+json": {
       "model_id": "78e8e931581a467abf007adc3a2dfed7",
       "version_major": 2,
       "version_minor": 0
      },
      "text/plain": [
       "###26 : 73.84715212456321 :   0%|          | 0/10 [00:00<?, ?it/s]"
      ]
     },
     "metadata": {},
     "output_type": "display_data"
    },
    {
     "data": {
      "application/vnd.jupyter.widget-view+json": {
       "model_id": "1762367f498e43b58b7655ae3ee12314",
       "version_major": 2,
       "version_minor": 0
      },
      "text/plain": [
       "###27 : 69.17612500614186 :   0%|          | 0/10 [00:00<?, ?it/s]"
      ]
     },
     "metadata": {},
     "output_type": "display_data"
    },
    {
     "data": {
      "application/vnd.jupyter.widget-view+json": {
       "model_id": "dde65a3143a048b6bde9920b7eb1da8c",
       "version_major": 2,
       "version_minor": 0
      },
      "text/plain": [
       "###28 : 69.23075487988905 :   0%|          | 0/10 [00:00<?, ?it/s]"
      ]
     },
     "metadata": {},
     "output_type": "display_data"
    },
    {
     "data": {
      "application/vnd.jupyter.widget-view+json": {
       "model_id": "892ba68b7a1544afb63f90ed4a2fe9c5",
       "version_major": 2,
       "version_minor": 0
      },
      "text/plain": [
       "###29 : 70.42812768020578 :   0%|          | 0/10 [00:00<?, ?it/s]"
      ]
     },
     "metadata": {},
     "output_type": "display_data"
    },
    {
     "data": {
      "application/vnd.jupyter.widget-view+json": {
       "model_id": "18f69d4c864641afb69516b24eebc824",
       "version_major": 2,
       "version_minor": 0
      },
      "text/plain": [
       "###30 : 84.89673526796821 :   0%|          | 0/10 [00:00<?, ?it/s]"
      ]
     },
     "metadata": {},
     "output_type": "display_data"
    },
    {
     "data": {
      "application/vnd.jupyter.widget-view+json": {
       "model_id": "825a3d20732c47e9b0d9b9ab29028633",
       "version_major": 2,
       "version_minor": 0
      },
      "text/plain": [
       "###31 : 64.80525552238419 :   0%|          | 0/10 [00:00<?, ?it/s]"
      ]
     },
     "metadata": {},
     "output_type": "display_data"
    },
    {
     "data": {
      "application/vnd.jupyter.widget-view+json": {
       "model_id": "d1a05846fc0640ffa668498f188f1550",
       "version_major": 2,
       "version_minor": 0
      },
      "text/plain": [
       "###32 : 69.47791640510032 :   0%|          | 0/10 [00:00<?, ?it/s]"
      ]
     },
     "metadata": {},
     "output_type": "display_data"
    },
    {
     "data": {
      "application/vnd.jupyter.widget-view+json": {
       "model_id": "9a760a37a99f47eeac75e1b6af887e22",
       "version_major": 2,
       "version_minor": 0
      },
      "text/plain": [
       "###33 : 77.27986169187812 :   0%|          | 0/10 [00:00<?, ?it/s]"
      ]
     },
     "metadata": {},
     "output_type": "display_data"
    },
    {
     "data": {
      "application/vnd.jupyter.widget-view+json": {
       "model_id": "0b7749ed35314c249134f252bd4c5949",
       "version_major": 2,
       "version_minor": 0
      },
      "text/plain": [
       "###34 : 72.70352265748348 :   0%|          | 0/10 [00:00<?, ?it/s]"
      ]
     },
     "metadata": {},
     "output_type": "display_data"
    },
    {
     "data": {
      "application/vnd.jupyter.widget-view+json": {
       "model_id": "dcee8ded2783419da9271d0b9d5574d1",
       "version_major": 2,
       "version_minor": 0
      },
      "text/plain": [
       "###35 : 64.31454557973717 :   0%|          | 0/10 [00:00<?, ?it/s]"
      ]
     },
     "metadata": {},
     "output_type": "display_data"
    },
    {
     "data": {
      "application/vnd.jupyter.widget-view+json": {
       "model_id": "b5d71b1942bd4162b741c28d8d4bcc08",
       "version_major": 2,
       "version_minor": 0
      },
      "text/plain": [
       "###36 : 67.13978993254929 :   0%|          | 0/10 [00:00<?, ?it/s]"
      ]
     },
     "metadata": {},
     "output_type": "display_data"
    },
    {
     "data": {
      "application/vnd.jupyter.widget-view+json": {
       "model_id": "2e1a4dca01d54b4a8784a00e85006eb9",
       "version_major": 2,
       "version_minor": 0
      },
      "text/plain": [
       "###37 : 75.85744053684543 :   0%|          | 0/10 [00:00<?, ?it/s]"
      ]
     },
     "metadata": {},
     "output_type": "display_data"
    },
    {
     "data": {
      "application/vnd.jupyter.widget-view+json": {
       "model_id": "b318f8706d3c442d8d9a519d7d97acc9",
       "version_major": 2,
       "version_minor": 0
      },
      "text/plain": [
       "###38 : 72.29609667664042 :   0%|          | 0/10 [00:00<?, ?it/s]"
      ]
     },
     "metadata": {},
     "output_type": "display_data"
    },
    {
     "data": {
      "application/vnd.jupyter.widget-view+json": {
       "model_id": "4528be8c592d46a5846729c67ed03389",
       "version_major": 2,
       "version_minor": 0
      },
      "text/plain": [
       "###39 : 65.2559666277669 :   0%|          | 0/10 [00:00<?, ?it/s]"
      ]
     },
     "metadata": {},
     "output_type": "display_data"
    },
    {
     "data": {
      "application/vnd.jupyter.widget-view+json": {
       "model_id": "3f25337b7a3f4ebaba0bcaaa5b59ab5e",
       "version_major": 2,
       "version_minor": 0
      },
      "text/plain": [
       "###40 : 73.7709002247611 :   0%|          | 0/10 [00:00<?, ?it/s]"
      ]
     },
     "metadata": {},
     "output_type": "display_data"
    },
    {
     "data": {
      "application/vnd.jupyter.widget-view+json": {
       "model_id": "f92bb22939ca4872a06261113a1338e7",
       "version_major": 2,
       "version_minor": 0
      },
      "text/plain": [
       "###41 : 75.44166348073007 :   0%|          | 0/10 [00:00<?, ?it/s]"
      ]
     },
     "metadata": {},
     "output_type": "display_data"
    },
    {
     "data": {
      "application/vnd.jupyter.widget-view+json": {
       "model_id": "42ad9e4d7a9a49a6944053fd05e36dae",
       "version_major": 2,
       "version_minor": 0
      },
      "text/plain": [
       "###42 : 66.16803337520858 :   0%|          | 0/10 [00:00<?, ?it/s]"
      ]
     },
     "metadata": {},
     "output_type": "display_data"
    },
    {
     "data": {
      "application/vnd.jupyter.widget-view+json": {
       "model_id": "e62fa1d57fa6423681fee8d7f384aca4",
       "version_major": 2,
       "version_minor": 0
      },
      "text/plain": [
       "###43 : 75.15009462172631 :   0%|          | 0/10 [00:00<?, ?it/s]"
      ]
     },
     "metadata": {},
     "output_type": "display_data"
    },
    {
     "data": {
      "application/vnd.jupyter.widget-view+json": {
       "model_id": "b2aab86f275c4026a16c2fe2ca8389cd",
       "version_major": 2,
       "version_minor": 0
      },
      "text/plain": [
       "###44 : 83.0447197611192 :   0%|          | 0/10 [00:00<?, ?it/s]"
      ]
     },
     "metadata": {},
     "output_type": "display_data"
    },
    {
     "data": {
      "application/vnd.jupyter.widget-view+json": {
       "model_id": "a79be6db834e471c92fd2ec1834aa89b",
       "version_major": 2,
       "version_minor": 0
      },
      "text/plain": [
       "###45 : 68.48934048362945 :   0%|          | 0/10 [00:00<?, ?it/s]"
      ]
     },
     "metadata": {},
     "output_type": "display_data"
    },
    {
     "data": {
      "application/vnd.jupyter.widget-view+json": {
       "model_id": "6368fec0d5a14a349b71eab2c45b395a",
       "version_major": 2,
       "version_minor": 0
      },
      "text/plain": [
       "###46 : 73.0939604299583 :   0%|          | 0/10 [00:00<?, ?it/s]"
      ]
     },
     "metadata": {},
     "output_type": "display_data"
    },
    {
     "data": {
      "application/vnd.jupyter.widget-view+json": {
       "model_id": "9ef08ef1eee54495bb7f82d593b662a9",
       "version_major": 2,
       "version_minor": 0
      },
      "text/plain": [
       "###47 : 70.97791176683677 :   0%|          | 0/10 [00:00<?, ?it/s]"
      ]
     },
     "metadata": {},
     "output_type": "display_data"
    },
    {
     "data": {
      "application/vnd.jupyter.widget-view+json": {
       "model_id": "5594c36c4e0b4fd59c4a80443358df6c",
       "version_major": 2,
       "version_minor": 0
      },
      "text/plain": [
       "###48 : 72.0008798094789 :   0%|          | 0/10 [00:00<?, ?it/s]"
      ]
     },
     "metadata": {},
     "output_type": "display_data"
    },
    {
     "data": {
      "application/vnd.jupyter.widget-view+json": {
       "model_id": "c808de35e5f346299b229f8155b536c9",
       "version_major": 2,
       "version_minor": 0
      },
      "text/plain": [
       "###49 : 78.56512018666672 :   0%|          | 0/10 [00:00<?, ?it/s]"
      ]
     },
     "metadata": {},
     "output_type": "display_data"
    },
    {
     "data": {
      "application/vnd.jupyter.widget-view+json": {
       "model_id": "40eb318fbd834da486285ffa04109642",
       "version_major": 2,
       "version_minor": 0
      },
      "text/plain": [
       "###50 : 72.19612213130281 :   0%|          | 0/10 [00:00<?, ?it/s]"
      ]
     },
     "metadata": {},
     "output_type": "display_data"
    },
    {
     "data": {
      "application/vnd.jupyter.widget-view+json": {
       "model_id": "698d4d1dabed48f3b14944822214baf3",
       "version_major": 2,
       "version_minor": 0
      },
      "text/plain": [
       "###51 : 71.60048357317089 :   0%|          | 0/10 [00:00<?, ?it/s]"
      ]
     },
     "metadata": {},
     "output_type": "display_data"
    },
    {
     "data": {
      "application/vnd.jupyter.widget-view+json": {
       "model_id": "e4bd908ff2934654b5cce6edf8ba8927",
       "version_major": 2,
       "version_minor": 0
      },
      "text/plain": [
       "###52 : 71.38352787139769 :   0%|          | 0/10 [00:00<?, ?it/s]"
      ]
     },
     "metadata": {},
     "output_type": "display_data"
    },
    {
     "data": {
      "application/vnd.jupyter.widget-view+json": {
       "model_id": "5a84aa9c7caa4b258601c2b4bf0fec9e",
       "version_major": 2,
       "version_minor": 0
      },
      "text/plain": [
       "###53 : 68.66298327833485 :   0%|          | 0/10 [00:00<?, ?it/s]"
      ]
     },
     "metadata": {},
     "output_type": "display_data"
    },
    {
     "data": {
      "application/vnd.jupyter.widget-view+json": {
       "model_id": "7c79181f09ff441fb8826a34b7800546",
       "version_major": 2,
       "version_minor": 0
      },
      "text/plain": [
       "###54 : 71.67916944953053 :   0%|          | 0/10 [00:00<?, ?it/s]"
      ]
     },
     "metadata": {},
     "output_type": "display_data"
    },
    {
     "data": {
      "application/vnd.jupyter.widget-view+json": {
       "model_id": "2ac6d079a40d4988a129525c88db3844",
       "version_major": 2,
       "version_minor": 0
      },
      "text/plain": [
       "###55 : 87.53631522067911 :   0%|          | 0/10 [00:00<?, ?it/s]"
      ]
     },
     "metadata": {},
     "output_type": "display_data"
    },
    {
     "data": {
      "application/vnd.jupyter.widget-view+json": {
       "model_id": "6c7406b7ff454ba5b559170e43868671",
       "version_major": 2,
       "version_minor": 0
      },
      "text/plain": [
       "###56 : 68.92678693076914 :   0%|          | 0/10 [00:00<?, ?it/s]"
      ]
     },
     "metadata": {},
     "output_type": "display_data"
    },
    {
     "data": {
      "application/vnd.jupyter.widget-view+json": {
       "model_id": "09873bb1b22644e5904352afe2d89587",
       "version_major": 2,
       "version_minor": 0
      },
      "text/plain": [
       "###57 : 64.72087386266506 :   0%|          | 0/10 [00:00<?, ?it/s]"
      ]
     },
     "metadata": {},
     "output_type": "display_data"
    },
    {
     "data": {
      "application/vnd.jupyter.widget-view+json": {
       "model_id": "856ebfe6302b462aa43b94c8e92fe72b",
       "version_major": 2,
       "version_minor": 0
      },
      "text/plain": [
       "###58 : 80.54599323441185 :   0%|          | 0/10 [00:00<?, ?it/s]"
      ]
     },
     "metadata": {},
     "output_type": "display_data"
    },
    {
     "data": {
      "application/vnd.jupyter.widget-view+json": {
       "model_id": "5b0225c736664520a12c3f123091cb50",
       "version_major": 2,
       "version_minor": 0
      },
      "text/plain": [
       "###59 : 81.36671113484128 :   0%|          | 0/10 [00:00<?, ?it/s]"
      ]
     },
     "metadata": {},
     "output_type": "display_data"
    },
    {
     "data": {
      "application/vnd.jupyter.widget-view+json": {
       "model_id": "68289a12c1d24e83a1635a473e02450b",
       "version_major": 2,
       "version_minor": 0
      },
      "text/plain": [
       "###60 : 67.32313593367786 :   0%|          | 0/10 [00:00<?, ?it/s]"
      ]
     },
     "metadata": {},
     "output_type": "display_data"
    },
    {
     "data": {
      "application/vnd.jupyter.widget-view+json": {
       "model_id": "492c894a35ae448ebd7ff25e06fc35f6",
       "version_major": 2,
       "version_minor": 0
      },
      "text/plain": [
       "###61 : 72.6757865482601 :   0%|          | 0/10 [00:00<?, ?it/s]"
      ]
     },
     "metadata": {},
     "output_type": "display_data"
    },
    {
     "data": {
      "application/vnd.jupyter.widget-view+json": {
       "model_id": "c0a8064a230b4bfe8dd84d2684e2e566",
       "version_major": 2,
       "version_minor": 0
      },
      "text/plain": [
       "###62 : 74.365372976879 :   0%|          | 0/10 [00:00<?, ?it/s]"
      ]
     },
     "metadata": {},
     "output_type": "display_data"
    },
    {
     "data": {
      "application/vnd.jupyter.widget-view+json": {
       "model_id": "d76d5f76aed34ce08929139fd41b2398",
       "version_major": 2,
       "version_minor": 0
      },
      "text/plain": [
       "###63 : 82.61882011095086 :   0%|          | 0/10 [00:00<?, ?it/s]"
      ]
     },
     "metadata": {},
     "output_type": "display_data"
    },
    {
     "data": {
      "application/vnd.jupyter.widget-view+json": {
       "model_id": "dfc4e0c1a168440ea1a31cdba4300ab4",
       "version_major": 2,
       "version_minor": 0
      },
      "text/plain": [
       "###64 : 83.79281738125069 :   0%|          | 0/10 [00:00<?, ?it/s]"
      ]
     },
     "metadata": {},
     "output_type": "display_data"
    },
    {
     "data": {
      "application/vnd.jupyter.widget-view+json": {
       "model_id": "f0afd32ed6de4695aeb40d74f878f816",
       "version_major": 2,
       "version_minor": 0
      },
      "text/plain": [
       "###65 : 69.90184820804663 :   0%|          | 0/10 [00:00<?, ?it/s]"
      ]
     },
     "metadata": {},
     "output_type": "display_data"
    },
    {
     "data": {
      "application/vnd.jupyter.widget-view+json": {
       "model_id": "ad56e0545a154f48972c244be1ed23d5",
       "version_major": 2,
       "version_minor": 0
      },
      "text/plain": [
       "###66 : 84.95984113332285 :   0%|          | 0/10 [00:00<?, ?it/s]"
      ]
     },
     "metadata": {},
     "output_type": "display_data"
    },
    {
     "data": {
      "application/vnd.jupyter.widget-view+json": {
       "model_id": "3164fa72daae4ba38fc90f0c6b127d74",
       "version_major": 2,
       "version_minor": 0
      },
      "text/plain": [
       "###67 : 79.08509976283092 :   0%|          | 0/10 [00:00<?, ?it/s]"
      ]
     },
     "metadata": {},
     "output_type": "display_data"
    },
    {
     "data": {
      "application/vnd.jupyter.widget-view+json": {
       "model_id": "79637b8604c440abacc94867dd2c2fdd",
       "version_major": 2,
       "version_minor": 0
      },
      "text/plain": [
       "###68 : 68.60195023022987 :   0%|          | 0/10 [00:00<?, ?it/s]"
      ]
     },
     "metadata": {},
     "output_type": "display_data"
    },
    {
     "data": {
      "application/vnd.jupyter.widget-view+json": {
       "model_id": "2b023a3156ac421fb35ee0b4a15758c9",
       "version_major": 2,
       "version_minor": 0
      },
      "text/plain": [
       "###69 : 71.24827275413358 :   0%|          | 0/10 [00:00<?, ?it/s]"
      ]
     },
     "metadata": {},
     "output_type": "display_data"
    },
    {
     "data": {
      "application/vnd.jupyter.widget-view+json": {
       "model_id": "5e94caa7350c47d78f4e2d2de1a49d74",
       "version_major": 2,
       "version_minor": 0
      },
      "text/plain": [
       "###70 : 84.6442328952465 :   0%|          | 0/10 [00:00<?, ?it/s]"
      ]
     },
     "metadata": {},
     "output_type": "display_data"
    },
    {
     "data": {
      "application/vnd.jupyter.widget-view+json": {
       "model_id": "e55d0cbe52214389a93c62be7bb2e5ca",
       "version_major": 2,
       "version_minor": 0
      },
      "text/plain": [
       "###71 : 71.50686250989645 :   0%|          | 0/10 [00:00<?, ?it/s]"
      ]
     },
     "metadata": {},
     "output_type": "display_data"
    },
    {
     "data": {
      "application/vnd.jupyter.widget-view+json": {
       "model_id": "6dc5a51d34f1485d9bfbe95cecd2a4ed",
       "version_major": 2,
       "version_minor": 0
      },
      "text/plain": [
       "###72 : 68.85701193411296 :   0%|          | 0/10 [00:00<?, ?it/s]"
      ]
     },
     "metadata": {},
     "output_type": "display_data"
    },
    {
     "data": {
      "application/vnd.jupyter.widget-view+json": {
       "model_id": "2d5955746cec4dc09433dc75f85744cd",
       "version_major": 2,
       "version_minor": 0
      },
      "text/plain": [
       "###73 : 72.70185148266586 :   0%|          | 0/10 [00:00<?, ?it/s]"
      ]
     },
     "metadata": {},
     "output_type": "display_data"
    },
    {
     "data": {
      "application/vnd.jupyter.widget-view+json": {
       "model_id": "4d940887622e44759b2ebcc203b281fe",
       "version_major": 2,
       "version_minor": 0
      },
      "text/plain": [
       "###74 : 69.12259053263291 :   0%|          | 0/10 [00:00<?, ?it/s]"
      ]
     },
     "metadata": {},
     "output_type": "display_data"
    },
    {
     "data": {
      "application/vnd.jupyter.widget-view+json": {
       "model_id": "7c770743b4494d1caafa10dc0c92f524",
       "version_major": 2,
       "version_minor": 0
      },
      "text/plain": [
       "###75 : 83.84251626171323 :   0%|          | 0/10 [00:00<?, ?it/s]"
      ]
     },
     "metadata": {},
     "output_type": "display_data"
    },
    {
     "data": {
      "application/vnd.jupyter.widget-view+json": {
       "model_id": "af067c497b0c4415adab3796c835c242",
       "version_major": 2,
       "version_minor": 0
      },
      "text/plain": [
       "###76 : 66.26243821665632 :   0%|          | 0/10 [00:00<?, ?it/s]"
      ]
     },
     "metadata": {},
     "output_type": "display_data"
    },
    {
     "data": {
      "application/vnd.jupyter.widget-view+json": {
       "model_id": "f60da00634594062be1dbf06f42fbdd1",
       "version_major": 2,
       "version_minor": 0
      },
      "text/plain": [
       "###77 : 67.57270208452587 :   0%|          | 0/10 [00:00<?, ?it/s]"
      ]
     },
     "metadata": {},
     "output_type": "display_data"
    },
    {
     "data": {
      "application/vnd.jupyter.widget-view+json": {
       "model_id": "a0dfb6d3115b481fad434ac9bb1f6283",
       "version_major": 2,
       "version_minor": 0
      },
      "text/plain": [
       "###78 : 71.42780153426347 :   0%|          | 0/10 [00:00<?, ?it/s]"
      ]
     },
     "metadata": {},
     "output_type": "display_data"
    },
    {
     "data": {
      "application/vnd.jupyter.widget-view+json": {
       "model_id": "4eacc9dfaff9415db80c2560dab0c3f9",
       "version_major": 2,
       "version_minor": 0
      },
      "text/plain": [
       "###79 : 69.04727761403294 :   0%|          | 0/10 [00:00<?, ?it/s]"
      ]
     },
     "metadata": {},
     "output_type": "display_data"
    },
    {
     "data": {
      "application/vnd.jupyter.widget-view+json": {
       "model_id": "307e8932fb6a43328ac6472a657f1521",
       "version_major": 2,
       "version_minor": 0
      },
      "text/plain": [
       "###80 : 68.20622680617697 :   0%|          | 0/10 [00:00<?, ?it/s]"
      ]
     },
     "metadata": {},
     "output_type": "display_data"
    },
    {
     "data": {
      "application/vnd.jupyter.widget-view+json": {
       "model_id": "4b367ea19ab6405a9c6894bf7bf27560",
       "version_major": 2,
       "version_minor": 0
      },
      "text/plain": [
       "###81 : 71.73355567504557 :   0%|          | 0/10 [00:00<?, ?it/s]"
      ]
     },
     "metadata": {},
     "output_type": "display_data"
    },
    {
     "data": {
      "application/vnd.jupyter.widget-view+json": {
       "model_id": "092f90895b9c47bc96a56b223dd1a868",
       "version_major": 2,
       "version_minor": 0
      },
      "text/plain": [
       "###82 : 72.55739399836261 :   0%|          | 0/10 [00:00<?, ?it/s]"
      ]
     },
     "metadata": {},
     "output_type": "display_data"
    },
    {
     "data": {
      "application/vnd.jupyter.widget-view+json": {
       "model_id": "477099352e5b4795b45a93186317c1cf",
       "version_major": 2,
       "version_minor": 0
      },
      "text/plain": [
       "###83 : 83.81326882887532 :   0%|          | 0/10 [00:00<?, ?it/s]"
      ]
     },
     "metadata": {},
     "output_type": "display_data"
    },
    {
     "data": {
      "application/vnd.jupyter.widget-view+json": {
       "model_id": "0ad059d754e4411e92a7a6ab818d2d9b",
       "version_major": 2,
       "version_minor": 0
      },
      "text/plain": [
       "###84 : 61.7050743875747 :   0%|          | 0/10 [00:00<?, ?it/s]"
      ]
     },
     "metadata": {},
     "output_type": "display_data"
    },
    {
     "data": {
      "application/vnd.jupyter.widget-view+json": {
       "model_id": "ec03b2b775b04a7f82f8f292bb48572c",
       "version_major": 2,
       "version_minor": 0
      },
      "text/plain": [
       "###85 : 84.41946966428594 :   0%|          | 0/10 [00:00<?, ?it/s]"
      ]
     },
     "metadata": {},
     "output_type": "display_data"
    },
    {
     "data": {
      "application/vnd.jupyter.widget-view+json": {
       "model_id": "3da9012835d648d58cf985a5175cdbf1",
       "version_major": 2,
       "version_minor": 0
      },
      "text/plain": [
       "###86 : 64.09015399652006 :   0%|          | 0/10 [00:00<?, ?it/s]"
      ]
     },
     "metadata": {},
     "output_type": "display_data"
    },
    {
     "data": {
      "application/vnd.jupyter.widget-view+json": {
       "model_id": "c42eca508fae40d4931099927abad88f",
       "version_major": 2,
       "version_minor": 0
      },
      "text/plain": [
       "###87 : 82.41536234535351 :   0%|          | 0/10 [00:00<?, ?it/s]"
      ]
     },
     "metadata": {},
     "output_type": "display_data"
    },
    {
     "data": {
      "application/vnd.jupyter.widget-view+json": {
       "model_id": "69755c27bd414102959e2e3fa7594b84",
       "version_major": 2,
       "version_minor": 0
      },
      "text/plain": [
       "###88 : 82.33305812330383 :   0%|          | 0/10 [00:00<?, ?it/s]"
      ]
     },
     "metadata": {},
     "output_type": "display_data"
    },
    {
     "data": {
      "application/vnd.jupyter.widget-view+json": {
       "model_id": "4212fb1596634e2aa3f17a3cf930bf19",
       "version_major": 2,
       "version_minor": 0
      },
      "text/plain": [
       "###89 : 72.13914635897342 :   0%|          | 0/10 [00:00<?, ?it/s]"
      ]
     },
     "metadata": {},
     "output_type": "display_data"
    },
    {
     "data": {
      "application/vnd.jupyter.widget-view+json": {
       "model_id": "c5326dafac71472fb4ef11f9a4ee5c4a",
       "version_major": 2,
       "version_minor": 0
      },
      "text/plain": [
       "###90 : 82.23116133241086 :   0%|          | 0/10 [00:00<?, ?it/s]"
      ]
     },
     "metadata": {},
     "output_type": "display_data"
    },
    {
     "data": {
      "application/vnd.jupyter.widget-view+json": {
       "model_id": "966dd7040a614cf98ddffc12ce1b0cc7",
       "version_major": 2,
       "version_minor": 0
      },
      "text/plain": [
       "###91 : 84.374103956854 :   0%|          | 0/10 [00:00<?, ?it/s]"
      ]
     },
     "metadata": {},
     "output_type": "display_data"
    },
    {
     "data": {
      "application/vnd.jupyter.widget-view+json": {
       "model_id": "6c2a52cbab9e423a8a88d36afeeb2085",
       "version_major": 2,
       "version_minor": 0
      },
      "text/plain": [
       "###92 : 83.04306097913167 :   0%|          | 0/10 [00:00<?, ?it/s]"
      ]
     },
     "metadata": {},
     "output_type": "display_data"
    },
    {
     "data": {
      "application/vnd.jupyter.widget-view+json": {
       "model_id": "50c05ea0b3d943909dd6bcb1eebe596f",
       "version_major": 2,
       "version_minor": 0
      },
      "text/plain": [
       "###93 : 83.40840362525185 :   0%|          | 0/10 [00:00<?, ?it/s]"
      ]
     },
     "metadata": {},
     "output_type": "display_data"
    },
    {
     "data": {
      "application/vnd.jupyter.widget-view+json": {
       "model_id": "eb4f02e4c9b54e819cb29c8c769341f2",
       "version_major": 2,
       "version_minor": 0
      },
      "text/plain": [
       "###94 : 80.8764054178663 :   0%|          | 0/10 [00:00<?, ?it/s]"
      ]
     },
     "metadata": {},
     "output_type": "display_data"
    },
    {
     "data": {
      "application/vnd.jupyter.widget-view+json": {
       "model_id": "0e17eb045bca474da1ba16139080136a",
       "version_major": 2,
       "version_minor": 0
      },
      "text/plain": [
       "###95 : 65.06089210192754 :   0%|          | 0/10 [00:00<?, ?it/s]"
      ]
     },
     "metadata": {},
     "output_type": "display_data"
    },
    {
     "data": {
      "application/vnd.jupyter.widget-view+json": {
       "model_id": "69796c1c1fbc4bea82b59e15c74b5f77",
       "version_major": 2,
       "version_minor": 0
      },
      "text/plain": [
       "###96 : 84.9646742823922 :   0%|          | 0/10 [00:00<?, ?it/s]"
      ]
     },
     "metadata": {},
     "output_type": "display_data"
    },
    {
     "data": {
      "application/vnd.jupyter.widget-view+json": {
       "model_id": "fd15130040074bbd870f598bbe77bde3",
       "version_major": 2,
       "version_minor": 0
      },
      "text/plain": [
       "###97 : 77.04451018119548 :   0%|          | 0/10 [00:00<?, ?it/s]"
      ]
     },
     "metadata": {},
     "output_type": "display_data"
    },
    {
     "data": {
      "application/vnd.jupyter.widget-view+json": {
       "model_id": "ed426bc7916a4938a1d129a98b9831b2",
       "version_major": 2,
       "version_minor": 0
      },
      "text/plain": [
       "###98 : 70.5983749951768 :   0%|          | 0/10 [00:00<?, ?it/s]"
      ]
     },
     "metadata": {},
     "output_type": "display_data"
    },
    {
     "data": {
      "application/vnd.jupyter.widget-view+json": {
       "model_id": "b387a0d1e4e54c54b9439afb88e3a253",
       "version_major": 2,
       "version_minor": 0
      },
      "text/plain": [
       "###99 : 69.19663303287334 :   0%|          | 0/10 [00:00<?, ?it/s]"
      ]
     },
     "metadata": {},
     "output_type": "display_data"
    },
    {
     "data": {
      "image/png": "[encoded data removed]",
      "text/plain": [
       "<Figure size 640x480 with 1 Axes>"
      ]
     },
     "metadata": {},
     "output_type": "display_data"
    }
   ],
   "source": [
    "def train_on_policy_agent(env, agent, num_episodes):\n",
    "    return_list = []\n",
    "    episode_return = 0\n",
    "\n",
    "    for epoch in range(num_episodes//10):\n",
    "    \n",
    "        for i in tqdm(range(10), position=0, desc=f\"###{epoch} : {episode_return} \"):\n",
    "            episode_return = 0\n",
    "            transition_dict = {'states': [], 'actions': [], 'next_states': [], 'rewards': [], 'dones': []}\n",
    "            state, _ = env.reset()\n",
    "            done , truncated = False, False\n",
    "            while not done and not truncated:\n",
    "                action = agent.take_action(state)\n",
    "                next_state, reward, done, truncated, info = env.step(action)\n",
    "                # reward = shaped_reward(state, reward)\n",
    "                \n",
    "    \n",
    "                transition_dict['states'].append(state)\n",
    "                transition_dict['actions'].append(action)\n",
    "                transition_dict['next_states'].append(next_state)\n",
    "                transition_dict['rewards'].append(reward)\n",
    "                transition_dict['dones'].append(done)\n",
    "                state = next_state\n",
    "                episode_return += reward\n",
    "            return_list.append(episode_return)\n",
    "            agent.update(transition_dict)\n",
    "\n",
    "\n",
    "    return return_list\n",
    "        \n",
    "return_list = train_on_policy_agent(env, agent, num_episodes)"
   ]
  },
  {
   "cell_type": "code",
   "execution_count": 295,
   "id": "6fad1a54-cf7c-4062-b51c-8687380251e9",
   "metadata": {},
   "outputs": [
    {
     "data": {
      "image/png": "[encoded data removed]",
      "text/plain": [
       "<Figure size 640x480 with 1 Axes>"
      ]
     },
     "metadata": {},
     "output_type": "display_data"
    }
   ],
   "source": [
    "plt.plot(return_list)\n",
    "plt.show()"
   ]
  },
  {
   "cell_type": "code",
   "execution_count": null,
   "id": "dd2750bc-4eb2-4a62-8c79-db79cbaf36e5",
   "metadata": {},
   "outputs": [
    {
     "name": "stdout",
     "output_type": "stream",
     "text": [
      "Starting observation: [-0.42559728  0.        ]\n"
     ]
    }
   ],
   "source": [
    "def test_agent(agent, env_name):\n",
    "    env = gym.make(env_name, render_mode=\"human\")\n",
    "\n",
    "    state, info = env.reset()\n",
    "\n",
    "    print(f\"Starting observation: {state}\")\n",
    "\n",
    "    episode_over = False\n",
    "    total_reward = 0\n",
    "    action_list = []\n",
    "\n",
    "    while not episode_over:\n",
    "        action = agent.take_action(state, eval = True)\n",
    "        state, reward, terminated, truncated, info = env.step(action)\n",
    "        total_reward += reward\n",
    "        episode_over = terminated or truncated\n",
    "        # print(f\"{action=}\")\n",
    "        action_list.append(action)\n",
    "\n",
    "    print(f\"Episode finished! Total reward: {total_reward}\")\n",
    "    env.close()\n",
    "    return action_list\n",
    "    \n",
    "\n",
    "action_list = test_agent(agent, env_name)"
   ]
  },
  {
   "cell_type": "code",
   "execution_count": 296,
   "id": "9c0904ea-2288-4a2a-aa4e-266ca9212fd0",
   "metadata": {},
   "outputs": [
    {
     "ename": "NameError",
     "evalue": "name 'action_list' is not defined",
     "output_type": "error",
     "traceback": [
      "\u001b[31m---------------------------------------------------------------------------\u001b[39m",
      "\u001b[31mNameError\u001b[39m                                 Traceback (most recent call last)",
      "\u001b[36mCell\u001b[39m\u001b[36m \u001b[39m\u001b[32mIn[296]\u001b[39m\u001b[32m, line 1\u001b[39m\n\u001b[32m----> \u001b[39m\u001b[32m1\u001b[39m plt.hist(\u001b[43maction_list\u001b[49m)\n",
      "\u001b[31mNameError\u001b[39m: name 'action_list' is not defined"
     ]
    }
   ],
   "source": [
    "plt.hist(action_list)"
   ]
  },
  {
   "cell_type": "code",
   "execution_count": 286,
   "id": "93a2a1a2-d131-4eb0-8539-debdb5f56c4b",
   "metadata": {},
   "outputs": [],
   "source": [
    "plt.hist(action_list, bins=30, density=True, alpha=0.7)\n",
    "plt.show()"
   ]
  },
  {
   "cell_type": "code",
   "execution_count": null,
   "id": "882f3861-a1ed-466b-87b9-dd65c1213ea4",
   "metadata": {},
   "outputs": [],
   "source": []
  },
  {
   "cell_type": "code",
   "execution_count": null,
   "id": "257a1ae2-c9a8-4189-bf85-69e332129075",
   "metadata": {},
   "outputs": [],
   "source": []
  },
  {
   "cell_type": "code",
   "execution_count": null,
   "id": "6b136c6a-7f35-48b5-a6b2-6d4eb8679ec4",
   "metadata": {},
   "outputs": [],
   "source": []
  },
  {
   "cell_type": "code",
   "execution_count": null,
   "id": "2c49addc-91c4-499f-80d4-a2d1f2d6bf8c",
   "metadata": {},
   "outputs": [],
   "source": []
  }
 ],
 "metadata": {
  "kernelspec": {
   "display_name": "rl",
   "language": "python",
   "name": "rl"
  },
  "language_info": {
   "codemirror_mode": {
    "name": "ipython",
    "version": 3
   },
   "file_extension": ".py",
   "mimetype": "text/x-python",
   "name": "python",
   "nbconvert_exporter": "python",
   "pygments_lexer": "ipython3",
   "version": "3.12.9"
  }
 },
 "nbformat": 4,
 "nbformat_minor": 5
}

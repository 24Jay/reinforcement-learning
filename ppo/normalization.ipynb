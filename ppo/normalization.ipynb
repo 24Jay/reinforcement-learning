{
 "cells": [
  {
   "cell_type": "markdown",
   "id": "5c1e1f7d-6d18-43e4-a4b1-d14b052be775",
   "metadata": {},
   "source": [
    "# LayerNorm的原理\n",
    "LayerNorm对每个样本的所有特征进行归一化处理：\n",
    "- 计算所有特征的均值$\\mu$和方差$\\sigma^2$\n",
    "- 归一化：$y=\\cfrac{y-\\mu}{\\sqrt{\\sigma^2 + \\epsilon}}$\n",
    "- 缩放和平移：$y=\\gamma*y + \\beta$（$\\gamma$和$\\beta$都是可以学习的参数）\n",
    "\n",
    "# pre-norm和post-norm"
   ]
  },
  {
   "cell_type": "markdown",
   "id": "b42e5d37-1eb7-412b-9fd1-dcef9d81fbaa",
   "metadata": {},
   "source": [
    "## BatchNorm的原理"
   ]
  },
  {
   "cell_type": "code",
   "execution_count": 17,
   "id": "f0585f8b-af54-47eb-9373-20cdb45b05dd",
   "metadata": {},
   "outputs": [],
   "source": [
    "import torch\n",
    "import torch.nn as nn\n",
    "import numpy as np"
   ]
  },
  {
   "cell_type": "markdown",
   "id": "3a807cc0-7226-4b8f-8c63-4000a725b79c",
   "metadata": {},
   "source": [
    "## 1. pytorch LayerNorm"
   ]
  },
  {
   "cell_type": "code",
   "execution_count": 15,
   "id": "80ae487d-1ca2-474b-8ac2-c0e94b85c1c5",
   "metadata": {},
   "outputs": [
    {
     "name": "stdout",
     "output_type": "stream",
     "text": [
      "input_tensor=tensor([[[ 0.2377,  2.6934, -0.8230,  0.0745,  1.0357, -0.6654,  0.0215,\n",
      "           0.4228],\n",
      "         [-0.8215, -0.6647,  1.2379, -1.4070,  0.3720,  0.9331, -0.0539,\n",
      "           0.5375]],\n",
      "\n",
      "        [[-0.2841,  0.6137,  0.9781, -0.0870, -0.0379,  0.2336,  0.3014,\n",
      "          -0.0584],\n",
      "         [-1.2883, -0.6146, -0.6878,  0.6659,  0.9041, -0.8015,  0.5935,\n",
      "           0.2950]],\n",
      "\n",
      "        [[ 0.1814,  0.4158,  0.8810,  0.7697, -0.8246, -0.5746, -0.2295,\n",
      "           1.5199],\n",
      "         [ 0.0037, -1.3735, -0.0878, -0.8832, -0.6735, -0.2526,  1.2561,\n",
      "           0.5447]]])\n",
      "output_tensor=tensor([[[-0.1324,  2.2409, -1.1574, -0.2901,  0.6388, -1.0051, -0.3413,\n",
      "           0.0466],\n",
      "         [-0.9738, -0.7916,  1.4188, -1.6539,  0.4128,  1.0647, -0.0820,\n",
      "           0.6050]],\n",
      "\n",
      "        [[-1.2546,  1.0370,  1.9673, -0.7516, -0.6263,  0.0667,  0.2400,\n",
      "          -0.6785],\n",
      "         [-1.5214, -0.6466, -0.7416,  1.0163,  1.3256, -0.8893,  0.9223,\n",
      "           0.5347]],\n",
      "\n",
      "        [[-0.1163,  0.2006,  0.8297,  0.6792, -1.4766, -1.1385, -0.6719,\n",
      "           1.6936],\n",
      "         [ 0.2414, -1.5370,  0.1233, -0.9039, -0.6330, -0.0896,  1.8587,\n",
      "           0.9401]]], grad_fn=<NativeLayerNormBackward0>)\n"
     ]
    }
   ],
   "source": [
    "layer_norm = nn.LayerNorm(normalized_shape = 8)\n",
    "input_tensor = torch.randn(3, 2, 8)\n",
    "print(f\"{input_tensor=}\")\n",
    "\n",
    "output_tensor = layer_norm(input_tensor)\n",
    "print(f\"{output_tensor=}\")"
   ]
  },
  {
   "cell_type": "markdown",
   "id": "1e510b2e-c25a-4475-aec5-d79f2ad3f9f4",
   "metadata": {},
   "source": [
    "## 2. 基于numpy和pytorch实现LayerNorm"
   ]
  },
  {
   "cell_type": "code",
   "execution_count": 59,
   "id": "76fb6fde-87a5-4505-a3a2-983ce5a3ef35",
   "metadata": {},
   "outputs": [
    {
     "data": {
      "text/plain": [
       "array([[[-1.3235222e-01,  2.2409232e+00, -1.1574111e+00, -2.9011825e-01,\n",
       "          6.3881660e-01, -1.0051035e+00, -3.4130612e-01,  4.6551220e-02],\n",
       "        [ 2.5678658e-01,  3.1096728e+00, -9.7542435e-01,  6.7137904e-02,\n",
       "          1.1837994e+00, -7.9233730e-01,  5.6056031e-03,  4.7184429e-01]],\n",
       "\n",
       "       [[ 7.7306367e-02,  6.3458858e+00, -2.6302016e+00, -3.3940420e-01,\n",
       "          2.1142097e+00, -2.2279088e+00, -4.7460771e-01,  5.4984754e-01],\n",
       "        [ 4.6021900e-01,  3.6491699e+00, -9.1714418e-01,  2.4823001e-01,\n",
       "          1.4964322e+00, -7.1248984e-01,  1.7944930e-01,  7.0061010e-01]],\n",
       "\n",
       "       [[-4.0149562e-02,  3.2803783e+00, -1.4743431e+00, -2.6088524e-01,\n",
       "          1.0388181e+00, -1.2612447e+00, -3.3250386e-01,  2.1016012e-01],\n",
       "        [ 5.4358447e-01,  3.7147055e+00, -8.2607758e-01,  3.3278081e-01,\n",
       "          1.5740042e+00, -6.2256747e-01,  2.6438469e-01,  7.8263152e-01]]],\n",
       "      dtype=float32)"
      ]
     },
     "execution_count": 59,
     "metadata": {},
     "output_type": "execute_result"
    }
   ],
   "source": [
    "def layer_norm_np(x):\n",
    "    \"\"\"\n",
    "    batch, seq_len, d_model\n",
    "    \"\"\"\n",
    "    m = np.mean(x, axis=-1, keepdims=True)\n",
    "    sigma = np.std(x, axis=2, keepdims=True)\n",
    "    n = (a - m)/sigma\n",
    "    return n\n",
    "    \n",
    "layer_norm_np(input_tensor.numpy())"
   ]
  },
  {
   "cell_type": "markdown",
   "id": "43755619-eacb-47dd-913c-9f5868a90daa",
   "metadata": {},
   "source": [
    "#### 有偏方差和无偏方差\n",
    "\n",
    "- unbiased = True（默认）无偏方差：使用自由度n-1进行归一化$var = \\cfrac{\\sum(x - mean)^2}{n-1}$\n",
    "- unbiased = False有偏方差：使用元素数量n进行归一化$var = \\cfrac{\\sum(x - mean)^2}{n}$"
   ]
  },
  {
   "cell_type": "code",
   "execution_count": 60,
   "id": "9d96ceaf-881d-479b-83ca-4eac3782fec2",
   "metadata": {},
   "outputs": [],
   "source": [
    "def layer_norm_torch(x):\n",
    "    \"\"\"\n",
    "    batch, seq_len, d_model\n",
    "    \"\"\"\n",
    "    m = input_tensor.mean(dim=-1, keepdim=True)\n",
    "    std = input_tensor.std(dim=-1, keepdim=True, unbiased = False)\n",
    "    n = (input_tensor - m) / std\n",
    "    return n"
   ]
  },
  {
   "cell_type": "code",
   "execution_count": 61,
   "id": "0966b327-6a42-4c2a-bac8-9494afd3ecdf",
   "metadata": {},
   "outputs": [
    {
     "data": {
      "text/plain": [
       "tensor([[[-0.1324,  2.2409, -1.1574, -0.2901,  0.6388, -1.0051, -0.3413,\n",
       "           0.0466],\n",
       "         [-0.9738, -0.7916,  1.4188, -1.6539,  0.4128,  1.0647, -0.0820,\n",
       "           0.6051]],\n",
       "\n",
       "        [[-1.2547,  1.0370,  1.9674, -0.7517, -0.6263,  0.0667,  0.2400,\n",
       "          -0.6785],\n",
       "         [-1.5214, -0.6466, -0.7416,  1.0163,  1.3256, -0.8893,  0.9223,\n",
       "           0.5347]],\n",
       "\n",
       "        [[-0.1163,  0.2006,  0.8298,  0.6792, -1.4766, -1.1385, -0.6719,\n",
       "           1.6937],\n",
       "         [ 0.2414, -1.5370,  0.1233, -0.9039, -0.6330, -0.0896,  1.8587,\n",
       "           0.9401]]])"
      ]
     },
     "execution_count": 61,
     "metadata": {},
     "output_type": "execute_result"
    }
   ],
   "source": [
    "layer_norm_torch(input_tensor)"
   ]
  }
 ],
 "metadata": {
  "kernelspec": {
   "display_name": "rl",
   "language": "python",
   "name": "rl"
  },
  "language_info": {
   "codemirror_mode": {
    "name": "ipython",
    "version": 3
   },
   "file_extension": ".py",
   "mimetype": "text/x-python",
   "name": "python",
   "nbconvert_exporter": "python",
   "pygments_lexer": "ipython3",
   "version": "3.12.9"
  }
 },
 "nbformat": 4,
 "nbformat_minor": 5
}

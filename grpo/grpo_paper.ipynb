{
 "cells": [
  {
   "cell_type": "markdown",
   "id": "0ceca5ba-3efd-4936-9431-2f1fdf72628e",
   "metadata": {},
   "source": [
    "[DeepSeekMath: Pushing the Limits of Mathematical Reasoning in Open Language Models](https://arxiv.org/pdf/2402.03300)"
   ]
  },
  {
   "cell_type": "code",
   "execution_count": null,
   "id": "eabc2fd3-4419-49d5-805e-f75f6e9e119e",
   "metadata": {},
   "outputs": [],
   "source": []
  }
 ],
 "metadata": {
  "kernelspec": {
   "display_name": "Python 3 (ipykernel)",
   "language": "python",
   "name": "python3"
  },
  "language_info": {
   "codemirror_mode": {
    "name": "ipython",
    "version": 3
   },
   "file_extension": ".py",
   "mimetype": "text/x-python",
   "name": "python",
   "nbconvert_exporter": "python",
   "pygments_lexer": "ipython3",
   "version": "3.12.9"
  }
 },
 "nbformat": 4,
 "nbformat_minor": 5
}
